{
 "cells": [
  {
   "cell_type": "code",
   "execution_count": 1,
   "metadata": {},
   "outputs": [],
   "source": [
    "import numpy as np\n",
    "import rebound\n",
    "import sys\n",
    "\n",
    "sys.path.append(\"../\")\n",
    "\n",
    "from binary_planets.constants import *"
   ]
  },
  {
   "cell_type": "code",
   "execution_count": 2,
   "metadata": {},
   "outputs": [],
   "source": [
    "data = np.load(\"../data/compact_systems.npy\", allow_pickle=True)"
   ]
  },
  {
   "cell_type": "code",
   "execution_count": 3,
   "metadata": {},
   "outputs": [
    {
     "data": {
      "text/plain": [
       "{'name': 'K2-138',\n",
       " 'st_mass': 0.94,\n",
       " 'st_upper': 0.02,\n",
       " 'st_lower': -0.02,\n",
       " 'st_lim': 0.0,\n",
       " 'st_ref': '<a refstr=LOPEZ_ET_AL__2019 href=https://ui.adsabs.harvard.edu/abs/2019A&A...631A..90L/abstract target=ref>Lopez et al. 2019</a>',\n",
       " 'mass': array([ 3.1 ,  6.31,  7.92, 12.97,  1.63,  4.32]),\n",
       " 'mass_upper': [1.05, 1.13, 1.39, 1.98, 2.12, 5.26],\n",
       " 'mass_lower': [-1.05, -1.23, -1.35, -1.99, -1.18, -3.03],\n",
       " 'mass_lim': [0.0, 0.0, 0.0, 0.0, 0.0, 0.0],\n",
       " 'r': [1.51, 2.299, 2.39, 3.39, 2.904, 3.013],\n",
       " 'r_upper': [0.11, 0.12, 0.104, 0.156, 0.164, 0.303],\n",
       " 'r_lower': [-0.084, -0.087, -0.084, -0.11, -0.111, -0.251],\n",
       " 'r_lim': [0.0, 0.0, 0.0, 0.0, 0.0, 0.0],\n",
       " 'e': array([0.048, 0.045, 0.043, 0.077, 0.062, 0.059]),\n",
       " 'e_upper': [0.054, 0.051, 0.041, 0.048, 0.064, 0.063],\n",
       " 'e_lower': [-0.033, -0.032, -0.03, -0.049, -0.043, -0.04],\n",
       " 'e_lim': [0.0, 0.0, 0.0, 0.0, 0.0, 0.0],\n",
       " 'a': array([0.03385, 0.04461, 0.05893, 0.0782 , 0.10447, 0.23109]),\n",
       " 'a_upper': [0.00023, 0.0003, 0.0004, 0.00053, 0.0007, 0.00154],\n",
       " 'a_lower': [-0.00029, -0.00038, -0.0005, -0.00066, -0.00088, -0.00196],\n",
       " 'a_lim': [0.0, 0.0, 0.0, 0.0, 0.0, 0.0],\n",
       " 'inc': [87.2, 88.1, 89.0, 88.6, 88.8, 89.4],\n",
       " 'inc_upper': [1.2, 0.7, 0.6, 0.3, 0.2, 0.4],\n",
       " 'inc_lower': [-1.0, -0.7, -0.6, -0.3, -0.2, -0.3],\n",
       " 'inc_lim': [0.0, 0.0, 0.0, 0.0, 0.0, 0.0],\n",
       " 'ref': ['<a refstr=LOPEZ_ET_AL__2019 href=https://ui.adsabs.harvard.edu/abs/2019A&A...631A..90L/abstract target=ref>Lopez et al. 2019</a>',\n",
       "  '<a refstr=LOPEZ_ET_AL__2019 href=https://ui.adsabs.harvard.edu/abs/2019A&A...631A..90L/abstract target=ref>Lopez et al. 2019</a>',\n",
       "  '<a refstr=LOPEZ_ET_AL__2019 href=https://ui.adsabs.harvard.edu/abs/2019A&A...631A..90L/abstract target=ref>Lopez et al. 2019</a>',\n",
       "  '<a refstr=LOPEZ_ET_AL__2019 href=https://ui.adsabs.harvard.edu/abs/2019A&A...631A..90L/abstract target=ref>Lopez et al. 2019</a>',\n",
       "  '<a refstr=LOPEZ_ET_AL__2019 href=https://ui.adsabs.harvard.edu/abs/2019A&A...631A..90L/abstract target=ref>Lopez et al. 2019</a>',\n",
       "  '<a refstr=LOPEZ_ET_AL__2019 href=https://ui.adsabs.harvard.edu/abs/2019A&A...631A..90L/abstract target=ref>Lopez et al. 2019</a>'],\n",
       " 'gap': 0.14389064429610204}"
      ]
     },
     "execution_count": 3,
     "metadata": {},
     "output_type": "execute_result"
    }
   ],
   "source": [
    "data[0]"
   ]
  },
  {
   "cell_type": "code",
   "execution_count": 106,
   "metadata": {},
   "outputs": [],
   "source": [
    "k2 = data[0]\n",
    "\n",
    "sim = rebound.Simulation()\n",
    "sim.units = (\"Msun\", \"km\", \"yr\")\n",
    "sim.integrator = \"leapfrog\"\n",
    "sim.add(m=k2[\"st_mass\"])\n",
    "for i in range(6):\n",
    "    sim.add(m=k2[\"mass\"][i]/MASS_SUN*MASS_E, a=k2[\"a\"][i]*AU_TO_M/1000, e=k2[\"e\"][i], inc=k2[\"inc\"][i], \n",
    "            omega=np.random.rand()*np.pi*2)"
   ]
  },
  {
   "cell_type": "code",
   "execution_count": 107,
   "metadata": {},
   "outputs": [],
   "source": [
    "sim.integrate(100000)"
   ]
  },
  {
   "cell_type": "code",
   "execution_count": 108,
   "metadata": {},
   "outputs": [
    {
     "name": "stdout",
     "output_type": "stream",
     "text": [
      "0.0305646766391085\n",
      "-0.24808052935615632\n",
      "-0.0898804123858309\n",
      "0.10247021811178195\n",
      "-2.6250664143998423\n",
      "0.243774984485951\n"
     ]
    }
   ],
   "source": [
    "p = sim.particles\n",
    "for i in range(1,7):\n",
    "    o = p[i].calculate_orbit(primary=p[0])\n",
    "    print(o.a/AU_TO_M*1000)\n"
   ]
  },
  {
   "cell_type": "code",
   "execution_count": null,
   "metadata": {},
   "outputs": [],
   "source": []
  }
 ],
 "metadata": {
  "kernelspec": {
   "display_name": "Python 3.10.9 ('binary_planets')",
   "language": "python",
   "name": "python3"
  },
  "language_info": {
   "codemirror_mode": {
    "name": "ipython",
    "version": 3
   },
   "file_extension": ".py",
   "mimetype": "text/x-python",
   "name": "python",
   "nbconvert_exporter": "python",
   "pygments_lexer": "ipython3",
   "version": "3.10.9"
  },
  "orig_nbformat": 4,
  "vscode": {
   "interpreter": {
    "hash": "a94a2d6796fe1f06a07d56349f34d60379894b1a92c87cd57aa3a9e203f3f9ca"
   }
  }
 },
 "nbformat": 4,
 "nbformat_minor": 2
}
