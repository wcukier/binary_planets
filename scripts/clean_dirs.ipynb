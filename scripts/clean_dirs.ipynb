{
 "cells": [
  {
   "cell_type": "code",
   "execution_count": 1,
   "metadata": {},
   "outputs": [],
   "source": [
    "import corner\n",
    "import numpy as np\n",
    "from matplotlib import pyplot as plt\n",
    "import json\n",
    "from tqdm import tqdm\n",
    "import sys\n",
    "import shutil\n",
    "\n",
    "sys.path.append(\"../\")\n",
    "\n",
    "import tdpy\n",
    "\n",
    "plt.rcParams.update({\n",
    "  \"text.usetex\": True,\n",
    "  \"font.family\": \"Computer Modern Roman\",\n",
    "  \"font.size\":    8.0\n",
    "})"
   ]
  },
  {
   "cell_type": "code",
   "execution_count": null,
   "metadata": {},
   "outputs": [
    {
     "name": "stderr",
     "output_type": "stream",
     "text": [
      "100%|██████████| 1999/1999 [00:49<00:00, 40.70it/s]\n"
     ]
    },
    {
     "name": "stdout",
     "output_type": "stream",
     "text": [
      "HD 108236 1000\n",
      "\n",
      "\n",
      "HD 108236 Survival Fraction: 0.0 for 1000 systems\n",
      "removing ../output/bin_inj/HD 108236/...\n"
     ]
    },
    {
     "name": "stderr",
     "output_type": "stream",
     "text": [
      "100%|██████████| 999/999 [00:13<00:00, 76.47it/s] \n",
      "100%|██████████| 1999/1999 [00:32<00:00, 60.82it/s] \n"
     ]
    },
    {
     "name": "stdout",
     "output_type": "stream",
     "text": [
      "HD 23472 1000\n",
      "\n",
      "\n",
      "HD 23472 Survival Fraction: 0.0 for 1000 systems\n",
      "removing ../output/bin_inj/HD 23472/...\n"
     ]
    },
    {
     "name": "stderr",
     "output_type": "stream",
     "text": [
      "100%|██████████| 999/999 [00:10<00:00, 92.38it/s] \n",
      "100%|██████████| 1999/1999 [00:10<00:00, 194.36it/s]\n"
     ]
    },
    {
     "name": "stdout",
     "output_type": "stream",
     "text": [
      "K2-133 1000\n",
      "\n",
      "\n",
      "K2-133 Survival Fraction: 0.0 for 1000 systems\n",
      "removing ../output/bin_inj/K2-133/...\n"
     ]
    },
    {
     "name": "stderr",
     "output_type": "stream",
     "text": [
      "100%|██████████| 999/999 [00:02<00:00, 348.30it/s]\n",
      "100%|██████████| 1999/1999 [00:13<00:00, 149.13it/s]\n"
     ]
    },
    {
     "name": "stdout",
     "output_type": "stream",
     "text": [
      "K2-138 1000\n",
      "\n",
      "\n",
      "K2-138 Survival Fraction: 0.0 for 1000 systems\n",
      "removing ../output/bin_inj/K2-138/...\n"
     ]
    },
    {
     "name": "stderr",
     "output_type": "stream",
     "text": [
      "100%|██████████| 999/999 [00:03<00:00, 281.93it/s]\n",
      "100%|██████████| 1999/1999 [00:10<00:00, 181.87it/s]\n"
     ]
    },
    {
     "name": "stdout",
     "output_type": "stream",
     "text": [
      "K2-187 1000\n",
      "\n",
      "\n",
      "K2-187 Survival Fraction: 0.0 for 1000 systems\n",
      "removing ../output/bin_inj/K2-187/...\n"
     ]
    },
    {
     "name": "stderr",
     "output_type": "stream",
     "text": [
      "100%|██████████| 999/999 [00:03<00:00, 284.30it/s]\n",
      "100%|██████████| 1999/1999 [00:14<00:00, 138.03it/s] \n"
     ]
    },
    {
     "name": "stdout",
     "output_type": "stream",
     "text": [
      "K2-285 1000\n",
      "\n",
      "\n",
      "K2-285 Survival Fraction: 0.0 for 1000 systems\n",
      "removing ../output/bin_inj/K2-285/...\n"
     ]
    },
    {
     "name": "stderr",
     "output_type": "stream",
     "text": [
      "100%|██████████| 999/999 [00:03<00:00, 268.59it/s]\n",
      "100%|██████████| 1999/1999 [00:09<00:00, 217.27it/s]\n"
     ]
    },
    {
     "name": "stdout",
     "output_type": "stream",
     "text": [
      "K2-72 1000\n",
      "\n",
      "\n",
      "K2-72 Survival Fraction: 0.0 for 1000 systems\n",
      "removing ../output/bin_inj/K2-72/...\n"
     ]
    },
    {
     "name": "stderr",
     "output_type": "stream",
     "text": [
      "100%|██████████| 999/999 [00:03<00:00, 295.73it/s]\n",
      "100%|██████████| 1999/1999 [00:19<00:00, 104.43it/s]\n"
     ]
    },
    {
     "name": "stdout",
     "output_type": "stream",
     "text": [
      "Kepler-324 1000\n",
      "\n",
      "\n",
      "Kepler-324 Survival Fraction: 0.032 for 1000 systems\n"
     ]
    },
    {
     "name": "stderr",
     "output_type": "stream",
     "text": [
      "100%|██████████| 1999/1999 [00:25<00:00, 79.26it/s]\n"
     ]
    },
    {
     "name": "stdout",
     "output_type": "stream",
     "text": [
      "KOI-351 1000\n",
      "\n",
      "\n",
      "KOI-351 Survival Fraction: 0.036 for 1000 systems\n"
     ]
    },
    {
     "name": "stderr",
     "output_type": "stream",
     "text": [
      "100%|██████████| 1999/1999 [00:19<00:00, 100.63it/s]\n"
     ]
    },
    {
     "name": "stdout",
     "output_type": "stream",
     "text": [
      "Kepler-102 1000\n",
      "\n",
      "\n",
      "Kepler-102 Survival Fraction: 0.003 for 1000 systems\n"
     ]
    },
    {
     "name": "stderr",
     "output_type": "stream",
     "text": [
      "100%|██████████| 1999/1999 [00:17<00:00, 115.87it/s]\n"
     ]
    },
    {
     "name": "stdout",
     "output_type": "stream",
     "text": [
      "Kepler-106 1000\n",
      "\n",
      "\n",
      "Kepler-106 Survival Fraction: 0.046 for 1000 systems\n"
     ]
    },
    {
     "name": "stderr",
     "output_type": "stream",
     "text": [
      "100%|██████████| 1999/1999 [00:15<00:00, 126.77it/s]\n"
     ]
    },
    {
     "name": "stdout",
     "output_type": "stream",
     "text": [
      "Kepler-107 1000\n",
      "\n",
      "\n",
      "Kepler-107 Survival Fraction: 0.025 for 1000 systems\n"
     ]
    },
    {
     "name": "stderr",
     "output_type": "stream",
     "text": [
      "100%|██████████| 1999/1999 [00:19<00:00, 100.05it/s]\n"
     ]
    },
    {
     "name": "stdout",
     "output_type": "stream",
     "text": [
      "Kepler-11 1000\n",
      "\n",
      "\n",
      "Kepler-11 Survival Fraction: 0.006 for 1000 systems\n"
     ]
    },
    {
     "name": "stderr",
     "output_type": "stream",
     "text": [
      "100%|██████████| 1999/1999 [00:19<00:00, 104.45it/s] \n"
     ]
    },
    {
     "name": "stdout",
     "output_type": "stream",
     "text": [
      "Kepler-122 1000\n",
      "\n",
      "\n",
      "Kepler-122 Survival Fraction: 0.044 for 1000 systems\n"
     ]
    },
    {
     "name": "stderr",
     "output_type": "stream",
     "text": [
      "100%|██████████| 1999/1999 [00:12<00:00, 155.40it/s]\n"
     ]
    },
    {
     "name": "stdout",
     "output_type": "stream",
     "text": [
      "Kepler-1388 1000\n",
      "\n",
      "\n",
      "Kepler-1388 Survival Fraction: 0.0 for 1000 systems\n",
      "removing ../output/bin_inj/Kepler-1388/...\n"
     ]
    },
    {
     "name": "stderr",
     "output_type": "stream",
     "text": [
      "100%|██████████| 999/999 [00:03<00:00, 271.24it/s]\n",
      "100%|██████████| 1999/1999 [00:28<00:00, 70.89it/s]\n"
     ]
    },
    {
     "name": "stdout",
     "output_type": "stream",
     "text": [
      "Kepler-150 1000\n",
      "\n",
      "\n",
      "Kepler-150 Survival Fraction: 0.276 for 1000 systems\n"
     ]
    },
    {
     "name": "stderr",
     "output_type": "stream",
     "text": [
      "100%|██████████| 1999/1999 [00:16<00:00, 117.87it/s]\n"
     ]
    },
    {
     "name": "stdout",
     "output_type": "stream",
     "text": [
      "Kepler-154 1000\n",
      "\n",
      "\n",
      "Kepler-154 Survival Fraction: 0.045 for 1000 systems\n"
     ]
    },
    {
     "name": "stderr",
     "output_type": "stream",
     "text": [
      "100%|██████████| 1999/1999 [00:12<00:00, 158.10it/s]\n"
     ]
    },
    {
     "name": "stdout",
     "output_type": "stream",
     "text": [
      "Kepler-1542 1000\n",
      "\n",
      "\n",
      "Kepler-1542 Survival Fraction: 0.002 for 1000 systems\n"
     ]
    },
    {
     "name": "stderr",
     "output_type": "stream",
     "text": [
      "100%|██████████| 1999/1999 [00:26<00:00, 76.75it/s]\n"
     ]
    },
    {
     "name": "stdout",
     "output_type": "stream",
     "text": [
      "Kepler-164 1000\n",
      "\n",
      "\n",
      "Kepler-164 Survival Fraction: 0.271 for 1000 systems\n"
     ]
    },
    {
     "name": "stderr",
     "output_type": "stream",
     "text": [
      "100%|██████████| 1999/1999 [00:25<00:00, 79.64it/s]\n"
     ]
    },
    {
     "name": "stdout",
     "output_type": "stream",
     "text": [
      "Kepler-169 1000\n",
      "\n",
      "\n",
      "Kepler-169 Survival Fraction: 0.03 for 1000 systems\n"
     ]
    },
    {
     "name": "stderr",
     "output_type": "stream",
     "text": [
      "100%|██████████| 1999/1999 [00:23<00:00, 83.63it/s]\n"
     ]
    },
    {
     "name": "stdout",
     "output_type": "stream",
     "text": [
      "Kepler-172 1000\n",
      "\n",
      "\n",
      "Kepler-172 Survival Fraction: 0.089 for 1000 systems\n"
     ]
    },
    {
     "name": "stderr",
     "output_type": "stream",
     "text": [
      "100%|██████████| 1999/1999 [00:12<00:00, 155.59it/s]\n"
     ]
    },
    {
     "name": "stdout",
     "output_type": "stream",
     "text": [
      "Kepler-176 1000\n",
      "\n",
      "\n",
      "Kepler-176 Survival Fraction: 0.0 for 1000 systems\n",
      "removing ../output/bin_inj/Kepler-176/...\n"
     ]
    },
    {
     "name": "stderr",
     "output_type": "stream",
     "text": [
      "100%|██████████| 999/999 [00:03<00:00, 271.34it/s]\n",
      "100%|██████████| 1999/1999 [00:09<00:00, 210.87it/s]\n"
     ]
    },
    {
     "name": "stdout",
     "output_type": "stream",
     "text": [
      "Kepler-186 1000\n",
      "\n",
      "\n",
      "Kepler-186 Survival Fraction: 0.0 for 1000 systems\n",
      "removing ../output/bin_inj/Kepler-186/...\n"
     ]
    },
    {
     "name": "stderr",
     "output_type": "stream",
     "text": [
      "100%|██████████| 999/999 [00:03<00:00, 277.13it/s]\n",
      "100%|██████████| 1999/1999 [00:10<00:00, 193.25it/s]\n"
     ]
    },
    {
     "name": "stdout",
     "output_type": "stream",
     "text": [
      "Kepler-1987 1000\n",
      "\n",
      "\n",
      "Kepler-1987 Survival Fraction: 0.0 for 1000 systems\n",
      "removing ../output/bin_inj/Kepler-1987/...\n"
     ]
    },
    {
     "name": "stderr",
     "output_type": "stream",
     "text": [
      "100%|██████████| 999/999 [00:03<00:00, 270.50it/s]\n",
      "100%|██████████| 1999/1999 [00:19<00:00, 100.55it/s]\n"
     ]
    },
    {
     "name": "stdout",
     "output_type": "stream",
     "text": [
      "Kepler-208 1000\n",
      "\n",
      "\n",
      "Kepler-208 Survival Fraction: 0.033 for 1000 systems\n"
     ]
    },
    {
     "name": "stderr",
     "output_type": "stream",
     "text": [
      "100%|██████████| 1999/1999 [00:16<00:00, 124.02it/s]\n"
     ]
    },
    {
     "name": "stdout",
     "output_type": "stream",
     "text": [
      "Kepler-215 1000\n",
      "\n",
      "\n",
      "Kepler-215 Survival Fraction: 0.006 for 1000 systems\n"
     ]
    },
    {
     "name": "stderr",
     "output_type": "stream",
     "text": [
      "100%|██████████| 1999/1999 [00:20<00:00, 95.44it/s]  \n"
     ]
    },
    {
     "name": "stdout",
     "output_type": "stream",
     "text": [
      "Kepler-220 1000\n",
      "\n",
      "\n",
      "Kepler-220 Survival Fraction: 0.033 for 1000 systems\n"
     ]
    },
    {
     "name": "stderr",
     "output_type": "stream",
     "text": [
      "100%|██████████| 1999/1999 [00:13<00:00, 147.62it/s]\n"
     ]
    },
    {
     "name": "stdout",
     "output_type": "stream",
     "text": [
      "Kepler-221 1000\n",
      "\n",
      "\n",
      "Kepler-221 Survival Fraction: 0.0 for 1000 systems\n",
      "removing ../output/bin_inj/Kepler-221/...\n"
     ]
    },
    {
     "name": "stderr",
     "output_type": "stream",
     "text": [
      "100%|██████████| 999/999 [00:03<00:00, 287.36it/s]\n",
      "100%|██████████| 1999/1999 [00:17<00:00, 115.60it/s] \n"
     ]
    },
    {
     "name": "stdout",
     "output_type": "stream",
     "text": [
      "Kepler-223 1000\n",
      "\n",
      "\n",
      "Kepler-223 Survival Fraction: 0.0 for 1000 systems\n",
      "removing ../output/bin_inj/Kepler-223/...\n"
     ]
    },
    {
     "name": "stderr",
     "output_type": "stream",
     "text": [
      "100%|██████████| 999/999 [00:03<00:00, 285.22it/s]\n",
      "100%|██████████| 1999/1999 [00:14<00:00, 134.36it/s]\n"
     ]
    },
    {
     "name": "stdout",
     "output_type": "stream",
     "text": [
      "Kepler-224 1000\n",
      "\n",
      "\n",
      "Kepler-224 Survival Fraction: 0.0 for 1000 systems\n",
      "removing ../output/bin_inj/Kepler-224/...\n"
     ]
    },
    {
     "name": "stderr",
     "output_type": "stream",
     "text": [
      "100%|██████████| 999/999 [00:03<00:00, 259.59it/s]\n",
      "100%|██████████| 1999/1999 [00:19<00:00, 103.74it/s] \n"
     ]
    },
    {
     "name": "stdout",
     "output_type": "stream",
     "text": [
      "Kepler-235 1000\n",
      "\n",
      "\n",
      "Kepler-235 Survival Fraction: 0.005 for 1000 systems\n"
     ]
    },
    {
     "name": "stderr",
     "output_type": "stream",
     "text": [
      "100%|██████████| 1999/1999 [00:24<00:00, 81.39it/s]  \n"
     ]
    },
    {
     "name": "stdout",
     "output_type": "stream",
     "text": [
      "Kepler-238 1000\n",
      "\n",
      "\n",
      "Kepler-238 Survival Fraction: 0.071 for 1000 systems\n"
     ]
    },
    {
     "name": "stderr",
     "output_type": "stream",
     "text": [
      "100%|██████████| 1999/1999 [00:20<00:00, 95.29it/s]\n"
     ]
    },
    {
     "name": "stdout",
     "output_type": "stream",
     "text": [
      "Kepler-24 1000\n",
      "\n",
      "\n",
      "Kepler-24 Survival Fraction: 0.009 for 1000 systems\n"
     ]
    },
    {
     "name": "stderr",
     "output_type": "stream",
     "text": [
      "100%|██████████| 1999/1999 [00:09<00:00, 200.39it/s]\n"
     ]
    },
    {
     "name": "stdout",
     "output_type": "stream",
     "text": [
      "Kepler-245 1000\n",
      "\n",
      "\n",
      "Kepler-245 Survival Fraction: 0.0 for 1000 systems\n",
      "removing ../output/bin_inj/Kepler-245/...\n"
     ]
    },
    {
     "name": "stderr",
     "output_type": "stream",
     "text": [
      "100%|██████████| 999/999 [00:03<00:00, 253.31it/s]\n",
      "100%|██████████| 1999/1999 [00:22<00:00, 88.43it/s] \n"
     ]
    },
    {
     "name": "stdout",
     "output_type": "stream",
     "text": [
      "Kepler-251 1000\n",
      "\n",
      "\n",
      "Kepler-251 Survival Fraction: 0.061 for 1000 systems\n"
     ]
    },
    {
     "name": "stderr",
     "output_type": "stream",
     "text": [
      "100%|██████████| 1999/1999 [00:15<00:00, 130.76it/s]\n"
     ]
    },
    {
     "name": "stdout",
     "output_type": "stream",
     "text": [
      "Kepler-256 1000\n",
      "\n",
      "\n",
      "Kepler-256 Survival Fraction: 0.003 for 1000 systems\n"
     ]
    },
    {
     "name": "stderr",
     "output_type": "stream",
     "text": [
      "100%|██████████| 1999/1999 [00:10<00:00, 183.12it/s]\n"
     ]
    },
    {
     "name": "stdout",
     "output_type": "stream",
     "text": [
      "Kepler-26 1000\n",
      "\n",
      "\n",
      "Kepler-26 Survival Fraction: 0.0 for 1000 systems\n",
      "removing ../output/bin_inj/Kepler-26/...\n"
     ]
    },
    {
     "name": "stderr",
     "output_type": "stream",
     "text": [
      "100%|██████████| 999/999 [00:03<00:00, 275.33it/s]\n",
      "100%|██████████| 1999/1999 [00:24<00:00, 80.84it/s]\n"
     ]
    },
    {
     "name": "stdout",
     "output_type": "stream",
     "text": [
      "Kepler-265 1000\n",
      "\n",
      "\n",
      "Kepler-265 Survival Fraction: 0.068 for 1000 systems\n"
     ]
    },
    {
     "name": "stderr",
     "output_type": "stream",
     "text": [
      "100%|██████████| 1999/1999 [00:12<00:00, 159.13it/s] \n"
     ]
    },
    {
     "name": "stdout",
     "output_type": "stream",
     "text": [
      "Kepler-282 1000\n",
      "\n",
      "\n",
      "Kepler-282 Survival Fraction: 0.0 for 1000 systems\n",
      "removing ../output/bin_inj/Kepler-282/...\n"
     ]
    },
    {
     "name": "stderr",
     "output_type": "stream",
     "text": [
      "100%|██████████| 999/999 [00:03<00:00, 283.82it/s]\n",
      "100%|██████████| 1999/1999 [00:24<00:00, 80.16it/s]\n"
     ]
    },
    {
     "name": "stdout",
     "output_type": "stream",
     "text": [
      "Kepler-286 1000\n",
      "\n",
      "\n",
      "Kepler-286 Survival Fraction: 0.161 for 1000 systems\n"
     ]
    },
    {
     "name": "stderr",
     "output_type": "stream",
     "text": [
      "100%|██████████| 1999/1999 [00:12<00:00, 159.34it/s]\n"
     ]
    },
    {
     "name": "stdout",
     "output_type": "stream",
     "text": [
      "Kepler-292 1000\n",
      "\n",
      "\n",
      "Kepler-292 Survival Fraction: 0.0 for 1000 systems\n",
      "removing ../output/bin_inj/Kepler-292/...\n"
     ]
    },
    {
     "name": "stderr",
     "output_type": "stream",
     "text": [
      "100%|██████████| 999/999 [00:03<00:00, 295.46it/s]\n",
      "100%|██████████| 1999/1999 [00:21<00:00, 95.15it/s]  \n"
     ]
    },
    {
     "name": "stdout",
     "output_type": "stream",
     "text": [
      "Kepler-299 1000\n",
      "\n",
      "\n",
      "Kepler-299 Survival Fraction: 0.047 for 1000 systems\n"
     ]
    },
    {
     "name": "stderr",
     "output_type": "stream",
     "text": [
      "100%|██████████| 1999/1999 [00:11<00:00, 169.01it/s]\n"
     ]
    },
    {
     "name": "stdout",
     "output_type": "stream",
     "text": [
      "Kepler-304 1000\n",
      "\n",
      "\n",
      "Kepler-304 Survival Fraction: 0.0 for 1000 systems\n",
      "removing ../output/bin_inj/Kepler-304/...\n"
     ]
    },
    {
     "name": "stderr",
     "output_type": "stream",
     "text": [
      "100%|██████████| 999/999 [00:03<00:00, 293.24it/s]\n",
      "100%|██████████| 1999/1999 [00:14<00:00, 134.38it/s]\n"
     ]
    },
    {
     "name": "stdout",
     "output_type": "stream",
     "text": [
      "Kepler-305 1000\n",
      "\n",
      "\n",
      "Kepler-305 Survival Fraction: 0.001 for 1000 systems\n"
     ]
    },
    {
     "name": "stderr",
     "output_type": "stream",
     "text": [
      "100%|██████████| 1999/1999 [00:19<00:00, 103.59it/s]\n"
     ]
    },
    {
     "name": "stdout",
     "output_type": "stream",
     "text": [
      "Kepler-306 1000\n",
      "\n",
      "\n",
      "Kepler-306 Survival Fraction: 0.018 for 1000 systems\n"
     ]
    },
    {
     "name": "stderr",
     "output_type": "stream",
     "text": [
      "100%|██████████| 1999/1999 [00:11<00:00, 173.17it/s] \n"
     ]
    },
    {
     "name": "stdout",
     "output_type": "stream",
     "text": [
      "Kepler-32 1000\n",
      "\n",
      "\n",
      "Kepler-32 Survival Fraction: 0.0 for 1000 systems\n",
      "removing ../output/bin_inj/Kepler-32/...\n"
     ]
    },
    {
     "name": "stderr",
     "output_type": "stream",
     "text": [
      "100%|██████████| 999/999 [00:03<00:00, 262.37it/s]\n",
      "100%|██████████| 1999/1999 [00:24<00:00, 79.98it/s]\n"
     ]
    },
    {
     "name": "stdout",
     "output_type": "stream",
     "text": [
      "Kepler-33 1000\n",
      "\n",
      "\n",
      "Kepler-33 Survival Fraction: 0.112 for 1000 systems\n"
     ]
    },
    {
     "name": "stderr",
     "output_type": "stream",
     "text": [
      "100%|██████████| 1999/1999 [00:15<00:00, 130.99it/s]\n"
     ]
    },
    {
     "name": "stdout",
     "output_type": "stream",
     "text": [
      "Kepler-338 1000\n",
      "\n",
      "\n",
      "Kepler-338 Survival Fraction: 0.001 for 1000 systems\n"
     ]
    },
    {
     "name": "stderr",
     "output_type": "stream",
     "text": [
      "100%|██████████| 1999/1999 [00:23<00:00, 85.19it/s]  \n"
     ]
    },
    {
     "name": "stdout",
     "output_type": "stream",
     "text": [
      "Kepler-341 1000\n",
      "\n",
      "\n",
      "Kepler-341 Survival Fraction: 0.086 for 1000 systems\n"
     ]
    },
    {
     "name": "stderr",
     "output_type": "stream",
     "text": [
      "100%|██████████| 1999/1999 [00:23<00:00, 83.45it/s]\n"
     ]
    },
    {
     "name": "stdout",
     "output_type": "stream",
     "text": [
      "Kepler-342 1000\n",
      "\n",
      "\n",
      "Kepler-342 Survival Fraction: 0.208 for 1000 systems\n"
     ]
    },
    {
     "name": "stderr",
     "output_type": "stream",
     "text": [
      "100%|██████████| 1999/1999 [00:22<00:00, 90.49it/s]\n"
     ]
    },
    {
     "name": "stdout",
     "output_type": "stream",
     "text": [
      "Kepler-37 1000\n",
      "\n",
      "\n",
      "Kepler-37 Survival Fraction: 0.019 for 1000 systems\n"
     ]
    },
    {
     "name": "stderr",
     "output_type": "stream",
     "text": [
      " 17%|█▋        | 346/1999 [00:04<00:20, 81.28it/s]"
     ]
    }
   ],
   "source": [
    "n = 2000\n",
    "run_systems = np.load(\"../data/compact_systems_run_composite.npy\", allow_pickle=True)\n",
    "\n",
    "# dirs = [\"no_inj\", \"single_inj\", \"binary_inj\"]\n",
    "dirs = [\"bin_inj\"]\n",
    "\n",
    "systems = [sys[\"name\"] for sys in run_systems]\n",
    "# systems = [\"TOI-1246\"]\n",
    "\n",
    "results = {}\n",
    "    \n",
    "\n",
    "for dir in dirs:\n",
    "    results[dir] = {}\n",
    "    for system in systems:\n",
    "        results[dir][system] = {}\n",
    "\n",
    "        n_act = 0\n",
    "        none_survived = False\n",
    "        try:\n",
    "            with open(f\"../output/{dir}/{system}/NONE_SURVIVED.txt\") as f:\n",
    "                n_act = f.readline()\n",
    "                none_survived = True\n",
    "        except Exception as e:\n",
    "            pass\n",
    "\n",
    "        if not none_survived:\n",
    "            for i in tqdm(range(1, n)):\n",
    "                try:\n",
    "                    summary = np.load(f\"../output/{dir}/{system}/{i}/summary.npy\")\n",
    "                    with open(f\"../output/{dir}/{system}/{i}/config.json\") as f:\n",
    "                        cfg = json.load(f)\n",
    "                    elements = np.load(f\"../output/{dir}/{system}/{i}/elements.npy\")\n",
    "                    if n_act==0:\n",
    "                        results[dir][system][\"a_i\"] = elements[0,:,0]\n",
    "                        results[dir][system][\"a_f\"] = elements[-1,:,0]\n",
    "                        if dir[:3] == \"bin\":\n",
    "                            results[dir][system][\"bin_m1\"] = [cfg[\"binary\"][\"m1\"]]\n",
    "                            results[dir][system][\"bin_m2\"] = [cfg[\"binary\"][\"m2\"]]\n",
    "                            results[dir][system][\"bin_esys\"] = [cfg[\"binary\"][\"e_sys\"]]\n",
    "                            results[dir][system][\"bin_e\"] = [cfg[\"binary\"][\"e\"]]\n",
    "                            results[dir][system][\"bin_d\"] = [cfg[\"binary\"][\"d\"]]\n",
    "                            results[dir][system][\"bin_a\"] = [cfg[\"binary\"][\"a\"]]\n",
    "\n",
    "                    else:\n",
    "                        results[dir][system][\"a_i\"] = np.vstack(\n",
    "                            (results[dir][system][\"a_i\"], elements[0,:,0]))\n",
    "                        results[dir][system][\"a_f\"] = np.vstack(\n",
    "                            (results[dir][system][\"a_f\"], elements[-1,:,0]))\n",
    "                        if dir[:3] == \"bin\":\n",
    "                            results[dir][system][\"bin_m1\"].append(cfg[\"binary\"][\"m1\"])\n",
    "                            results[dir][system][\"bin_m2\"].append(cfg[\"binary\"][\"m2\"])\n",
    "                            results[dir][system][\"bin_esys\"].append(cfg[\"binary\"][\"e_sys\"])\n",
    "                            results[dir][system][\"bin_e\"].append(cfg[\"binary\"][\"e\"])\n",
    "                            results[dir][system][\"bin_d\"].append(cfg[\"binary\"][\"d\"])\n",
    "                            results[dir][system][\"bin_a\"].append(cfg[\"binary\"][\"a\"])\n",
    "\n",
    "                    n_act += 1\n",
    "                    a_i, a_f =  results[dir][system][\"a_i\"],  results[dir][system][\"a_f\"]\n",
    "                    if (np.sum(((a_i-a_f)/a_i)[:,1]<0.1) > 0):\n",
    "                        pass\n",
    "                except Exception as e:\n",
    "                    # print(e)\n",
    "                    pass\n",
    "            try:\n",
    "                if dir[:3] == \"bin\":                \n",
    "                    results[dir][system][\"bin_m1\"] = np.array(results[dir][system][\"bin_m1\"])\n",
    "                    results[dir][system][\"bin_m2\"] = np.array(results[dir][system][\"bin_m2\"])\n",
    "                    results[dir][system][\"bin_esys\"] = np.array(results[dir][system][\"bin_esys\"])\n",
    "                    results[dir][system][\"bin_e\"] = np.array(results[dir][system][\"bin_e\"])\n",
    "                    results[dir][system][\"bin_d\"] = np.array(results[dir][system][\"bin_d\"])\n",
    "                    results[dir][system][\"bin_a\"] = np.array(results[dir][system][\"bin_a\"])\n",
    "                print(system, n_act)\n",
    "            except:\n",
    "                pass\n",
    "            try:\n",
    "                a_i, a_f =  results[dir][system][\"a_i\"],  results[dir][system][\"a_f\"]\n",
    "                \n",
    "                results[dir][system][\"n_survived\"] = np.sum(((a_i-a_f)/a_i)[:,1]<0.1)\n",
    "                results[dir][system][\"n_act\"] = n_act\n",
    "                results[dir][system][\"survival_frac\"] = np.sum(((a_i-a_f)/a_i)[:,1]<0.1)/n_act\n",
    "                print(f\"\\n\\n{system} Survival Fraction: {np.sum(((a_i-a_f)/a_i)[:,1]<0.1)/n_act} for {n_act} systems\")\n",
    "            except:\n",
    "                print(f\"Error processing {system}\")\n",
    "                results[dir][system][\"n_survived\"] = np.nan\n",
    "                results[dir][system][\"n_act\"] = np.nan\n",
    "                results[dir][system][\"survival_frac\"] = np.nan\n",
    "                \n",
    "            if (results[dir][system][\"n_survived\"] < 1e-20):\n",
    "                with open(f\"../output/{dir}/{system}/NONE_SURVIVED.txt\", \"w+\") as f:\n",
    "                    f.write(f\"{n_act}\")\n",
    "                print(f\"removing ../output/{dir}/{system}/...\")\n",
    "                for i in tqdm(range(1, n_act)):\n",
    "                    shutil.rmtree(f\"../output/{dir}/{system}/{i}\")\n",
    "                \n",
    "                \n",
    "                \n",
    "        else:\n",
    "                print(f\"NONE SURVIVED in {system}\")\n",
    "                results[dir][system][\"n_survived\"] = 0\n",
    "                results[dir][system][\"n_act\"] = n_act\n",
    "                results[dir][system][\"survival_frac\"] = 0\n",
    "                \n",
    "            \n",
    "    \n"
   ]
  },
  {
   "cell_type": "code",
   "execution_count": null,
   "metadata": {},
   "outputs": [],
   "source": [
    "/scratch/gpfs/wcukier/binary_planets/output/no_inj_large_sample/HD 108236/NONE_SURVIVED.txt"
   ]
  },
  {
   "cell_type": "code",
   "execution_count": 4,
   "metadata": {},
   "outputs": [
    {
     "data": {
      "text/plain": [
       "['HD 108236',\n",
       " 'HD 191939',\n",
       " 'HD 23472',\n",
       " 'K2-133',\n",
       " 'K2-138',\n",
       " 'K2-266',\n",
       " 'K2-285',\n",
       " 'K2-32',\n",
       " 'K2-72',\n",
       " 'KOI-94',\n",
       " 'Kepler-102',\n",
       " 'Kepler-107',\n",
       " 'Kepler-11',\n",
       " 'Kepler-150',\n",
       " 'Kepler-167',\n",
       " 'Kepler-169',\n",
       " 'Kepler-172',\n",
       " 'Kepler-186',\n",
       " 'Kepler-197',\n",
       " 'Kepler-20',\n",
       " 'Kepler-208',\n",
       " 'Kepler-215',\n",
       " 'Kepler-220',\n",
       " 'Kepler-221',\n",
       " 'Kepler-224',\n",
       " 'Kepler-235',\n",
       " 'Kepler-24',\n",
       " 'Kepler-251',\n",
       " 'Kepler-256',\n",
       " 'Kepler-265',\n",
       " 'Kepler-286',\n",
       " 'Kepler-292',\n",
       " 'Kepler-296',\n",
       " 'Kepler-299',\n",
       " 'Kepler-306',\n",
       " 'Kepler-32',\n",
       " 'Kepler-33',\n",
       " 'Kepler-341',\n",
       " 'Kepler-402',\n",
       " 'Kepler-444',\n",
       " 'Kepler-62',\n",
       " 'Kepler-79',\n",
       " 'Kepler-82',\n",
       " 'TOI-1246',\n",
       " 'TOI-178',\n",
       " 'TOI-561',\n",
       " 'TOI-700',\n",
       " 'TRAPPIST-1',\n",
       " 'V1298 Tau']"
      ]
     },
     "execution_count": 4,
     "metadata": {},
     "output_type": "execute_result"
    }
   ],
   "source": [
    "systems"
   ]
  },
  {
   "cell_type": "code",
   "execution_count": 8,
   "metadata": {},
   "outputs": [
    {
     "name": "stdout",
     "output_type": "stream",
     "text": [
      "[Errno 2] No such file or directory: '../output/bin_inj/HD 108236/NONE_SURVIVED.txt'\n",
      "[Errno 2] No such file or directory: '../output/bin_inj/HD 110067/NONE_SURVIVED.txt'\n",
      "[Errno 2] No such file or directory: '../output/bin_inj/HD 23472/NONE_SURVIVED.txt'\n",
      "[Errno 2] No such file or directory: '../output/bin_inj/Kepler-324/NONE_SURVIVED.txt'\n",
      "[Errno 2] No such file or directory: '../output/bin_inj/KOI-351/NONE_SURVIVED.txt'\n",
      "[Errno 2] No such file or directory: '../output/bin_inj/Kepler-102/NONE_SURVIVED.txt'\n",
      "[Errno 2] No such file or directory: '../output/bin_inj/Kepler-106/NONE_SURVIVED.txt'\n",
      "[Errno 2] No such file or directory: '../output/bin_inj/Kepler-107/NONE_SURVIVED.txt'\n",
      "[Errno 2] No such file or directory: '../output/bin_inj/Kepler-11/NONE_SURVIVED.txt'\n",
      "[Errno 2] No such file or directory: '../output/bin_inj/Kepler-122/NONE_SURVIVED.txt'\n",
      "[Errno 2] No such file or directory: '../output/bin_inj/Kepler-132/NONE_SURVIVED.txt'\n",
      "[Errno 2] No such file or directory: '../output/bin_inj/Kepler-1388/NONE_SURVIVED.txt'\n",
      "[Errno 2] No such file or directory: '../output/bin_inj/Kepler-150/NONE_SURVIVED.txt'\n",
      "[Errno 2] No such file or directory: '../output/bin_inj/Kepler-154/NONE_SURVIVED.txt'\n",
      "[Errno 2] No such file or directory: '../output/bin_inj/Kepler-1542/NONE_SURVIVED.txt'\n",
      "[Errno 2] No such file or directory: '../output/bin_inj/Kepler-164/NONE_SURVIVED.txt'\n",
      "[Errno 2] No such file or directory: '../output/bin_inj/Kepler-167/NONE_SURVIVED.txt'\n",
      "[Errno 2] No such file or directory: '../output/bin_inj/Kepler-169/NONE_SURVIVED.txt'\n",
      "[Errno 2] No such file or directory: '../output/bin_inj/Kepler-172/NONE_SURVIVED.txt'\n",
      "[Errno 2] No such file or directory: '../output/bin_inj/Kepler-197/NONE_SURVIVED.txt'\n",
      "[Errno 2] No such file or directory: '../output/bin_inj/Kepler-20/NONE_SURVIVED.txt'\n",
      "[Errno 2] No such file or directory: '../output/bin_inj/Kepler-208/NONE_SURVIVED.txt'\n",
      "[Errno 2] No such file or directory: '../output/bin_inj/Kepler-215/NONE_SURVIVED.txt'\n",
      "[Errno 2] No such file or directory: '../output/bin_inj/Kepler-220/NONE_SURVIVED.txt'\n",
      "[Errno 2] No such file or directory: '../output/bin_inj/Kepler-223/NONE_SURVIVED.txt'\n",
      "[Errno 2] No such file or directory: '../output/bin_inj/Kepler-224/NONE_SURVIVED.txt'\n",
      "[Errno 2] No such file or directory: '../output/bin_inj/Kepler-235/NONE_SURVIVED.txt'\n",
      "[Errno 2] No such file or directory: '../output/bin_inj/Kepler-238/NONE_SURVIVED.txt'\n",
      "[Errno 2] No such file or directory: '../output/bin_inj/Kepler-24/NONE_SURVIVED.txt'\n",
      "[Errno 2] No such file or directory: '../output/bin_inj/Kepler-251/NONE_SURVIVED.txt'\n",
      "[Errno 2] No such file or directory: '../output/bin_inj/Kepler-256/NONE_SURVIVED.txt'\n",
      "[Errno 2] No such file or directory: '../output/bin_inj/Kepler-265/NONE_SURVIVED.txt'\n",
      "[Errno 2] No such file or directory: '../output/bin_inj/Kepler-286/NONE_SURVIVED.txt'\n",
      "[Errno 2] No such file or directory: '../output/bin_inj/Kepler-299/NONE_SURVIVED.txt'\n",
      "[Errno 2] No such file or directory: '../output/bin_inj/Kepler-306/NONE_SURVIVED.txt'\n",
      "[Errno 2] No such file or directory: '../output/bin_inj/Kepler-33/NONE_SURVIVED.txt'\n",
      "[Errno 2] No such file or directory: '../output/bin_inj/Kepler-338/NONE_SURVIVED.txt'\n",
      "[Errno 2] No such file or directory: '../output/bin_inj/Kepler-341/NONE_SURVIVED.txt'\n",
      "[Errno 2] No such file or directory: '../output/bin_inj/Kepler-342/NONE_SURVIVED.txt'\n",
      "[Errno 2] No such file or directory: '../output/bin_inj/Kepler-37/NONE_SURVIVED.txt'\n",
      "[Errno 2] No such file or directory: '../output/bin_inj/Kepler-402/NONE_SURVIVED.txt'\n",
      "[Errno 2] No such file or directory: '../output/bin_inj/Kepler-444/NONE_SURVIVED.txt'\n",
      "[Errno 2] No such file or directory: '../output/bin_inj/Kepler-58/NONE_SURVIVED.txt'\n",
      "[Errno 2] No such file or directory: '../output/bin_inj/Kepler-62/NONE_SURVIVED.txt'\n",
      "[Errno 2] No such file or directory: '../output/bin_inj/Kepler-758/NONE_SURVIVED.txt'\n",
      "[Errno 2] No such file or directory: '../output/bin_inj/Kepler-79/NONE_SURVIVED.txt'\n",
      "[Errno 2] No such file or directory: '../output/bin_inj/Kepler-82/NONE_SURVIVED.txt'\n",
      "[Errno 2] No such file or directory: '../output/bin_inj/Kepler-84/NONE_SURVIVED.txt'\n",
      "[Errno 2] No such file or directory: '../output/bin_inj/Kepler-85/NONE_SURVIVED.txt'\n",
      "[Errno 2] No such file or directory: '../output/bin_inj/TOI-1246/NONE_SURVIVED.txt'\n",
      "[Errno 2] No such file or directory: '../output/bin_inj/TOI-561/NONE_SURVIVED.txt'\n",
      "[Errno 2] No such file or directory: '../output/bin_inj/TOI-700/NONE_SURVIVED.txt'\n",
      "[Errno 2] No such file or directory: '../output/bin_inj/TRAPPIST-1/NONE_SURVIVED.txt'\n",
      "[Errno 2] No such file or directory: '../output/bin_inj/V1298 Tau/NONE_SURVIVED.txt'\n"
     ]
    }
   ],
   "source": [
    "n = 10000\n",
    "run_systems = np.load(\"../data/compact_systems_run_composite.npy\", allow_pickle=True)\n",
    "\n",
    "# dirs = [\"no_inj\", \"single_inj\", \"binary_inj\"]\n",
    "dirs = [\"bin_inj\"]\n",
    "\n",
    "systems = [sys[\"name\"] for sys in run_systems]\n",
    "# systems = [\"TOI-1246\"]\n",
    "\n",
    "valid_sys = [ \"Kepler-324\", \"Kepler-220\", \"Kepler-265\", \"Kepler-306\"]\n",
    "# run_sys = [\"Kepler-106\",  \"Kepler-150\",  \"Kepler-172\",  \"Kepler-20\",   \n",
    "#            \"Kepler-251\",  \"Kepler-286\",  \"Kepler-306\",  \"Kepler-341\",  \"Kepler-444\",  \"Kepler-79\",\n",
    "#             \"Kepler-132\",  \"Kepler-164\",  \"Kepler-197\",  \"Kepler-220\",  \"Kepler-265\", \n",
    "#             \"Kepler-299\",  \"Kepler-324\",  \"Kepler-342\",  \"Kepler-62\",   \"Kepler-82\"]\n",
    "\n",
    "results = {}\n",
    "    \n",
    "good_sys = []\n",
    "\n",
    "for dir in dirs:\n",
    "    results[dir] = {}\n",
    "    for sys in run_systems:\n",
    "        system=sys[\"name\"]\n",
    "        results[dir][system] = {}\n",
    "\n",
    "        n_act = 0\n",
    "        none_survived = False\n",
    "        try:\n",
    "            with open(f\"../output/{dir}/{system}/NONE_SURVIVED.txt\") as f:\n",
    "                n_act = f.readline()\n",
    "                none_survived = True\n",
    "                if int(n_act) < 1900:\n",
    "                    print(n_act)\n",
    "                    # good_sys.append(sys)\n",
    "        except Exception as e:\n",
    "            print(e)\n",
    "            # if system in valid_sys:\n",
    "            good_sys.append(sys)\n"
   ]
  },
  {
   "cell_type": "code",
   "execution_count": 9,
   "metadata": {},
   "outputs": [
    {
     "data": {
      "text/plain": [
       "54"
      ]
     },
     "execution_count": 9,
     "metadata": {},
     "output_type": "execute_result"
    }
   ],
   "source": [
    "len(good_sys)"
   ]
  },
  {
   "cell_type": "code",
   "execution_count": 10,
   "metadata": {},
   "outputs": [],
   "source": [
    "np.save(\"../data/compact_systems_run_composite_good\", good_sys)\n"
   ]
  },
  {
   "cell_type": "code",
   "execution_count": 14,
   "metadata": {},
   "outputs": [
    {
     "data": {
      "text/plain": [
       "array(['Kepler-106', 'Kepler-132', 'Kepler-150', 'Kepler-164',\n",
       "       'Kepler-167', 'Kepler-169', 'Kepler-172', 'Kepler-197',\n",
       "       'Kepler-20', 'Kepler-208', 'Kepler-220', 'Kepler-251',\n",
       "       'Kepler-265', 'Kepler-286', 'Kepler-299', 'Kepler-306',\n",
       "       'Kepler-324', 'Kepler-341', 'Kepler-342', 'Kepler-444',\n",
       "       'Kepler-62', 'Kepler-79', 'Kepler-82', 'V1298 Tau'], dtype='<U10')"
      ]
     },
     "execution_count": 14,
     "metadata": {},
     "output_type": "execute_result"
    }
   ],
   "source": [
    "np.sort([sys[\"name\"] for sys in good_sys])"
   ]
  },
  {
   "cell_type": "code",
   "execution_count": null,
   "metadata": {},
   "outputs": [],
   "source": []
  }
 ],
 "metadata": {
  "kernelspec": {
   "display_name": "Python 3 (ipykernel)",
   "language": "python",
   "name": "python3"
  },
  "language_info": {
   "codemirror_mode": {
    "name": "ipython",
    "version": 3
   },
   "file_extension": ".py",
   "mimetype": "text/x-python",
   "name": "python",
   "nbconvert_exporter": "python",
   "pygments_lexer": "ipython3",
   "version": "3.10.6"
  },
  "vscode": {
   "interpreter": {
    "hash": "58f8f3a34cddae1f2f80be62d33c77a7f6964d928f639243d24b7901aa249ea2"
   }
  }
 },
 "nbformat": 4,
 "nbformat_minor": 2
}
