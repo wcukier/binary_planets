{
 "cells": [
  {
   "cell_type": "code",
   "execution_count": 2,
   "metadata": {},
   "outputs": [],
   "source": [
    "import corner\n",
    "import numpy as np\n",
    "from matplotlib import pyplot as plt\n",
    "import json\n",
    "from tqdm import tqdm\n",
    "import sys\n",
    "import shutil\n",
    "\n",
    "sys.path.append(\"../\")\n",
    "\n",
    "import tdpy\n",
    "\n",
    "plt.rcParams.update({\n",
    "  \"text.usetex\": True,\n",
    "  \"font.family\": \"Computer Modern Roman\",\n",
    "  \"font.size\":    8.0\n",
    "})"
   ]
  },
  {
   "cell_type": "code",
   "execution_count": 3,
   "metadata": {},
   "outputs": [
    {
     "name": "stderr",
     "output_type": "stream",
     "text": [
      "100%|██████████| 1999/1999 [00:11<00:00, 180.97it/s]\n"
     ]
    },
    {
     "name": "stdout",
     "output_type": "stream",
     "text": [
      "Kepler-24 1999\n",
      "\n",
      "\n",
      "Kepler-24 Survival Fraction: 0.0 for 1999 systems\n",
      "removing ../output/composite_bin/Kepler-24/...\n"
     ]
    },
    {
     "name": "stderr",
     "output_type": "stream",
     "text": [
      "100%|██████████| 1998/1998 [00:40<00:00, 49.68it/s] \n",
      "100%|██████████| 1999/1999 [00:11<00:00, 171.93it/s]\n"
     ]
    },
    {
     "name": "stdout",
     "output_type": "stream",
     "text": [
      "Kepler-245 1999\n",
      "\n",
      "\n",
      "Kepler-245 Survival Fraction: 0.0 for 1999 systems\n",
      "removing ../output/composite_bin/Kepler-245/...\n"
     ]
    },
    {
     "name": "stderr",
     "output_type": "stream",
     "text": [
      "100%|██████████| 1998/1998 [00:08<00:00, 233.35it/s]\n",
      "  1%|          | 17/1999 [00:00<00:10, 188.66it/s]\n"
     ]
    },
    {
     "name": "stdout",
     "output_type": "stream",
     "text": [
      "Kepler-251 18\n",
      "\n",
      "\n",
      "Kepler-251 Survival Fraction: 0.05555555555555555 for 18 systems\n"
     ]
    },
    {
     "name": "stderr",
     "output_type": "stream",
     "text": [
      "100%|██████████| 1999/1999 [00:11<00:00, 178.54it/s]\n"
     ]
    },
    {
     "name": "stdout",
     "output_type": "stream",
     "text": [
      "Kepler-256 1999\n",
      "\n",
      "\n",
      "Kepler-256 Survival Fraction: 0.0 for 1999 systems\n",
      "removing ../output/composite_bin/Kepler-256/...\n"
     ]
    },
    {
     "name": "stderr",
     "output_type": "stream",
     "text": [
      "100%|██████████| 1998/1998 [00:53<00:00, 37.18it/s] \n",
      "100%|██████████| 1999/1999 [00:11<00:00, 170.92it/s]\n"
     ]
    },
    {
     "name": "stdout",
     "output_type": "stream",
     "text": [
      "Kepler-26 1999\n",
      "\n",
      "\n",
      "Kepler-26 Survival Fraction: 0.0 for 1999 systems\n",
      "removing ../output/composite_bin/Kepler-26/...\n"
     ]
    },
    {
     "name": "stderr",
     "output_type": "stream",
     "text": [
      "100%|██████████| 1998/1998 [00:43<00:00, 46.44it/s] \n",
      "  0%|          | 1/1999 [00:00<00:22, 88.52it/s]\n"
     ]
    },
    {
     "name": "stdout",
     "output_type": "stream",
     "text": [
      "Kepler-265 2\n",
      "\n",
      "\n",
      "Kepler-265 Survival Fraction: 0.5 for 2 systems\n"
     ]
    },
    {
     "name": "stderr",
     "output_type": "stream",
     "text": [
      "100%|██████████| 1999/1999 [00:11<00:00, 181.46it/s]\n"
     ]
    },
    {
     "name": "stdout",
     "output_type": "stream",
     "text": [
      "Kepler-282 1999\n",
      "\n",
      "\n",
      "Kepler-282 Survival Fraction: 0.0 for 1999 systems\n",
      "removing ../output/composite_bin/Kepler-282/...\n"
     ]
    },
    {
     "name": "stderr",
     "output_type": "stream",
     "text": [
      "100%|██████████| 1998/1998 [00:08<00:00, 226.07it/s]\n",
      "100%|██████████| 1999/1999 [00:11<00:00, 179.78it/s]\n"
     ]
    },
    {
     "name": "stdout",
     "output_type": "stream",
     "text": [
      "Kepler-286 489\n",
      "\n",
      "\n",
      "Kepler-286 Survival Fraction: 0.0 for 489 systems\n",
      "removing ../output/composite_bin/Kepler-286/...\n"
     ]
    },
    {
     "name": "stderr",
     "output_type": "stream",
     "text": [
      "100%|██████████| 488/488 [00:31<00:00, 15.43it/s]\n",
      "100%|██████████| 1999/1999 [00:09<00:00, 215.20it/s]\n"
     ]
    },
    {
     "name": "stdout",
     "output_type": "stream",
     "text": [
      "Kepler-292 1999\n",
      "\n",
      "\n",
      "Kepler-292 Survival Fraction: 0.0 for 1999 systems\n",
      "removing ../output/composite_bin/Kepler-292/...\n"
     ]
    },
    {
     "name": "stderr",
     "output_type": "stream",
     "text": [
      "100%|██████████| 1998/1998 [00:43<00:00, 46.39it/s] \n",
      "100%|██████████| 1999/1999 [00:08<00:00, 227.94it/s]\n"
     ]
    },
    {
     "name": "stdout",
     "output_type": "stream",
     "text": [
      "Kepler-296 1999\n",
      "\n",
      "\n",
      "Kepler-296 Survival Fraction: 0.0 for 1999 systems\n",
      "removing ../output/composite_bin/Kepler-296/...\n"
     ]
    },
    {
     "name": "stderr",
     "output_type": "stream",
     "text": [
      "100%|██████████| 1998/1998 [01:02<00:00, 32.01it/s] \n",
      "100%|██████████| 1999/1999 [00:05<00:00, 379.14it/s]\n"
     ]
    },
    {
     "name": "stdout",
     "output_type": "stream",
     "text": [
      "Kepler-299 1175\n",
      "\n",
      "\n",
      "Kepler-299 Survival Fraction: 0.0 for 1175 systems\n",
      "removing ../output/composite_bin/Kepler-299/...\n"
     ]
    },
    {
     "name": "stderr",
     "output_type": "stream",
     "text": [
      "100%|██████████| 1174/1174 [00:32<00:00, 35.63it/s] \n",
      "100%|██████████| 1999/1999 [00:08<00:00, 224.75it/s]\n"
     ]
    },
    {
     "name": "stdout",
     "output_type": "stream",
     "text": [
      "Kepler-304 1999\n",
      "\n",
      "\n",
      "Kepler-304 Survival Fraction: 0.0 for 1999 systems\n",
      "removing ../output/composite_bin/Kepler-304/...\n"
     ]
    },
    {
     "name": "stderr",
     "output_type": "stream",
     "text": [
      "100%|██████████| 1998/1998 [01:10<00:00, 28.48it/s] \n",
      "100%|██████████| 1999/1999 [00:11<00:00, 168.23it/s]\n"
     ]
    },
    {
     "name": "stdout",
     "output_type": "stream",
     "text": [
      "Kepler-305 1946\n",
      "\n",
      "\n",
      "Kepler-305 Survival Fraction: 0.0 for 1946 systems\n",
      "removing ../output/composite_bin/Kepler-305/...\n"
     ]
    },
    {
     "name": "stderr",
     "output_type": "stream",
     "text": [
      "100%|██████████| 1945/1945 [01:30<00:00, 21.52it/s] \n",
      " 39%|███▉      | 776/1999 [00:02<00:04, 262.13it/s]\n"
     ]
    },
    {
     "name": "stdout",
     "output_type": "stream",
     "text": [
      "Kepler-306 680\n",
      "\n",
      "\n",
      "Kepler-306 Survival Fraction: 0.0014705882352941176 for 680 systems\n"
     ]
    },
    {
     "name": "stderr",
     "output_type": "stream",
     "text": [
      "100%|██████████| 1999/1999 [00:08<00:00, 226.65it/s]\n"
     ]
    },
    {
     "name": "stdout",
     "output_type": "stream",
     "text": [
      "Kepler-32 1999\n",
      "\n",
      "\n",
      "Kepler-32 Survival Fraction: 0.0 for 1999 systems\n",
      "removing ../output/composite_bin/Kepler-32/...\n"
     ]
    },
    {
     "name": "stderr",
     "output_type": "stream",
     "text": [
      "100%|██████████| 1998/1998 [00:20<00:00, 98.40it/s] \n",
      "100%|██████████| 1999/1999 [00:09<00:00, 220.31it/s]\n"
     ]
    },
    {
     "name": "stdout",
     "output_type": "stream",
     "text": [
      "Kepler-33 1989\n",
      "\n",
      "\n",
      "Kepler-33 Survival Fraction: 0.0 for 1989 systems\n",
      "removing ../output/composite_bin/Kepler-33/...\n"
     ]
    },
    {
     "name": "stderr",
     "output_type": "stream",
     "text": [
      "100%|██████████| 1988/1988 [00:54<00:00, 36.16it/s] \n",
      "100%|██████████| 1999/1999 [00:20<00:00, 98.21it/s] \n"
     ]
    },
    {
     "name": "stdout",
     "output_type": "stream",
     "text": [
      "Kepler-338 1976\n",
      "\n",
      "\n",
      "Kepler-338 Survival Fraction: 0.0 for 1976 systems\n",
      "removing ../output/composite_bin/Kepler-338/...\n"
     ]
    },
    {
     "name": "stderr",
     "output_type": "stream",
     "text": [
      "100%|██████████| 1975/1975 [01:31<00:00, 21.68it/s]\n",
      " 38%|███▊      | 753/1999 [00:03<00:05, 210.83it/s]\n"
     ]
    },
    {
     "name": "stdout",
     "output_type": "stream",
     "text": [
      "Kepler-341 657\n",
      "\n",
      "\n",
      "Kepler-341 Survival Fraction: 0.0015220700152207 for 657 systems\n"
     ]
    },
    {
     "name": "stderr",
     "output_type": "stream",
     "text": [
      "  0%|          | 1/1999 [00:00<00:23, 86.78it/s]\n"
     ]
    },
    {
     "name": "stdout",
     "output_type": "stream",
     "text": [
      "Kepler-342 2\n",
      "\n",
      "\n",
      "Kepler-342 Survival Fraction: 0.5 for 2 systems\n"
     ]
    },
    {
     "name": "stderr",
     "output_type": "stream",
     "text": [
      "100%|██████████| 1999/1999 [00:10<00:00, 195.87it/s]\n"
     ]
    },
    {
     "name": "stdout",
     "output_type": "stream",
     "text": [
      "Kepler-37 1999\n",
      "\n",
      "\n",
      "Kepler-37 Survival Fraction: 0.0 for 1999 systems\n",
      "removing ../output/composite_bin/Kepler-37/...\n"
     ]
    },
    {
     "name": "stderr",
     "output_type": "stream",
     "text": [
      "100%|██████████| 1998/1998 [00:20<00:00, 99.18it/s] \n",
      "100%|██████████| 1999/1999 [00:15<00:00, 133.07it/s]\n"
     ]
    },
    {
     "name": "stdout",
     "output_type": "stream",
     "text": [
      "Kepler-402 1999\n",
      "\n",
      "\n",
      "Kepler-402 Survival Fraction: 0.0 for 1999 systems\n",
      "removing ../output/composite_bin/Kepler-402/...\n"
     ]
    },
    {
     "name": "stderr",
     "output_type": "stream",
     "text": [
      "100%|██████████| 1998/1998 [02:14<00:00, 14.82it/s]\n",
      "  9%|▉         | 175/1999 [00:01<00:10, 166.47it/s]\n"
     ]
    },
    {
     "name": "stdout",
     "output_type": "stream",
     "text": [
      "Kepler-444 176\n",
      "\n",
      "\n",
      "Kepler-444 Survival Fraction: 0.005681818181818182 for 176 systems\n"
     ]
    },
    {
     "name": "stderr",
     "output_type": "stream",
     "text": [
      "100%|██████████| 1999/1999 [00:12<00:00, 159.18it/s]\n"
     ]
    },
    {
     "name": "stdout",
     "output_type": "stream",
     "text": [
      "Kepler-49 1999\n",
      "\n",
      "\n",
      "Kepler-49 Survival Fraction: 0.0 for 1999 systems\n",
      "removing ../output/composite_bin/Kepler-49/...\n"
     ]
    },
    {
     "name": "stderr",
     "output_type": "stream",
     "text": [
      "100%|██████████| 1998/1998 [01:03<00:00, 31.24it/s] \n",
      "100%|██████████| 1999/1999 [00:13<00:00, 151.68it/s]\n"
     ]
    },
    {
     "name": "stdout",
     "output_type": "stream",
     "text": [
      "Kepler-55 1999\n",
      "\n",
      "\n",
      "Kepler-55 Survival Fraction: 0.0 for 1999 systems\n",
      "removing ../output/composite_bin/Kepler-55/...\n"
     ]
    },
    {
     "name": "stderr",
     "output_type": "stream",
     "text": [
      "100%|██████████| 1998/1998 [00:11<00:00, 171.39it/s]\n",
      "100%|██████████| 1999/1999 [00:12<00:00, 165.59it/s]\n"
     ]
    },
    {
     "name": "stdout",
     "output_type": "stream",
     "text": [
      "Kepler-58 1999\n",
      "\n",
      "\n",
      "Kepler-58 Survival Fraction: 0.0 for 1999 systems\n",
      "removing ../output/composite_bin/Kepler-58/...\n"
     ]
    },
    {
     "name": "stderr",
     "output_type": "stream",
     "text": [
      "100%|██████████| 1998/1998 [01:08<00:00, 29.37it/s] \n",
      "  4%|▍         | 83/1999 [00:00<00:12, 149.40it/s]\n"
     ]
    },
    {
     "name": "stdout",
     "output_type": "stream",
     "text": [
      "Kepler-62 84\n",
      "\n",
      "\n",
      "Kepler-62 Survival Fraction: 0.011904761904761904 for 84 systems\n"
     ]
    },
    {
     "name": "stderr",
     "output_type": "stream",
     "text": [
      "100%|██████████| 1999/1999 [00:11<00:00, 171.41it/s]\n"
     ]
    },
    {
     "name": "stdout",
     "output_type": "stream",
     "text": [
      "Kepler-758 1999\n",
      "\n",
      "\n",
      "Kepler-758 Survival Fraction: 0.0 for 1999 systems\n",
      "removing ../output/composite_bin/Kepler-758/...\n"
     ]
    },
    {
     "name": "stderr",
     "output_type": "stream",
     "text": [
      "100%|██████████| 1998/1998 [00:58<00:00, 33.90it/s] \n",
      "  1%|          | 16/1999 [00:00<00:13, 149.61it/s]\n"
     ]
    },
    {
     "name": "stdout",
     "output_type": "stream",
     "text": [
      "Kepler-79 17\n",
      "\n",
      "\n",
      "Kepler-79 Survival Fraction: 0.058823529411764705 for 17 systems\n"
     ]
    },
    {
     "name": "stderr",
     "output_type": "stream",
     "text": [
      " 17%|█▋        | 333/1999 [00:02<00:10, 159.44it/s]\n"
     ]
    },
    {
     "name": "stdout",
     "output_type": "stream",
     "text": [
      "Kepler-82 334\n",
      "\n",
      "\n",
      "Kepler-82 Survival Fraction: 0.0029940119760479044 for 334 systems\n"
     ]
    },
    {
     "name": "stderr",
     "output_type": "stream",
     "text": [
      "100%|██████████| 1999/1999 [00:11<00:00, 180.64it/s]\n"
     ]
    },
    {
     "name": "stdout",
     "output_type": "stream",
     "text": [
      "Kepler-84 1999\n",
      "\n",
      "\n",
      "Kepler-84 Survival Fraction: 0.0 for 1999 systems\n",
      "removing ../output/composite_bin/Kepler-84/...\n"
     ]
    },
    {
     "name": "stderr",
     "output_type": "stream",
     "text": [
      "100%|██████████| 1998/1998 [01:02<00:00, 32.00it/s] \n",
      "100%|██████████| 1999/1999 [00:10<00:00, 188.77it/s]\n"
     ]
    },
    {
     "name": "stdout",
     "output_type": "stream",
     "text": [
      "Kepler-85 1999\n",
      "\n",
      "\n",
      "Kepler-85 Survival Fraction: 0.0 for 1999 systems\n",
      "removing ../output/composite_bin/Kepler-85/...\n"
     ]
    },
    {
     "name": "stderr",
     "output_type": "stream",
     "text": [
      "100%|██████████| 1998/1998 [01:13<00:00, 27.26it/s] \n",
      "100%|██████████| 1999/1999 [00:41<00:00, 48.02it/s] \n"
     ]
    },
    {
     "name": "stdout",
     "output_type": "stream",
     "text": [
      "TOI-1246 1999\n",
      "\n",
      "\n",
      "TOI-1246 Survival Fraction: 0.0 for 1999 systems\n",
      "removing ../output/composite_bin/TOI-1246/...\n"
     ]
    },
    {
     "name": "stderr",
     "output_type": "stream",
     "text": [
      "100%|██████████| 1998/1998 [02:19<00:00, 14.29it/s]\n",
      "100%|██████████| 1999/1999 [00:11<00:00, 178.30it/s]\n"
     ]
    },
    {
     "name": "stdout",
     "output_type": "stream",
     "text": [
      "TOI-178 1999\n",
      "\n",
      "\n",
      "TOI-178 Survival Fraction: 0.0 for 1999 systems\n",
      "removing ../output/composite_bin/TOI-178/...\n"
     ]
    },
    {
     "name": "stderr",
     "output_type": "stream",
     "text": [
      "100%|██████████| 1998/1998 [00:31<00:00, 62.60it/s] \n",
      "100%|██████████| 1999/1999 [00:50<00:00, 39.23it/s]\n"
     ]
    },
    {
     "name": "stdout",
     "output_type": "stream",
     "text": [
      "TOI-561 1999\n",
      "\n",
      "\n",
      "TOI-561 Survival Fraction: 0.0 for 1999 systems\n",
      "removing ../output/composite_bin/TOI-561/...\n"
     ]
    },
    {
     "name": "stderr",
     "output_type": "stream",
     "text": [
      "100%|██████████| 1998/1998 [01:23<00:00, 23.87it/s]\n",
      "100%|██████████| 1999/1999 [00:10<00:00, 194.70it/s]\n"
     ]
    },
    {
     "name": "stdout",
     "output_type": "stream",
     "text": [
      "TOI-700 1999\n",
      "\n",
      "\n",
      "TOI-700 Survival Fraction: 0.0 for 1999 systems\n",
      "removing ../output/composite_bin/TOI-700/...\n"
     ]
    },
    {
     "name": "stderr",
     "output_type": "stream",
     "text": [
      "100%|██████████| 1998/1998 [00:30<00:00, 65.16it/s] \n",
      "100%|██████████| 1999/1999 [00:39<00:00, 50.73it/s] \n"
     ]
    },
    {
     "name": "stdout",
     "output_type": "stream",
     "text": [
      "TRAPPIST-1 1999\n",
      "\n",
      "\n",
      "TRAPPIST-1 Survival Fraction: 0.0 for 1999 systems\n",
      "removing ../output/composite_bin/TRAPPIST-1/...\n"
     ]
    },
    {
     "name": "stderr",
     "output_type": "stream",
     "text": [
      "100%|██████████| 1998/1998 [01:29<00:00, 22.37it/s]\n",
      "100%|██████████| 1999/1999 [00:00<00:00, 179826.57it/s]"
     ]
    },
    {
     "name": "stdout",
     "output_type": "stream",
     "text": [
      "V1298 Tau 0\n",
      "Error processing V1298 Tau\n"
     ]
    },
    {
     "name": "stderr",
     "output_type": "stream",
     "text": [
      "\n"
     ]
    }
   ],
   "source": [
    "n = 2000\n",
    "run_systems = np.load(\"../data/compact_systems_run_composite.npy\", allow_pickle=True)\n",
    "\n",
    "# dirs = [\"no_inj\", \"single_inj\", \"binary_inj\"]\n",
    "dirs = [\"composite_bin\"]\n",
    "\n",
    "systems = [sys[\"name\"] for sys in run_systems]\n",
    "# systems = [\"TOI-1246\"]\n",
    "\n",
    "results = {}\n",
    "    \n",
    "\n",
    "for dir in dirs:\n",
    "    results[dir] = {}\n",
    "    for system in systems:\n",
    "        results[dir][system] = {}\n",
    "\n",
    "        n_act = 0\n",
    "        none_survived = False\n",
    "        try:\n",
    "            with open(f\"../output/{dir}/{system}/NONE_SURVIVED.txt\") as f:\n",
    "                n_act = f.readline()\n",
    "                none_survived = True\n",
    "        except Exception as e:\n",
    "            pass\n",
    "\n",
    "        if not none_survived:\n",
    "            for i in tqdm(range(1, n)):\n",
    "                try:\n",
    "                    summary = np.load(f\"../output/{dir}/{system}/{i}/summary.npy\")\n",
    "                    with open(f\"../output/{dir}/{system}/{i}/config.json\") as f:\n",
    "                        cfg = json.load(f)\n",
    "                    elements = np.load(f\"../output/{dir}/{system}/{i}/elements.npy\")\n",
    "                    if n_act==0:\n",
    "                        results[dir][system][\"a_i\"] = elements[0,:,0]\n",
    "                        results[dir][system][\"a_f\"] = elements[-1,:,0]\n",
    "                        if dir[:3] == \"bin\":\n",
    "                            results[dir][system][\"bin_m1\"] = [cfg[\"binary\"][\"m1\"]]\n",
    "                            results[dir][system][\"bin_m2\"] = [cfg[\"binary\"][\"m2\"]]\n",
    "                            results[dir][system][\"bin_esys\"] = [cfg[\"binary\"][\"e_sys\"]]\n",
    "                            results[dir][system][\"bin_e\"] = [cfg[\"binary\"][\"e\"]]\n",
    "                            results[dir][system][\"bin_d\"] = [cfg[\"binary\"][\"d\"]]\n",
    "                            results[dir][system][\"bin_a\"] = [cfg[\"binary\"][\"a\"]]\n",
    "\n",
    "                    else:\n",
    "                        results[dir][system][\"a_i\"] = np.vstack(\n",
    "                            (results[dir][system][\"a_i\"], elements[0,:,0]))\n",
    "                        results[dir][system][\"a_f\"] = np.vstack(\n",
    "                            (results[dir][system][\"a_f\"], elements[-1,:,0]))\n",
    "                        if dir[:3] == \"bin\":\n",
    "                            results[dir][system][\"bin_m1\"].append(cfg[\"binary\"][\"m1\"])\n",
    "                            results[dir][system][\"bin_m2\"].append(cfg[\"binary\"][\"m2\"])\n",
    "                            results[dir][system][\"bin_esys\"].append(cfg[\"binary\"][\"e_sys\"])\n",
    "                            results[dir][system][\"bin_e\"].append(cfg[\"binary\"][\"e\"])\n",
    "                            results[dir][system][\"bin_d\"].append(cfg[\"binary\"][\"d\"])\n",
    "                            results[dir][system][\"bin_a\"].append(cfg[\"binary\"][\"a\"])\n",
    "\n",
    "                    n_act += 1\n",
    "                    a_i, a_f =  results[dir][system][\"a_i\"],  results[dir][system][\"a_f\"]\n",
    "                    if (np.sum(((a_i-a_f)/a_i)[:,1]<0.1) > 0):\n",
    "                        break\n",
    "                except Exception as e:\n",
    "                    # print(e)\n",
    "                    pass\n",
    "            try:\n",
    "                if dir[:3] == \"bin\":                \n",
    "                    results[dir][system][\"bin_m1\"] = np.array(results[dir][system][\"bin_m1\"])\n",
    "                    results[dir][system][\"bin_m2\"] = np.array(results[dir][system][\"bin_m2\"])\n",
    "                    results[dir][system][\"bin_esys\"] = np.array(results[dir][system][\"bin_esys\"])\n",
    "                    results[dir][system][\"bin_e\"] = np.array(results[dir][system][\"bin_e\"])\n",
    "                    results[dir][system][\"bin_d\"] = np.array(results[dir][system][\"bin_d\"])\n",
    "                    results[dir][system][\"bin_a\"] = np.array(results[dir][system][\"bin_a\"])\n",
    "                print(system, n_act)\n",
    "            except:\n",
    "                pass\n",
    "            try:\n",
    "                a_i, a_f =  results[dir][system][\"a_i\"],  results[dir][system][\"a_f\"]\n",
    "                \n",
    "                results[dir][system][\"n_survived\"] = np.sum(((a_i-a_f)/a_i)[:,1]<0.1)\n",
    "                results[dir][system][\"n_act\"] = n_act\n",
    "                results[dir][system][\"survival_frac\"] = np.sum(((a_i-a_f)/a_i)[:,1]<0.1)/n_act\n",
    "                print(f\"\\n\\n{system} Survival Fraction: {np.sum(((a_i-a_f)/a_i)[:,1]<0.1)/n_act} for {n_act} systems\")\n",
    "            except:\n",
    "                print(f\"Error processing {system}\")\n",
    "                results[dir][system][\"n_survived\"] = np.nan\n",
    "                results[dir][system][\"n_act\"] = np.nan\n",
    "                results[dir][system][\"survival_frac\"] = np.nan\n",
    "                \n",
    "            if (results[dir][system][\"n_survived\"] < 1e-20):\n",
    "                with open(f\"../output/{dir}/{system}/NONE_SURVIVED.txt\", \"w+\") as f:\n",
    "                    f.write(f\"{n_act}\")\n",
    "                print(f\"removing ../output/{dir}/{system}/...\")\n",
    "                for i in tqdm(range(1, n_act)):\n",
    "                    shutil.rmtree(f\"../output/{dir}/{system}/{i}\")\n",
    "                \n",
    "                \n",
    "                \n",
    "        else:\n",
    "                print(f\"NONE SURVIVED in {system}\")\n",
    "                results[dir][system][\"n_survived\"] = 0\n",
    "                results[dir][system][\"n_act\"] = n_act\n",
    "                results[dir][system][\"survival_frac\"] = 0\n",
    "                \n",
    "            \n",
    "    \n"
   ]
  },
  {
   "cell_type": "code",
   "execution_count": null,
   "metadata": {},
   "outputs": [],
   "source": [
    "/scratch/gpfs/wcukier/binary_planets/output/no_inj_large_sample/HD 108236/NONE_SURVIVED.txt"
   ]
  },
  {
   "cell_type": "code",
   "execution_count": 4,
   "metadata": {},
   "outputs": [
    {
     "data": {
      "text/plain": [
       "['HD 108236',\n",
       " 'HD 191939',\n",
       " 'HD 23472',\n",
       " 'K2-133',\n",
       " 'K2-138',\n",
       " 'K2-266',\n",
       " 'K2-285',\n",
       " 'K2-32',\n",
       " 'K2-72',\n",
       " 'KOI-94',\n",
       " 'Kepler-102',\n",
       " 'Kepler-107',\n",
       " 'Kepler-11',\n",
       " 'Kepler-150',\n",
       " 'Kepler-167',\n",
       " 'Kepler-169',\n",
       " 'Kepler-172',\n",
       " 'Kepler-186',\n",
       " 'Kepler-197',\n",
       " 'Kepler-20',\n",
       " 'Kepler-208',\n",
       " 'Kepler-215',\n",
       " 'Kepler-220',\n",
       " 'Kepler-221',\n",
       " 'Kepler-224',\n",
       " 'Kepler-235',\n",
       " 'Kepler-24',\n",
       " 'Kepler-251',\n",
       " 'Kepler-256',\n",
       " 'Kepler-265',\n",
       " 'Kepler-286',\n",
       " 'Kepler-292',\n",
       " 'Kepler-296',\n",
       " 'Kepler-299',\n",
       " 'Kepler-306',\n",
       " 'Kepler-32',\n",
       " 'Kepler-33',\n",
       " 'Kepler-341',\n",
       " 'Kepler-402',\n",
       " 'Kepler-444',\n",
       " 'Kepler-62',\n",
       " 'Kepler-79',\n",
       " 'Kepler-82',\n",
       " 'TOI-1246',\n",
       " 'TOI-178',\n",
       " 'TOI-561',\n",
       " 'TOI-700',\n",
       " 'TRAPPIST-1',\n",
       " 'V1298 Tau']"
      ]
     },
     "execution_count": 4,
     "metadata": {},
     "output_type": "execute_result"
    }
   ],
   "source": [
    "systems"
   ]
  },
  {
   "cell_type": "code",
   "execution_count": 6,
   "metadata": {},
   "outputs": [
    {
     "name": "stdout",
     "output_type": "stream",
     "text": [
      "[Errno 2] No such file or directory: '../output/composite_bin/Kepler-324/NONE_SURVIVED.txt'\n",
      "[Errno 2] No such file or directory: '../output/composite_bin/Kepler-106/NONE_SURVIVED.txt'\n",
      "[Errno 2] No such file or directory: '../output/composite_bin/Kepler-132/NONE_SURVIVED.txt'\n",
      "[Errno 2] No such file or directory: '../output/composite_bin/Kepler-150/NONE_SURVIVED.txt'\n",
      "[Errno 2] No such file or directory: '../output/composite_bin/Kepler-164/NONE_SURVIVED.txt'\n",
      "[Errno 2] No such file or directory: '../output/composite_bin/Kepler-167/NONE_SURVIVED.txt'\n",
      "[Errno 2] No such file or directory: '../output/composite_bin/Kepler-169/NONE_SURVIVED.txt'\n",
      "[Errno 2] No such file or directory: '../output/composite_bin/Kepler-172/NONE_SURVIVED.txt'\n",
      "[Errno 2] No such file or directory: '../output/composite_bin/Kepler-197/NONE_SURVIVED.txt'\n",
      "[Errno 2] No such file or directory: '../output/composite_bin/Kepler-20/NONE_SURVIVED.txt'\n",
      "[Errno 2] No such file or directory: '../output/composite_bin/Kepler-208/NONE_SURVIVED.txt'\n",
      "[Errno 2] No such file or directory: '../output/composite_bin/Kepler-220/NONE_SURVIVED.txt'\n",
      "[Errno 2] No such file or directory: '../output/composite_bin/Kepler-251/NONE_SURVIVED.txt'\n",
      "[Errno 2] No such file or directory: '../output/composite_bin/Kepler-265/NONE_SURVIVED.txt'\n",
      "489\n",
      "1175\n",
      "[Errno 2] No such file or directory: '../output/composite_bin/Kepler-306/NONE_SURVIVED.txt'\n",
      "[Errno 2] No such file or directory: '../output/composite_bin/Kepler-341/NONE_SURVIVED.txt'\n",
      "[Errno 2] No such file or directory: '../output/composite_bin/Kepler-342/NONE_SURVIVED.txt'\n",
      "[Errno 2] No such file or directory: '../output/composite_bin/Kepler-444/NONE_SURVIVED.txt'\n",
      "[Errno 2] No such file or directory: '../output/composite_bin/Kepler-62/NONE_SURVIVED.txt'\n",
      "[Errno 2] No such file or directory: '../output/composite_bin/Kepler-79/NONE_SURVIVED.txt'\n",
      "[Errno 2] No such file or directory: '../output/composite_bin/Kepler-82/NONE_SURVIVED.txt'\n",
      "[Errno 2] No such file or directory: '../output/composite_bin/V1298 Tau/NONE_SURVIVED.txt'\n"
     ]
    }
   ],
   "source": [
    "n = 10000\n",
    "run_systems = np.load(\"../data/compact_systems_run_composite.npy\", allow_pickle=True)\n",
    "\n",
    "# dirs = [\"no_inj\", \"single_inj\", \"binary_inj\"]\n",
    "dirs = [\"composite_bin\"]\n",
    "\n",
    "systems = [sys[\"name\"] for sys in run_systems]\n",
    "# systems = [\"TOI-1246\"]\n",
    "\n",
    "valid_sys = [ \"Kepler-324\", \"Kepler-220\", \"Kepler-265\", \"Kepler-306\"]\n",
    "# run_sys = [\"Kepler-106\",  \"Kepler-150\",  \"Kepler-172\",  \"Kepler-20\",   \n",
    "#            \"Kepler-251\",  \"Kepler-286\",  \"Kepler-306\",  \"Kepler-341\",  \"Kepler-444\",  \"Kepler-79\",\n",
    "#             \"Kepler-132\",  \"Kepler-164\",  \"Kepler-197\",  \"Kepler-220\",  \"Kepler-265\", \n",
    "#             \"Kepler-299\",  \"Kepler-324\",  \"Kepler-342\",  \"Kepler-62\",   \"Kepler-82\"]\n",
    "\n",
    "results = {}\n",
    "    \n",
    "good_sys = []\n",
    "\n",
    "for dir in dirs:\n",
    "    results[dir] = {}\n",
    "    for sys in run_systems:\n",
    "        system=sys[\"name\"]\n",
    "        results[dir][system] = {}\n",
    "\n",
    "        n_act = 0\n",
    "        none_survived = False\n",
    "        try:\n",
    "            with open(f\"../output/{dir}/{system}/NONE_SURVIVED.txt\") as f:\n",
    "                n_act = f.readline()\n",
    "                none_survived = True\n",
    "                if int(n_act) < 1900:\n",
    "                    print(n_act)\n",
    "                    good_sys.append(sys)\n",
    "        except Exception as e:\n",
    "            print(e)\n",
    "            if system in valid_sys:\n",
    "                good_sys.append(sys)\n"
   ]
  },
  {
   "cell_type": "code",
   "execution_count": 4,
   "metadata": {},
   "outputs": [
    {
     "data": {
      "text/plain": [
       "24"
      ]
     },
     "execution_count": 4,
     "metadata": {},
     "output_type": "execute_result"
    }
   ],
   "source": [
    "len(good_sys)"
   ]
  },
  {
   "cell_type": "code",
   "execution_count": 5,
   "metadata": {},
   "outputs": [],
   "source": [
    "np.save(\"../data/compact_systems_run_composite_good_detailed\", good_sys)\n"
   ]
  },
  {
   "cell_type": "code",
   "execution_count": 14,
   "metadata": {},
   "outputs": [
    {
     "data": {
      "text/plain": [
       "array(['Kepler-106', 'Kepler-132', 'Kepler-150', 'Kepler-164',\n",
       "       'Kepler-167', 'Kepler-169', 'Kepler-172', 'Kepler-197',\n",
       "       'Kepler-20', 'Kepler-208', 'Kepler-220', 'Kepler-251',\n",
       "       'Kepler-265', 'Kepler-286', 'Kepler-299', 'Kepler-306',\n",
       "       'Kepler-324', 'Kepler-341', 'Kepler-342', 'Kepler-444',\n",
       "       'Kepler-62', 'Kepler-79', 'Kepler-82', 'V1298 Tau'], dtype='<U10')"
      ]
     },
     "execution_count": 14,
     "metadata": {},
     "output_type": "execute_result"
    }
   ],
   "source": [
    "np.sort([sys[\"name\"] for sys in good_sys])"
   ]
  },
  {
   "cell_type": "code",
   "execution_count": null,
   "metadata": {},
   "outputs": [],
   "source": []
  }
 ],
 "metadata": {
  "kernelspec": {
   "display_name": "Python 3.10.9 ('base')",
   "language": "python",
   "name": "python3"
  },
  "language_info": {
   "codemirror_mode": {
    "name": "ipython",
    "version": 3
   },
   "file_extension": ".py",
   "mimetype": "text/x-python",
   "name": "python",
   "nbconvert_exporter": "python",
   "pygments_lexer": "ipython3",
   "version": "3.10.9"
  },
  "orig_nbformat": 4,
  "vscode": {
   "interpreter": {
    "hash": "58f8f3a34cddae1f2f80be62d33c77a7f6964d928f639243d24b7901aa249ea2"
   }
  }
 },
 "nbformat": 4,
 "nbformat_minor": 2
}
