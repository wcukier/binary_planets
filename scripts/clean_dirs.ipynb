{
 "cells": [
  {
   "cell_type": "code",
   "execution_count": 2,
   "metadata": {},
   "outputs": [],
   "source": [
    "import corner\n",
    "import numpy as np\n",
    "from matplotlib import pyplot as plt\n",
    "import json\n",
    "from tqdm import tqdm\n",
    "import sys\n",
    "import shutil\n",
    "\n",
    "sys.path.append(\"../\")\n",
    "\n",
    "import tdpy\n",
    "\n",
    "plt.rcParams.update({\n",
    "  \"text.usetex\": True,\n",
    "  \"font.family\": \"Computer Modern Roman\",\n",
    "  \"font.size\":    8.0\n",
    "})"
   ]
  },
  {
   "cell_type": "code",
   "execution_count": 3,
   "metadata": {},
   "outputs": [
    {
     "name": "stderr",
     "output_type": "stream",
     "text": [
      "100%|██████████| 1999/1999 [00:09<00:00, 202.33it/s]\n"
     ]
    },
    {
     "name": "stdout",
     "output_type": "stream",
     "text": [
      "HD 108236 1999\n",
      "\n",
      "\n",
      "HD 108236 Survival Fraction: 0.008504252126063032 for 1999 systems\n"
     ]
    },
    {
     "name": "stderr",
     "output_type": "stream",
     "text": [
      "100%|██████████| 1999/1999 [00:11<00:00, 180.26it/s]\n"
     ]
    },
    {
     "name": "stdout",
     "output_type": "stream",
     "text": [
      "HD 110067 1999\n",
      "\n",
      "\n",
      "HD 110067 Survival Fraction: 0.0 for 1999 systems\n",
      "removing ../output/sin_inj/HD 110067/...\n"
     ]
    },
    {
     "name": "stderr",
     "output_type": "stream",
     "text": [
      "100%|██████████| 1998/1998 [00:44<00:00, 45.26it/s] \n",
      "100%|██████████| 1999/1999 [00:10<00:00, 192.86it/s]\n"
     ]
    },
    {
     "name": "stdout",
     "output_type": "stream",
     "text": [
      "HD 23472 1999\n",
      "\n",
      "\n",
      "HD 23472 Survival Fraction: 0.0 for 1999 systems\n",
      "removing ../output/sin_inj/HD 23472/...\n"
     ]
    },
    {
     "name": "stderr",
     "output_type": "stream",
     "text": [
      "100%|██████████| 1998/1998 [00:30<00:00, 65.21it/s] \n",
      "100%|██████████| 1999/1999 [00:00<00:00, 178221.14it/s]\n"
     ]
    },
    {
     "name": "stdout",
     "output_type": "stream",
     "text": [
      "K2-133 0\n",
      "Error processing K2-133\n"
     ]
    },
    {
     "name": "stderr",
     "output_type": "stream",
     "text": [
      "100%|██████████| 1999/1999 [00:00<00:00, 174587.99it/s]\n"
     ]
    },
    {
     "name": "stdout",
     "output_type": "stream",
     "text": [
      "K2-138 0\n",
      "Error processing K2-138\n"
     ]
    },
    {
     "name": "stderr",
     "output_type": "stream",
     "text": [
      "100%|██████████| 1999/1999 [00:00<00:00, 168388.77it/s]\n"
     ]
    },
    {
     "name": "stdout",
     "output_type": "stream",
     "text": [
      "K2-187 0\n",
      "Error processing K2-187\n"
     ]
    },
    {
     "name": "stderr",
     "output_type": "stream",
     "text": [
      "100%|██████████| 1999/1999 [00:00<00:00, 171197.83it/s]\n"
     ]
    },
    {
     "name": "stdout",
     "output_type": "stream",
     "text": [
      "K2-266 0\n",
      "Error processing K2-266\n"
     ]
    },
    {
     "name": "stderr",
     "output_type": "stream",
     "text": [
      "100%|██████████| 1999/1999 [00:00<00:00, 175681.80it/s]\n"
     ]
    },
    {
     "name": "stdout",
     "output_type": "stream",
     "text": [
      "K2-285 0\n",
      "Error processing K2-285\n"
     ]
    },
    {
     "name": "stderr",
     "output_type": "stream",
     "text": [
      "100%|██████████| 1999/1999 [00:00<00:00, 166189.25it/s]\n"
     ]
    },
    {
     "name": "stdout",
     "output_type": "stream",
     "text": [
      "K2-32 0\n",
      "Error processing K2-32\n"
     ]
    },
    {
     "name": "stderr",
     "output_type": "stream",
     "text": [
      "100%|██████████| 1999/1999 [00:00<00:00, 170127.91it/s]\n"
     ]
    },
    {
     "name": "stdout",
     "output_type": "stream",
     "text": [
      "K2-72 0\n",
      "Error processing K2-72\n"
     ]
    },
    {
     "name": "stderr",
     "output_type": "stream",
     "text": [
      "100%|██████████| 1999/1999 [00:10<00:00, 192.40it/s]\n"
     ]
    },
    {
     "name": "stdout",
     "output_type": "stream",
     "text": [
      "Kepler-324 1999\n",
      "\n",
      "\n",
      "Kepler-324 Survival Fraction: 0.21660830415207605 for 1999 systems\n"
     ]
    },
    {
     "name": "stderr",
     "output_type": "stream",
     "text": [
      "100%|██████████| 1999/1999 [00:11<00:00, 179.22it/s]\n"
     ]
    },
    {
     "name": "stdout",
     "output_type": "stream",
     "text": [
      "KOI-351 1999\n",
      "\n",
      "\n",
      "KOI-351 Survival Fraction: 0.0 for 1999 systems\n",
      "removing ../output/sin_inj/KOI-351/...\n"
     ]
    },
    {
     "name": "stderr",
     "output_type": "stream",
     "text": [
      "100%|██████████| 1998/1998 [01:03<00:00, 31.30it/s] \n",
      "100%|██████████| 1999/1999 [00:00<00:00, 173453.88it/s]\n"
     ]
    },
    {
     "name": "stdout",
     "output_type": "stream",
     "text": [
      "KOI-94 0\n",
      "Error processing KOI-94\n"
     ]
    },
    {
     "name": "stderr",
     "output_type": "stream",
     "text": [
      "100%|██████████| 1999/1999 [00:10<00:00, 190.90it/s]\n"
     ]
    },
    {
     "name": "stdout",
     "output_type": "stream",
     "text": [
      "Kepler-102 1999\n",
      "\n",
      "\n",
      "Kepler-102 Survival Fraction: 0.014507253626813406 for 1999 systems\n"
     ]
    },
    {
     "name": "stderr",
     "output_type": "stream",
     "text": [
      "100%|██████████| 1999/1999 [00:10<00:00, 197.83it/s]\n"
     ]
    },
    {
     "name": "stdout",
     "output_type": "stream",
     "text": [
      "Kepler-106 1999\n",
      "\n",
      "\n",
      "Kepler-106 Survival Fraction: 0.03801900950475238 for 1999 systems\n"
     ]
    },
    {
     "name": "stderr",
     "output_type": "stream",
     "text": [
      "100%|██████████| 1999/1999 [00:10<00:00, 196.75it/s]\n"
     ]
    },
    {
     "name": "stdout",
     "output_type": "stream",
     "text": [
      "Kepler-107 1999\n",
      "\n",
      "\n",
      "Kepler-107 Survival Fraction: 0.011005502751375688 for 1999 systems\n"
     ]
    },
    {
     "name": "stderr",
     "output_type": "stream",
     "text": [
      "100%|██████████| 1999/1999 [00:12<00:00, 165.24it/s]\n"
     ]
    },
    {
     "name": "stdout",
     "output_type": "stream",
     "text": [
      "Kepler-11 1999\n",
      "\n",
      "\n",
      "Kepler-11 Survival Fraction: 0.03501750875437719 for 1999 systems\n"
     ]
    },
    {
     "name": "stderr",
     "output_type": "stream",
     "text": [
      "100%|██████████| 1999/1999 [00:10<00:00, 194.97it/s]\n"
     ]
    },
    {
     "name": "stdout",
     "output_type": "stream",
     "text": [
      "Kepler-122 1999\n",
      "\n",
      "\n",
      "Kepler-122 Survival Fraction: 0.002001000500250125 for 1999 systems\n"
     ]
    },
    {
     "name": "stderr",
     "output_type": "stream",
     "text": [
      "100%|██████████| 1999/1999 [00:10<00:00, 194.94it/s]\n"
     ]
    },
    {
     "name": "stdout",
     "output_type": "stream",
     "text": [
      "Kepler-132 1999\n",
      "\n",
      "\n",
      "Kepler-132 Survival Fraction: 0.30665332666333167 for 1999 systems\n"
     ]
    },
    {
     "name": "stderr",
     "output_type": "stream",
     "text": [
      "100%|██████████| 1999/1999 [00:10<00:00, 188.90it/s]\n"
     ]
    },
    {
     "name": "stdout",
     "output_type": "stream",
     "text": [
      "Kepler-1388 1999\n",
      "\n",
      "\n",
      "Kepler-1388 Survival Fraction: 0.02001000500250125 for 1999 systems\n"
     ]
    },
    {
     "name": "stderr",
     "output_type": "stream",
     "text": [
      "100%|██████████| 1999/1999 [00:10<00:00, 186.35it/s]\n"
     ]
    },
    {
     "name": "stdout",
     "output_type": "stream",
     "text": [
      "Kepler-150 1999\n",
      "\n",
      "\n",
      "Kepler-150 Survival Fraction: 0.4842421210605303 for 1999 systems\n"
     ]
    },
    {
     "name": "stderr",
     "output_type": "stream",
     "text": [
      "100%|██████████| 1999/1999 [00:20<00:00, 95.39it/s] \n"
     ]
    },
    {
     "name": "stdout",
     "output_type": "stream",
     "text": [
      "Kepler-154 1999\n",
      "\n",
      "\n",
      "Kepler-154 Survival Fraction: 0.06253126563281641 for 1999 systems\n"
     ]
    },
    {
     "name": "stderr",
     "output_type": "stream",
     "text": [
      "100%|██████████| 1999/1999 [00:16<00:00, 124.59it/s]\n"
     ]
    },
    {
     "name": "stdout",
     "output_type": "stream",
     "text": [
      "Kepler-1542 1999\n",
      "\n",
      "\n",
      "Kepler-1542 Survival Fraction: 0.0015007503751875938 for 1999 systems\n"
     ]
    },
    {
     "name": "stderr",
     "output_type": "stream",
     "text": [
      "100%|██████████| 1999/1999 [00:10<00:00, 190.34it/s]\n"
     ]
    },
    {
     "name": "stdout",
     "output_type": "stream",
     "text": [
      "Kepler-164 1999\n",
      "\n",
      "\n",
      "Kepler-164 Survival Fraction: 0.32366183091545775 for 1999 systems\n"
     ]
    },
    {
     "name": "stderr",
     "output_type": "stream",
     "text": [
      "100%|██████████| 1999/1999 [00:10<00:00, 189.41it/s]\n"
     ]
    },
    {
     "name": "stdout",
     "output_type": "stream",
     "text": [
      "Kepler-167 1999\n",
      "\n",
      "\n",
      "Kepler-167 Survival Fraction: 0.743871935967984 for 1999 systems\n"
     ]
    },
    {
     "name": "stderr",
     "output_type": "stream",
     "text": [
      "100%|██████████| 1999/1999 [00:10<00:00, 185.76it/s]\n"
     ]
    },
    {
     "name": "stdout",
     "output_type": "stream",
     "text": [
      "Kepler-169 1999\n",
      "\n",
      "\n",
      "Kepler-169 Survival Fraction: 0.13506753376688344 for 1999 systems\n"
     ]
    },
    {
     "name": "stderr",
     "output_type": "stream",
     "text": [
      "100%|██████████| 1999/1999 [00:09<00:00, 212.51it/s]\n"
     ]
    },
    {
     "name": "stdout",
     "output_type": "stream",
     "text": [
      "Kepler-172 1999\n",
      "\n",
      "\n",
      "Kepler-172 Survival Fraction: 0.16758379189594796 for 1999 systems\n"
     ]
    },
    {
     "name": "stderr",
     "output_type": "stream",
     "text": [
      "100%|██████████| 1999/1999 [00:00<00:00, 177500.50it/s]\n"
     ]
    },
    {
     "name": "stdout",
     "output_type": "stream",
     "text": [
      "Kepler-176 0\n",
      "Error processing Kepler-176\n"
     ]
    },
    {
     "name": "stderr",
     "output_type": "stream",
     "text": [
      "100%|██████████| 1999/1999 [00:00<00:00, 175244.83it/s]\n"
     ]
    },
    {
     "name": "stdout",
     "output_type": "stream",
     "text": [
      "Kepler-186 0\n",
      "Error processing Kepler-186\n"
     ]
    },
    {
     "name": "stderr",
     "output_type": "stream",
     "text": [
      "100%|██████████| 1999/1999 [00:25<00:00, 77.70it/s] \n"
     ]
    },
    {
     "name": "stdout",
     "output_type": "stream",
     "text": [
      "Kepler-197 1999\n",
      "\n",
      "\n",
      "Kepler-197 Survival Fraction: 0.0 for 1999 systems\n",
      "removing ../output/sin_inj/Kepler-197/...\n"
     ]
    },
    {
     "name": "stderr",
     "output_type": "stream",
     "text": [
      "100%|██████████| 1998/1998 [02:14<00:00, 14.90it/s]\n",
      "100%|██████████| 1999/1999 [00:00<00:00, 179969.38it/s]\n"
     ]
    },
    {
     "name": "stdout",
     "output_type": "stream",
     "text": [
      "Kepler-1987 0\n",
      "Error processing Kepler-1987\n"
     ]
    },
    {
     "name": "stderr",
     "output_type": "stream",
     "text": [
      "100%|██████████| 1999/1999 [00:10<00:00, 194.16it/s]\n"
     ]
    },
    {
     "name": "stdout",
     "output_type": "stream",
     "text": [
      "Kepler-20 1999\n",
      "\n",
      "\n",
      "Kepler-20 Survival Fraction: 0.15657828914457228 for 1999 systems\n"
     ]
    },
    {
     "name": "stderr",
     "output_type": "stream",
     "text": [
      "100%|██████████| 1999/1999 [00:10<00:00, 197.85it/s]\n"
     ]
    },
    {
     "name": "stdout",
     "output_type": "stream",
     "text": [
      "Kepler-208 1999\n",
      "\n",
      "\n",
      "Kepler-208 Survival Fraction: 0.010505252626313157 for 1999 systems\n"
     ]
    },
    {
     "name": "stderr",
     "output_type": "stream",
     "text": [
      "100%|██████████| 1999/1999 [00:09<00:00, 200.92it/s]\n"
     ]
    },
    {
     "name": "stdout",
     "output_type": "stream",
     "text": [
      "Kepler-215 1999\n",
      "\n",
      "\n",
      "Kepler-215 Survival Fraction: 0.03151575787893947 for 1999 systems\n"
     ]
    },
    {
     "name": "stderr",
     "output_type": "stream",
     "text": [
      "100%|██████████| 1999/1999 [00:10<00:00, 198.02it/s]\n"
     ]
    },
    {
     "name": "stdout",
     "output_type": "stream",
     "text": [
      "Kepler-220 1999\n",
      "\n",
      "\n",
      "Kepler-220 Survival Fraction: 0.23111555777888945 for 1999 systems\n"
     ]
    },
    {
     "name": "stderr",
     "output_type": "stream",
     "text": [
      "100%|██████████| 1999/1999 [00:00<00:00, 177756.40it/s]\n"
     ]
    },
    {
     "name": "stdout",
     "output_type": "stream",
     "text": [
      "Kepler-221 0\n",
      "Error processing Kepler-221\n"
     ]
    },
    {
     "name": "stderr",
     "output_type": "stream",
     "text": [
      "100%|██████████| 1999/1999 [00:09<00:00, 200.67it/s]\n"
     ]
    },
    {
     "name": "stdout",
     "output_type": "stream",
     "text": [
      "Kepler-223 1999\n",
      "\n",
      "\n",
      "Kepler-223 Survival Fraction: 0.0 for 1999 systems\n",
      "removing ../output/sin_inj/Kepler-223/...\n"
     ]
    },
    {
     "name": "stderr",
     "output_type": "stream",
     "text": [
      "100%|██████████| 1998/1998 [00:57<00:00, 34.46it/s] \n",
      "100%|██████████| 1999/1999 [00:30<00:00, 64.92it/s] \n"
     ]
    },
    {
     "name": "stdout",
     "output_type": "stream",
     "text": [
      "Kepler-224 1999\n",
      "\n",
      "\n",
      "Kepler-224 Survival Fraction: 0.013006503251625813 for 1999 systems\n"
     ]
    },
    {
     "name": "stderr",
     "output_type": "stream",
     "text": [
      "100%|██████████| 1999/1999 [00:16<00:00, 120.23it/s]\n"
     ]
    },
    {
     "name": "stdout",
     "output_type": "stream",
     "text": [
      "Kepler-235 1999\n",
      "\n",
      "\n",
      "Kepler-235 Survival Fraction: 0.15657828914457228 for 1999 systems\n"
     ]
    },
    {
     "name": "stderr",
     "output_type": "stream",
     "text": [
      "100%|██████████| 1999/1999 [00:10<00:00, 193.86it/s]\n"
     ]
    },
    {
     "name": "stdout",
     "output_type": "stream",
     "text": [
      "Kepler-238 1999\n",
      "\n",
      "\n",
      "Kepler-238 Survival Fraction: 0.01200600300150075 for 1999 systems\n"
     ]
    },
    {
     "name": "stderr",
     "output_type": "stream",
     "text": [
      "100%|██████████| 1999/1999 [00:10<00:00, 196.30it/s]\n"
     ]
    },
    {
     "name": "stdout",
     "output_type": "stream",
     "text": [
      "Kepler-24 1999\n",
      "\n",
      "\n",
      "Kepler-24 Survival Fraction: 0.006003001500750375 for 1999 systems\n"
     ]
    },
    {
     "name": "stderr",
     "output_type": "stream",
     "text": [
      "100%|██████████| 1999/1999 [00:00<00:00, 177147.98it/s]\n"
     ]
    },
    {
     "name": "stdout",
     "output_type": "stream",
     "text": [
      "Kepler-245 0\n",
      "Error processing Kepler-245\n"
     ]
    },
    {
     "name": "stderr",
     "output_type": "stream",
     "text": [
      "100%|██████████| 1999/1999 [00:10<00:00, 195.97it/s]\n"
     ]
    },
    {
     "name": "stdout",
     "output_type": "stream",
     "text": [
      "Kepler-251 1999\n",
      "\n",
      "\n",
      "Kepler-251 Survival Fraction: 0.256128064032016 for 1999 systems\n"
     ]
    },
    {
     "name": "stderr",
     "output_type": "stream",
     "text": [
      "100%|██████████| 1999/1999 [00:10<00:00, 199.36it/s]\n"
     ]
    },
    {
     "name": "stdout",
     "output_type": "stream",
     "text": [
      "Kepler-256 1999\n",
      "\n",
      "\n",
      "Kepler-256 Survival Fraction: 0.027013506753376687 for 1999 systems\n"
     ]
    },
    {
     "name": "stderr",
     "output_type": "stream",
     "text": [
      "100%|██████████| 1999/1999 [00:00<00:00, 176187.56it/s]\n"
     ]
    },
    {
     "name": "stdout",
     "output_type": "stream",
     "text": [
      "Kepler-26 0\n",
      "Error processing Kepler-26\n"
     ]
    },
    {
     "name": "stderr",
     "output_type": "stream",
     "text": [
      "100%|██████████| 1999/1999 [00:10<00:00, 196.58it/s]\n"
     ]
    },
    {
     "name": "stdout",
     "output_type": "stream",
     "text": [
      "Kepler-265 1999\n",
      "\n",
      "\n",
      "Kepler-265 Survival Fraction: 0.09404702351175588 for 1999 systems\n"
     ]
    },
    {
     "name": "stderr",
     "output_type": "stream",
     "text": [
      "100%|██████████| 1999/1999 [00:00<00:00, 182341.21it/s]\n"
     ]
    },
    {
     "name": "stdout",
     "output_type": "stream",
     "text": [
      "Kepler-282 0\n",
      "Error processing Kepler-282\n"
     ]
    },
    {
     "name": "stderr",
     "output_type": "stream",
     "text": [
      "100%|██████████| 1999/1999 [00:10<00:00, 196.69it/s]\n"
     ]
    },
    {
     "name": "stdout",
     "output_type": "stream",
     "text": [
      "Kepler-286 1999\n",
      "\n",
      "\n",
      "Kepler-286 Survival Fraction: 0.47123561780890444 for 1999 systems\n"
     ]
    },
    {
     "name": "stderr",
     "output_type": "stream",
     "text": [
      "100%|██████████| 1999/1999 [00:00<00:00, 181457.25it/s]\n"
     ]
    },
    {
     "name": "stdout",
     "output_type": "stream",
     "text": [
      "Kepler-292 0\n",
      "Error processing Kepler-292\n"
     ]
    },
    {
     "name": "stderr",
     "output_type": "stream",
     "text": [
      "100%|██████████| 1999/1999 [00:00<00:00, 177617.07it/s]\n"
     ]
    },
    {
     "name": "stdout",
     "output_type": "stream",
     "text": [
      "Kepler-296 0\n",
      "Error processing Kepler-296\n"
     ]
    },
    {
     "name": "stderr",
     "output_type": "stream",
     "text": [
      "100%|██████████| 1999/1999 [00:09<00:00, 201.75it/s]\n"
     ]
    },
    {
     "name": "stdout",
     "output_type": "stream",
     "text": [
      "Kepler-299 1999\n",
      "\n",
      "\n",
      "Kepler-299 Survival Fraction: 0.21210605302651325 for 1999 systems\n"
     ]
    },
    {
     "name": "stderr",
     "output_type": "stream",
     "text": [
      "100%|██████████| 1999/1999 [00:00<00:00, 180469.10it/s]\n"
     ]
    },
    {
     "name": "stdout",
     "output_type": "stream",
     "text": [
      "Kepler-304 0\n",
      "Error processing Kepler-304\n"
     ]
    },
    {
     "name": "stderr",
     "output_type": "stream",
     "text": [
      "100%|██████████| 1999/1999 [00:00<00:00, 173644.27it/s]\n"
     ]
    },
    {
     "name": "stdout",
     "output_type": "stream",
     "text": [
      "Kepler-305 0\n",
      "Error processing Kepler-305\n"
     ]
    },
    {
     "name": "stderr",
     "output_type": "stream",
     "text": [
      "100%|██████████| 1999/1999 [00:10<00:00, 198.76it/s]\n"
     ]
    },
    {
     "name": "stdout",
     "output_type": "stream",
     "text": [
      "Kepler-306 1999\n",
      "\n",
      "\n",
      "Kepler-306 Survival Fraction: 0.14107053526763383 for 1999 systems\n"
     ]
    },
    {
     "name": "stderr",
     "output_type": "stream",
     "text": [
      "100%|██████████| 1999/1999 [00:00<00:00, 181488.67it/s]\n"
     ]
    },
    {
     "name": "stdout",
     "output_type": "stream",
     "text": [
      "Kepler-32 0\n",
      "Error processing Kepler-32\n"
     ]
    },
    {
     "name": "stderr",
     "output_type": "stream",
     "text": [
      "100%|██████████| 1999/1999 [00:09<00:00, 209.93it/s]\n"
     ]
    },
    {
     "name": "stdout",
     "output_type": "stream",
     "text": [
      "Kepler-33 1999\n",
      "\n",
      "\n",
      "Kepler-33 Survival Fraction: 0.010505252626313157 for 1999 systems\n"
     ]
    },
    {
     "name": "stderr",
     "output_type": "stream",
     "text": [
      "100%|██████████| 1999/1999 [00:08<00:00, 230.46it/s]\n"
     ]
    },
    {
     "name": "stdout",
     "output_type": "stream",
     "text": [
      "Kepler-338 1999\n",
      "\n",
      "\n",
      "Kepler-338 Survival Fraction: 0.0 for 1999 systems\n",
      "removing ../output/sin_inj/Kepler-338/...\n"
     ]
    },
    {
     "name": "stderr",
     "output_type": "stream",
     "text": [
      "100%|██████████| 1998/1998 [00:27<00:00, 73.13it/s] \n",
      "100%|██████████| 1999/1999 [00:09<00:00, 208.65it/s]\n"
     ]
    },
    {
     "name": "stdout",
     "output_type": "stream",
     "text": [
      "Kepler-341 1999\n",
      "\n",
      "\n",
      "Kepler-341 Survival Fraction: 0.16558279139569784 for 1999 systems\n"
     ]
    },
    {
     "name": "stderr",
     "output_type": "stream",
     "text": [
      "100%|██████████| 1999/1999 [00:09<00:00, 200.45it/s]\n"
     ]
    },
    {
     "name": "stdout",
     "output_type": "stream",
     "text": [
      "Kepler-342 1999\n",
      "\n",
      "\n",
      "Kepler-342 Survival Fraction: 0.352176088044022 for 1999 systems\n"
     ]
    },
    {
     "name": "stderr",
     "output_type": "stream",
     "text": [
      "100%|██████████| 1999/1999 [00:10<00:00, 198.64it/s]\n"
     ]
    },
    {
     "name": "stdout",
     "output_type": "stream",
     "text": [
      "Kepler-37 1999\n",
      "\n",
      "\n",
      "Kepler-37 Survival Fraction: 0.0080040020010005 for 1999 systems\n"
     ]
    },
    {
     "name": "stderr",
     "output_type": "stream",
     "text": [
      "100%|██████████| 1999/1999 [00:10<00:00, 198.57it/s]\n"
     ]
    },
    {
     "name": "stdout",
     "output_type": "stream",
     "text": [
      "Kepler-402 1999\n",
      "\n",
      "\n",
      "Kepler-402 Survival Fraction: 0.0015007503751875938 for 1999 systems\n"
     ]
    },
    {
     "name": "stderr",
     "output_type": "stream",
     "text": [
      "100%|██████████| 1999/1999 [00:10<00:00, 191.57it/s]\n"
     ]
    },
    {
     "name": "stdout",
     "output_type": "stream",
     "text": [
      "Kepler-444 1999\n",
      "\n",
      "\n",
      "Kepler-444 Survival Fraction: 0.0 for 1999 systems\n",
      "removing ../output/sin_inj/Kepler-444/...\n"
     ]
    },
    {
     "name": "stderr",
     "output_type": "stream",
     "text": [
      "100%|██████████| 1998/1998 [00:14<00:00, 136.77it/s]\n",
      "100%|██████████| 1999/1999 [00:00<00:00, 179242.23it/s]\n"
     ]
    },
    {
     "name": "stdout",
     "output_type": "stream",
     "text": [
      "Kepler-49 0\n",
      "Error processing Kepler-49\n"
     ]
    },
    {
     "name": "stderr",
     "output_type": "stream",
     "text": [
      "100%|██████████| 1999/1999 [00:00<00:00, 179315.06it/s]\n"
     ]
    },
    {
     "name": "stdout",
     "output_type": "stream",
     "text": [
      "Kepler-55 0\n",
      "Error processing Kepler-55\n"
     ]
    },
    {
     "name": "stderr",
     "output_type": "stream",
     "text": [
      "100%|██████████| 1999/1999 [00:10<00:00, 196.13it/s]\n"
     ]
    },
    {
     "name": "stdout",
     "output_type": "stream",
     "text": [
      "Kepler-58 1999\n",
      "\n",
      "\n",
      "Kepler-58 Survival Fraction: 0.06603301650825413 for 1999 systems\n"
     ]
    },
    {
     "name": "stderr",
     "output_type": "stream",
     "text": [
      "100%|██████████| 1999/1999 [00:11<00:00, 180.78it/s]\n"
     ]
    },
    {
     "name": "stdout",
     "output_type": "stream",
     "text": [
      "Kepler-62 1999\n",
      "\n",
      "\n",
      "Kepler-62 Survival Fraction: 0.17508754377188596 for 1999 systems\n"
     ]
    },
    {
     "name": "stderr",
     "output_type": "stream",
     "text": [
      "100%|██████████| 1999/1999 [00:08<00:00, 227.41it/s]\n"
     ]
    },
    {
     "name": "stdout",
     "output_type": "stream",
     "text": [
      "Kepler-758 1999\n",
      "\n",
      "\n",
      "Kepler-758 Survival Fraction: 0.005502751375687844 for 1999 systems\n"
     ]
    },
    {
     "name": "stderr",
     "output_type": "stream",
     "text": [
      "100%|██████████| 1999/1999 [00:08<00:00, 230.71it/s]\n"
     ]
    },
    {
     "name": "stdout",
     "output_type": "stream",
     "text": [
      "Kepler-79 1999\n",
      "\n",
      "\n",
      "Kepler-79 Survival Fraction: 0.06603301650825413 for 1999 systems\n"
     ]
    },
    {
     "name": "stderr",
     "output_type": "stream",
     "text": [
      "100%|██████████| 1999/1999 [00:08<00:00, 229.72it/s]\n"
     ]
    },
    {
     "name": "stdout",
     "output_type": "stream",
     "text": [
      "Kepler-82 1999\n",
      "\n",
      "\n",
      "Kepler-82 Survival Fraction: 0.5047523761880941 for 1999 systems\n"
     ]
    },
    {
     "name": "stderr",
     "output_type": "stream",
     "text": [
      "100%|██████████| 1999/1999 [00:10<00:00, 182.98it/s]\n"
     ]
    },
    {
     "name": "stdout",
     "output_type": "stream",
     "text": [
      "Kepler-84 1999\n",
      "\n",
      "\n",
      "Kepler-84 Survival Fraction: 0.0005002501250625312 for 1999 systems\n"
     ]
    },
    {
     "name": "stderr",
     "output_type": "stream",
     "text": [
      "100%|██████████| 1999/1999 [00:11<00:00, 171.10it/s]\n"
     ]
    },
    {
     "name": "stdout",
     "output_type": "stream",
     "text": [
      "Kepler-85 1999\n",
      "\n",
      "\n",
      "Kepler-85 Survival Fraction: 0.0025012506253126563 for 1999 systems\n"
     ]
    },
    {
     "name": "stderr",
     "output_type": "stream",
     "text": [
      "100%|██████████| 1999/1999 [00:10<00:00, 196.54it/s]\n"
     ]
    },
    {
     "name": "stdout",
     "output_type": "stream",
     "text": [
      "TOI-1246 1999\n",
      "\n",
      "\n",
      "TOI-1246 Survival Fraction: 0.026513256628314157 for 1999 systems\n"
     ]
    },
    {
     "name": "stderr",
     "output_type": "stream",
     "text": [
      "100%|██████████| 1999/1999 [00:00<00:00, 180803.78it/s]\n"
     ]
    },
    {
     "name": "stdout",
     "output_type": "stream",
     "text": [
      "TOI-178 0\n",
      "Error processing TOI-178\n"
     ]
    },
    {
     "name": "stderr",
     "output_type": "stream",
     "text": [
      "100%|██████████| 1999/1999 [00:09<00:00, 204.25it/s]\n"
     ]
    },
    {
     "name": "stdout",
     "output_type": "stream",
     "text": [
      "TOI-561 1999\n",
      "\n",
      "\n",
      "TOI-561 Survival Fraction: 0.7168584292146073 for 1999 systems\n"
     ]
    },
    {
     "name": "stderr",
     "output_type": "stream",
     "text": [
      "100%|██████████| 1999/1999 [00:31<00:00, 63.73it/s] \n"
     ]
    },
    {
     "name": "stdout",
     "output_type": "stream",
     "text": [
      "TOI-700 1999\n",
      "\n",
      "\n",
      "TOI-700 Survival Fraction: 0.0050025012506253125 for 1999 systems\n"
     ]
    },
    {
     "name": "stderr",
     "output_type": "stream",
     "text": [
      "100%|██████████| 1999/1999 [00:17<00:00, 114.16it/s]\n"
     ]
    },
    {
     "name": "stdout",
     "output_type": "stream",
     "text": [
      "TRAPPIST-1 1999\n",
      "\n",
      "\n",
      "TRAPPIST-1 Survival Fraction: 0.021510755377688845 for 1999 systems\n"
     ]
    },
    {
     "name": "stderr",
     "output_type": "stream",
     "text": [
      "100%|██████████| 1999/1999 [00:11<00:00, 177.89it/s]\n"
     ]
    },
    {
     "name": "stdout",
     "output_type": "stream",
     "text": [
      "V1298 Tau 1999\n",
      "\n",
      "\n",
      "V1298 Tau Survival Fraction: 0.0 for 1999 systems\n",
      "removing ../output/sin_inj/V1298 Tau/...\n"
     ]
    },
    {
     "name": "stderr",
     "output_type": "stream",
     "text": [
      "100%|██████████| 1998/1998 [00:15<00:00, 127.76it/s]\n"
     ]
    }
   ],
   "source": [
    "n = 2000\n",
    "run_systems = np.load(\"../data/compact_systems_run_composite.npy\", allow_pickle=True)\n",
    "\n",
    "# dirs = [\"no_inj\", \"single_inj\", \"binary_inj\"]\n",
    "dirs = [\"sin_inj\"]\n",
    "\n",
    "systems = [sys[\"name\"] for sys in run_systems]\n",
    "# systems = [\"TOI-1246\"]\n",
    "\n",
    "results = {}\n",
    "    \n",
    "\n",
    "for dir in dirs:\n",
    "    results[dir] = {}\n",
    "    for system in systems:\n",
    "        results[dir][system] = {}\n",
    "\n",
    "        n_act = 0\n",
    "        none_survived = False\n",
    "        try:\n",
    "            with open(f\"../output/{dir}/{system}/NONE_SURVIVED.txt\") as f:\n",
    "                n_act = f.readline()\n",
    "                none_survived = True\n",
    "        except Exception as e:\n",
    "            pass\n",
    "\n",
    "        if not none_survived:\n",
    "            for i in tqdm(range(1, n)):\n",
    "                try:\n",
    "                    summary = np.load(f\"../output/{dir}/{system}/{i}/summary.npy\")\n",
    "                    with open(f\"../output/{dir}/{system}/{i}/config.json\") as f:\n",
    "                        cfg = json.load(f)\n",
    "                    elements = np.load(f\"../output/{dir}/{system}/{i}/elements.npy\")\n",
    "                    if n_act==0:\n",
    "                        results[dir][system][\"a_i\"] = elements[0,:,0]\n",
    "                        results[dir][system][\"a_f\"] = elements[-1,:,0]\n",
    "                        if dir[:3] == \"bin\":\n",
    "                            results[dir][system][\"bin_m1\"] = [cfg[\"binary\"][\"m1\"]]\n",
    "                            results[dir][system][\"bin_m2\"] = [cfg[\"binary\"][\"m2\"]]\n",
    "                            results[dir][system][\"bin_esys\"] = [cfg[\"binary\"][\"e_sys\"]]\n",
    "                            results[dir][system][\"bin_e\"] = [cfg[\"binary\"][\"e\"]]\n",
    "                            results[dir][system][\"bin_d\"] = [cfg[\"binary\"][\"d\"]]\n",
    "                            results[dir][system][\"bin_a\"] = [cfg[\"binary\"][\"a\"]]\n",
    "\n",
    "                    else:\n",
    "                        results[dir][system][\"a_i\"] = np.vstack(\n",
    "                            (results[dir][system][\"a_i\"], elements[0,:,0]))\n",
    "                        results[dir][system][\"a_f\"] = np.vstack(\n",
    "                            (results[dir][system][\"a_f\"], elements[-1,:,0]))\n",
    "                        if dir[:3] == \"bin\":\n",
    "                            results[dir][system][\"bin_m1\"].append(cfg[\"binary\"][\"m1\"])\n",
    "                            results[dir][system][\"bin_m2\"].append(cfg[\"binary\"][\"m2\"])\n",
    "                            results[dir][system][\"bin_esys\"].append(cfg[\"binary\"][\"e_sys\"])\n",
    "                            results[dir][system][\"bin_e\"].append(cfg[\"binary\"][\"e\"])\n",
    "                            results[dir][system][\"bin_d\"].append(cfg[\"binary\"][\"d\"])\n",
    "                            results[dir][system][\"bin_a\"].append(cfg[\"binary\"][\"a\"])\n",
    "\n",
    "                    n_act += 1\n",
    "                    a_i, a_f =  results[dir][system][\"a_i\"],  results[dir][system][\"a_f\"]\n",
    "                    if (np.sum(((a_i-a_f)/a_i)[:,1]<0.1) > 0):\n",
    "                        pass\n",
    "                except Exception as e:\n",
    "                    # print(e)\n",
    "                    pass\n",
    "            try:\n",
    "                if dir[:3] == \"bin\":                \n",
    "                    results[dir][system][\"bin_m1\"] = np.array(results[dir][system][\"bin_m1\"])\n",
    "                    results[dir][system][\"bin_m2\"] = np.array(results[dir][system][\"bin_m2\"])\n",
    "                    results[dir][system][\"bin_esys\"] = np.array(results[dir][system][\"bin_esys\"])\n",
    "                    results[dir][system][\"bin_e\"] = np.array(results[dir][system][\"bin_e\"])\n",
    "                    results[dir][system][\"bin_d\"] = np.array(results[dir][system][\"bin_d\"])\n",
    "                    results[dir][system][\"bin_a\"] = np.array(results[dir][system][\"bin_a\"])\n",
    "                print(system, n_act)\n",
    "            except:\n",
    "                pass\n",
    "            try:\n",
    "                a_i, a_f =  results[dir][system][\"a_i\"],  results[dir][system][\"a_f\"]\n",
    "                \n",
    "                results[dir][system][\"n_survived\"] = np.sum(((a_i-a_f)/a_i)[:,1]<0.1)\n",
    "                results[dir][system][\"n_act\"] = n_act\n",
    "                results[dir][system][\"survival_frac\"] = np.sum(((a_i-a_f)/a_i)[:,1]<0.1)/n_act\n",
    "                print(f\"\\n\\n{system} Survival Fraction: {np.sum(((a_i-a_f)/a_i)[:,1]<0.1)/n_act} for {n_act} systems\")\n",
    "            except:\n",
    "                print(f\"Error processing {system}\")\n",
    "                results[dir][system][\"n_survived\"] = np.nan\n",
    "                results[dir][system][\"n_act\"] = np.nan\n",
    "                results[dir][system][\"survival_frac\"] = np.nan\n",
    "                \n",
    "            if (results[dir][system][\"n_survived\"] < 1e-20):\n",
    "                with open(f\"../output/{dir}/{system}/NONE_SURVIVED.txt\", \"w+\") as f:\n",
    "                    f.write(f\"{n_act}\")\n",
    "                print(f\"removing ../output/{dir}/{system}/...\")\n",
    "                for i in tqdm(range(1, n_act)):\n",
    "                    shutil.rmtree(f\"../output/{dir}/{system}/{i}\")\n",
    "                \n",
    "                \n",
    "                \n",
    "        else:\n",
    "                print(f\"NONE SURVIVED in {system}\")\n",
    "                results[dir][system][\"n_survived\"] = 0\n",
    "                results[dir][system][\"n_act\"] = n_act\n",
    "                results[dir][system][\"survival_frac\"] = 0\n",
    "                \n",
    "            \n",
    "    \n"
   ]
  },
  {
   "cell_type": "code",
   "execution_count": null,
   "metadata": {},
   "outputs": [],
   "source": [
    "/scratch/gpfs/wcukier/binary_planets/output/no_inj_large_sample/HD 108236/NONE_SURVIVED.txt"
   ]
  },
  {
   "cell_type": "code",
   "execution_count": 4,
   "metadata": {},
   "outputs": [
    {
     "data": {
      "text/plain": [
       "['HD 108236',\n",
       " 'HD 191939',\n",
       " 'HD 23472',\n",
       " 'K2-133',\n",
       " 'K2-138',\n",
       " 'K2-266',\n",
       " 'K2-285',\n",
       " 'K2-32',\n",
       " 'K2-72',\n",
       " 'KOI-94',\n",
       " 'Kepler-102',\n",
       " 'Kepler-107',\n",
       " 'Kepler-11',\n",
       " 'Kepler-150',\n",
       " 'Kepler-167',\n",
       " 'Kepler-169',\n",
       " 'Kepler-172',\n",
       " 'Kepler-186',\n",
       " 'Kepler-197',\n",
       " 'Kepler-20',\n",
       " 'Kepler-208',\n",
       " 'Kepler-215',\n",
       " 'Kepler-220',\n",
       " 'Kepler-221',\n",
       " 'Kepler-224',\n",
       " 'Kepler-235',\n",
       " 'Kepler-24',\n",
       " 'Kepler-251',\n",
       " 'Kepler-256',\n",
       " 'Kepler-265',\n",
       " 'Kepler-286',\n",
       " 'Kepler-292',\n",
       " 'Kepler-296',\n",
       " 'Kepler-299',\n",
       " 'Kepler-306',\n",
       " 'Kepler-32',\n",
       " 'Kepler-33',\n",
       " 'Kepler-341',\n",
       " 'Kepler-402',\n",
       " 'Kepler-444',\n",
       " 'Kepler-62',\n",
       " 'Kepler-79',\n",
       " 'Kepler-82',\n",
       " 'TOI-1246',\n",
       " 'TOI-178',\n",
       " 'TOI-561',\n",
       " 'TOI-700',\n",
       " 'TRAPPIST-1',\n",
       " 'V1298 Tau']"
      ]
     },
     "execution_count": 4,
     "metadata": {},
     "output_type": "execute_result"
    }
   ],
   "source": [
    "systems"
   ]
  },
  {
   "cell_type": "code",
   "execution_count": 8,
   "metadata": {},
   "outputs": [
    {
     "name": "stdout",
     "output_type": "stream",
     "text": [
      "[Errno 2] No such file or directory: '../output/bin_inj/HD 108236/NONE_SURVIVED.txt'\n",
      "[Errno 2] No such file or directory: '../output/bin_inj/HD 110067/NONE_SURVIVED.txt'\n",
      "[Errno 2] No such file or directory: '../output/bin_inj/HD 23472/NONE_SURVIVED.txt'\n",
      "[Errno 2] No such file or directory: '../output/bin_inj/Kepler-324/NONE_SURVIVED.txt'\n",
      "[Errno 2] No such file or directory: '../output/bin_inj/KOI-351/NONE_SURVIVED.txt'\n",
      "[Errno 2] No such file or directory: '../output/bin_inj/Kepler-102/NONE_SURVIVED.txt'\n",
      "[Errno 2] No such file or directory: '../output/bin_inj/Kepler-106/NONE_SURVIVED.txt'\n",
      "[Errno 2] No such file or directory: '../output/bin_inj/Kepler-107/NONE_SURVIVED.txt'\n",
      "[Errno 2] No such file or directory: '../output/bin_inj/Kepler-11/NONE_SURVIVED.txt'\n",
      "[Errno 2] No such file or directory: '../output/bin_inj/Kepler-122/NONE_SURVIVED.txt'\n",
      "[Errno 2] No such file or directory: '../output/bin_inj/Kepler-132/NONE_SURVIVED.txt'\n",
      "[Errno 2] No such file or directory: '../output/bin_inj/Kepler-1388/NONE_SURVIVED.txt'\n",
      "[Errno 2] No such file or directory: '../output/bin_inj/Kepler-150/NONE_SURVIVED.txt'\n",
      "[Errno 2] No such file or directory: '../output/bin_inj/Kepler-154/NONE_SURVIVED.txt'\n",
      "[Errno 2] No such file or directory: '../output/bin_inj/Kepler-1542/NONE_SURVIVED.txt'\n",
      "[Errno 2] No such file or directory: '../output/bin_inj/Kepler-164/NONE_SURVIVED.txt'\n",
      "[Errno 2] No such file or directory: '../output/bin_inj/Kepler-167/NONE_SURVIVED.txt'\n",
      "[Errno 2] No such file or directory: '../output/bin_inj/Kepler-169/NONE_SURVIVED.txt'\n",
      "[Errno 2] No such file or directory: '../output/bin_inj/Kepler-172/NONE_SURVIVED.txt'\n",
      "[Errno 2] No such file or directory: '../output/bin_inj/Kepler-197/NONE_SURVIVED.txt'\n",
      "[Errno 2] No such file or directory: '../output/bin_inj/Kepler-20/NONE_SURVIVED.txt'\n",
      "[Errno 2] No such file or directory: '../output/bin_inj/Kepler-208/NONE_SURVIVED.txt'\n",
      "[Errno 2] No such file or directory: '../output/bin_inj/Kepler-215/NONE_SURVIVED.txt'\n",
      "[Errno 2] No such file or directory: '../output/bin_inj/Kepler-220/NONE_SURVIVED.txt'\n",
      "[Errno 2] No such file or directory: '../output/bin_inj/Kepler-223/NONE_SURVIVED.txt'\n",
      "[Errno 2] No such file or directory: '../output/bin_inj/Kepler-224/NONE_SURVIVED.txt'\n",
      "[Errno 2] No such file or directory: '../output/bin_inj/Kepler-235/NONE_SURVIVED.txt'\n",
      "[Errno 2] No such file or directory: '../output/bin_inj/Kepler-238/NONE_SURVIVED.txt'\n",
      "[Errno 2] No such file or directory: '../output/bin_inj/Kepler-24/NONE_SURVIVED.txt'\n",
      "[Errno 2] No such file or directory: '../output/bin_inj/Kepler-251/NONE_SURVIVED.txt'\n",
      "[Errno 2] No such file or directory: '../output/bin_inj/Kepler-256/NONE_SURVIVED.txt'\n",
      "[Errno 2] No such file or directory: '../output/bin_inj/Kepler-265/NONE_SURVIVED.txt'\n",
      "[Errno 2] No such file or directory: '../output/bin_inj/Kepler-286/NONE_SURVIVED.txt'\n",
      "[Errno 2] No such file or directory: '../output/bin_inj/Kepler-299/NONE_SURVIVED.txt'\n",
      "[Errno 2] No such file or directory: '../output/bin_inj/Kepler-306/NONE_SURVIVED.txt'\n",
      "[Errno 2] No such file or directory: '../output/bin_inj/Kepler-33/NONE_SURVIVED.txt'\n",
      "[Errno 2] No such file or directory: '../output/bin_inj/Kepler-338/NONE_SURVIVED.txt'\n",
      "[Errno 2] No such file or directory: '../output/bin_inj/Kepler-341/NONE_SURVIVED.txt'\n",
      "[Errno 2] No such file or directory: '../output/bin_inj/Kepler-342/NONE_SURVIVED.txt'\n",
      "[Errno 2] No such file or directory: '../output/bin_inj/Kepler-37/NONE_SURVIVED.txt'\n",
      "[Errno 2] No such file or directory: '../output/bin_inj/Kepler-402/NONE_SURVIVED.txt'\n",
      "[Errno 2] No such file or directory: '../output/bin_inj/Kepler-444/NONE_SURVIVED.txt'\n",
      "[Errno 2] No such file or directory: '../output/bin_inj/Kepler-58/NONE_SURVIVED.txt'\n",
      "[Errno 2] No such file or directory: '../output/bin_inj/Kepler-62/NONE_SURVIVED.txt'\n",
      "[Errno 2] No such file or directory: '../output/bin_inj/Kepler-758/NONE_SURVIVED.txt'\n",
      "[Errno 2] No such file or directory: '../output/bin_inj/Kepler-79/NONE_SURVIVED.txt'\n",
      "[Errno 2] No such file or directory: '../output/bin_inj/Kepler-82/NONE_SURVIVED.txt'\n",
      "[Errno 2] No such file or directory: '../output/bin_inj/Kepler-84/NONE_SURVIVED.txt'\n",
      "[Errno 2] No such file or directory: '../output/bin_inj/Kepler-85/NONE_SURVIVED.txt'\n",
      "[Errno 2] No such file or directory: '../output/bin_inj/TOI-1246/NONE_SURVIVED.txt'\n",
      "[Errno 2] No such file or directory: '../output/bin_inj/TOI-561/NONE_SURVIVED.txt'\n",
      "[Errno 2] No such file or directory: '../output/bin_inj/TOI-700/NONE_SURVIVED.txt'\n",
      "[Errno 2] No such file or directory: '../output/bin_inj/TRAPPIST-1/NONE_SURVIVED.txt'\n",
      "[Errno 2] No such file or directory: '../output/bin_inj/V1298 Tau/NONE_SURVIVED.txt'\n"
     ]
    }
   ],
   "source": [
    "n = 10000\n",
    "run_systems = np.load(\"../data/compact_systems_run_composite.npy\", allow_pickle=True)\n",
    "\n",
    "# dirs = [\"no_inj\", \"single_inj\", \"binary_inj\"]\n",
    "dirs = [\"bin_inj\"]\n",
    "\n",
    "systems = [sys[\"name\"] for sys in run_systems]\n",
    "# systems = [\"TOI-1246\"]\n",
    "\n",
    "valid_sys = [ \"Kepler-324\", \"Kepler-220\", \"Kepler-265\", \"Kepler-306\"]\n",
    "# run_sys = [\"Kepler-106\",  \"Kepler-150\",  \"Kepler-172\",  \"Kepler-20\",   \n",
    "#            \"Kepler-251\",  \"Kepler-286\",  \"Kepler-306\",  \"Kepler-341\",  \"Kepler-444\",  \"Kepler-79\",\n",
    "#             \"Kepler-132\",  \"Kepler-164\",  \"Kepler-197\",  \"Kepler-220\",  \"Kepler-265\", \n",
    "#             \"Kepler-299\",  \"Kepler-324\",  \"Kepler-342\",  \"Kepler-62\",   \"Kepler-82\"]\n",
    "\n",
    "results = {}\n",
    "    \n",
    "good_sys = []\n",
    "\n",
    "for dir in dirs:\n",
    "    results[dir] = {}\n",
    "    for sys in run_systems:\n",
    "        system=sys[\"name\"]\n",
    "        results[dir][system] = {}\n",
    "\n",
    "        n_act = 0\n",
    "        none_survived = False\n",
    "        try:\n",
    "            with open(f\"../output/{dir}/{system}/NONE_SURVIVED.txt\") as f:\n",
    "                n_act = f.readline()\n",
    "                none_survived = True\n",
    "                if int(n_act) < 1900:\n",
    "                    print(n_act)\n",
    "                    # good_sys.append(sys)\n",
    "        except Exception as e:\n",
    "            print(e)\n",
    "            # if system in valid_sys:\n",
    "            good_sys.append(sys)\n"
   ]
  },
  {
   "cell_type": "code",
   "execution_count": 9,
   "metadata": {},
   "outputs": [
    {
     "data": {
      "text/plain": [
       "54"
      ]
     },
     "execution_count": 9,
     "metadata": {},
     "output_type": "execute_result"
    }
   ],
   "source": [
    "len(good_sys)"
   ]
  },
  {
   "cell_type": "code",
   "execution_count": 10,
   "metadata": {},
   "outputs": [],
   "source": [
    "np.save(\"../data/compact_systems_run_composite_good\", good_sys)\n"
   ]
  },
  {
   "cell_type": "code",
   "execution_count": 14,
   "metadata": {},
   "outputs": [
    {
     "data": {
      "text/plain": [
       "array(['Kepler-106', 'Kepler-132', 'Kepler-150', 'Kepler-164',\n",
       "       'Kepler-167', 'Kepler-169', 'Kepler-172', 'Kepler-197',\n",
       "       'Kepler-20', 'Kepler-208', 'Kepler-220', 'Kepler-251',\n",
       "       'Kepler-265', 'Kepler-286', 'Kepler-299', 'Kepler-306',\n",
       "       'Kepler-324', 'Kepler-341', 'Kepler-342', 'Kepler-444',\n",
       "       'Kepler-62', 'Kepler-79', 'Kepler-82', 'V1298 Tau'], dtype='<U10')"
      ]
     },
     "execution_count": 14,
     "metadata": {},
     "output_type": "execute_result"
    }
   ],
   "source": [
    "np.sort([sys[\"name\"] for sys in good_sys])"
   ]
  },
  {
   "cell_type": "code",
   "execution_count": null,
   "metadata": {},
   "outputs": [],
   "source": []
  }
 ],
 "metadata": {
  "kernelspec": {
   "display_name": "Python 3.10.9 ('base')",
   "language": "python",
   "name": "python3"
  },
  "language_info": {
   "codemirror_mode": {
    "name": "ipython",
    "version": 3
   },
   "file_extension": ".py",
   "mimetype": "text/x-python",
   "name": "python",
   "nbconvert_exporter": "python",
   "pygments_lexer": "ipython3",
   "version": "3.10.9"
  },
  "orig_nbformat": 4,
  "vscode": {
   "interpreter": {
    "hash": "58f8f3a34cddae1f2f80be62d33c77a7f6964d928f639243d24b7901aa249ea2"
   }
  }
 },
 "nbformat": 4,
 "nbformat_minor": 2
}
