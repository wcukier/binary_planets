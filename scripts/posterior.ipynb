{
 "cells": [
  {
   "cell_type": "code",
   "execution_count": 1,
   "metadata": {},
   "outputs": [],
   "source": [
    "import numpy as np\n",
    "from matplotlib import pyplot as plt\n",
    "import json\n",
    "from tqdm.notebook import tqdm\n",
    "import sys\n",
    "import corner\n",
    "import matplotlib.image as mpimg\n",
    "\n",
    "sys.path.append(\"../\")\n",
    "\n",
    "import tdpy\n",
    "\n",
    "from binary_planets.sim import get_hill_radius\n",
    "\n",
    "%load_ext autoreload\n",
    "%autoreload 2\n",
    "\n",
    "%matplotlib inline"
   ]
  },
  {
   "cell_type": "code",
   "execution_count": 17,
   "metadata": {},
   "outputs": [],
   "source": [
    "def gen_arr(config, bin=True, n=12000, secondary=True):\n",
    "    n_secondary = config[\"n_secondary\"]\n",
    "    l = bin*len(config[\"binary\"].keys()) + secondary*n_secondary*len(config[\"secondary_0\"].keys()) + 2\n",
    "    arr = np.zeros((n, l))*np.nan\n",
    "    keys = []\n",
    "    keys.append(\"stable\")\n",
    "    keys.append(\"m_star\")\n",
    "\n",
    "    if secondary:\n",
    "        for i in range(0, n_secondary):\n",
    "            for key in config[\"secondary_0\"].keys():\n",
    "                keys.append(f\"{i}/{key}\")\n",
    "    if bin:\n",
    "        for key in config[\"binary\"].keys():\n",
    "            keys.append(f\"bin/{key}\")\n",
    "    \n",
    "    \n",
    "    return arr, keys\n",
    "\n",
    "\n",
    "\n",
    "\n",
    "def add_to_array(arr, config, keys, i, stable, bin=True, n=12000, secondary=True):\n",
    "    if not np.any(arr):\n",
    "        arr, keys = gen_arr(config, bin=bin, n=n, secondary=secondary)\n",
    "        \n",
    "    n_secondary = config[\"n_secondary\"]\n",
    "    arr[i, 0] = stable\n",
    "\n",
    "    arr[i, 1] = config[\"m_star\"]\n",
    "    j = 2\n",
    "    \n",
    "    if secondary:\n",
    "        for k in range(0, n_secondary):\n",
    "            for key in config[\"secondary_0\"].keys():\n",
    "                arr[i, j] = config[f\"secondary_{k}\"][key]\n",
    "                j += 1\n",
    "    if bin:\n",
    "        for key in config[\"binary\"].keys():\n",
    "            arr[i, j] = config[\"binary\"][key]\n",
    "            j += 1\n",
    "    \n",
    "    \n",
    "    return arr, keys\n",
    "    "
   ]
  },
  {
   "cell_type": "code",
   "execution_count": 18,
   "metadata": {},
   "outputs": [
    {
     "data": {
      "application/vnd.jupyter.widget-view+json": {
       "model_id": "7cd2542ea6244e3e95a8cbb22f159bce",
       "version_major": 2,
       "version_minor": 0
      },
      "text/plain": [
       "  0%|          | 0/1 [00:00<?, ?it/s]"
      ]
     },
     "metadata": {},
     "output_type": "display_data"
    },
    {
     "name": "stdout",
     "output_type": "stream",
     "text": [
      "0.0\n",
      "0.0\n",
      "0.0\n",
      "1.0\n",
      "1.0\n",
      "0.0\n",
      "0.0\n",
      "0.0\n",
      "1.0\n",
      "0.0\n",
      "1.0\n",
      "1.0\n",
      "1.0\n",
      "1.0\n",
      "1.0\n",
      "1.0\n",
      "1.0\n",
      "1.0\n",
      "0.0\n",
      "1.0\n",
      "0.0\n",
      "0.0\n",
      "0.0\n",
      "0.0\n",
      "1.0\n",
      "1.0\n",
      "1.0\n",
      "0.0\n",
      "0.0\n",
      "1.0\n",
      "0.0\n",
      "1.0\n",
      "1.0\n",
      "1.0\n",
      "0.0\n",
      "1.0\n",
      "0.0\n",
      "1.0\n",
      "0.0\n",
      "0.0\n",
      "0.0\n",
      "0.0\n",
      "0.0\n",
      "1.0\n",
      "1.0\n",
      "1.0\n",
      "0.0\n",
      "1.0\n",
      "1.0\n",
      "0.0\n",
      "0.0\n",
      "0.0\n"
     ]
    }
   ],
   "source": [
    "\n",
    "run_systems = np.load(\"../data/compact_systems_run_composite.npy\", allow_pickle=True)\n",
    "names = [sys[\"name\"] for sys in run_systems]\n",
    "names = [\"Kepler-150\"]\n",
    "\n",
    "\n",
    "dir = \"no_inj\"\n",
    "arr_t = None\n",
    "stable_t = None\n",
    "stable_omega = []\n",
    "unstable_omega = []\n",
    "for system in tqdm(names):\n",
    "    try:\n",
    "        arr = None\n",
    "        keys = None\n",
    "        system_idx = np.where(np.array(names) == system)[0][0]\n",
    "\n",
    "\n",
    "        j = 0\n",
    "        stable = np.zeros(1000)\n",
    "\n",
    "        for i in range(0, 1000):\n",
    "            try:\n",
    "                with open(f\"../output/{dir}/{system}/{i}/config.json\") as f:\n",
    "                    elements = np.load(f\"../output/{dir}/{system}/{i}/elements.npy\")\n",
    "                    a_i = elements[0, :, 0]\n",
    "                    a_f = elements[-1, :, 0]\n",
    "                    stable[i] = np.all(((a_i-a_f)/a_i) < 0.1)\n",
    "                    cfg = json.load(f)\n",
    "                    # stable[i] = cfg[\"secondary_0\"][\"omega\"] < 0\n",
    "                    arr, keys = add_to_array(arr, cfg, keys, j, stable[i], bin=False, secondary=True)\n",
    "\n",
    "\n",
    "                print(stable[i])\n",
    "                if stable[i]:\n",
    "                    stable_omega.append(cfg[\"secondary_0\"][\"omega\"])\n",
    "                else:\n",
    "                    unstable_omega.append(cfg[\"secondary_0\"][\"omega\"])\n",
    "                j += 1\n",
    "\n",
    "            except Exception as e:\n",
    "#                 print(e)\n",
    "                pass\n",
    "        arr = arr[:j, :]\n",
    "        stable = stable[:j]\n",
    "        stable = np.logical_not(np.logical_not(stable))\n",
    "        keys = np.array(keys)\n",
    "        arr[:, 1:] += np.random.random((arr.shape[0], arr.shape[1]-1)) * 1e-20\n",
    "\n",
    "\n",
    "        m_tot = arr[:, keys==\"bin/m1\"] + arr[:, keys==\"bin/m2\"]\n",
    "        q = arr[:, keys==\"bin/m1\"] / m_tot\n",
    "        arr[:, keys==\"bin/m1\"] = m_tot\n",
    "        arr[:, keys==\"bin/m2\"] = q\n",
    "        keys[keys==\"bin/m1\"] = \"bin/m_tot\"\n",
    "        keys[keys==\"bin/m2\"] = \"bin/q\"\n",
    "\n",
    "        hill_radius = get_hill_radius(arr[:, keys==\"bin/a\"], \n",
    "                                      arr[:, keys==\"bin/e_sys\"], \n",
    "                                      arr[:, keys==\"bin/m_tot\"], \n",
    "                                      arr[:, keys==\"m_star\"])\n",
    "        arr[:, keys==\"bin/d\"] /= hill_radius\n",
    "\n",
    "        arr[:, keys==\"bin/a\"] = (np.log(arr[:, keys==\"bin/a\"]/run_systems[system_idx][\"gap\"][0]) \n",
    "                                 / np.log(run_systems[system_idx][\"gap\"][1]/run_systems[system_idx][\"gap\"][0]))\n",
    "\n",
    "        if not np.any(arr_t):\n",
    "            arr_t = arr\n",
    "            stable_t = stable\n",
    "        else:\n",
    "            arr_t = np.vstack([arr_t, arr])\n",
    "            stable_t = np.hstack([stable_t, stable])\n",
    "    except Exception as e:\n",
    "        print(e)"
   ]
  },
  {
   "cell_type": "code",
   "execution_count": 24,
   "metadata": {},
   "outputs": [
    {
     "name": "stdout",
     "output_type": "stream",
     "text": [
      "Number of samples in the populations:\n",
      "not stable\n",
      "26\n",
      "stable\n",
      "26\n",
      "Writing to ../figs/corner2pmar_scat_None.png...\n"
     ]
    }
   ],
   "source": [
    "idxs = np.array([\"e\" in key for key in keys])\n",
    "# idxs = np.array([(\"inc\" not in key) and (\"/e\" not in key) for key in keys])\n",
    "# idxs = np.array([True for key in keys])\n",
    "\n",
    "\n",
    "param_labels = np.char.replace(np.array(keys)[idxs], \"_\", \"-\")\n",
    "\n",
    "\n",
    "\n",
    "# labels of the populations\n",
    "listlablpopl = ['stable', 'not stable']\n",
    "\n",
    "# number of populations\n",
    "numbpopl = len(listlablpopl)\n",
    "\n",
    "\n",
    "# number of features\n",
    "numbfeat = np.sum(idxs)\n",
    "\n",
    "# generate samples\n",
    "\n",
    "\n",
    "# labels of the parameters\n",
    "listlablpara = []\n",
    "for k in range(numbfeat):\n",
    "    listlablpara.append([param_labels[k], ''])\n",
    "\n",
    "typepgrp = 'both'\n",
    "    \n",
    "listcolrpopl = [\"red\", \"gray\"]\n",
    "    \n",
    "tdpy.plot_grid( [arr_t[arr_t[:, 0]==1, :][: ,idxs], arr_t[arr_t[:, 0]==0,:][:,idxs]],\n",
    "               listlablpara, listlablpopl=listlablpopl, typeplottdim='scat', \n",
    "               pathbase=f\"../figs/corner2\", listcolrpopl =listcolrpopl )\n",
    "# plt.savefig(\"../figs/corner.pdf\")\n"
   ]
  },
  {
   "cell_type": "code",
   "execution_count": 23,
   "metadata": {},
   "outputs": [
    {
     "data": {
      "text/plain": [
       "array([0.90741249, 0.94452531, 0.95354265, 0.97974008, 0.93032547,\n",
       "       0.92701711, 0.94568925, 0.95393882, 0.92821216, 0.93659431,\n",
       "       0.91978453, 0.90570137, 0.95756787, 0.94659724, 0.92782539,\n",
       "       0.94513941, 0.92337454, 0.90089877, 0.92136548, 0.92741737,\n",
       "       0.97327377, 0.96730031, 0.91062969, 0.97015194, 0.90721623,\n",
       "       0.95033134, 0.91714513, 0.91060982, 0.90463315, 0.97820648,\n",
       "       0.90763862, 0.9585    , 0.96241035, 0.9198457 , 0.94592502,\n",
       "       0.96368424, 0.93511786, 0.91169466, 0.90223835, 0.97826434,\n",
       "       0.94860129, 0.93817193, 0.94519519, 0.90257603, 0.90993401,\n",
       "       0.93515508, 0.93854941, 0.95455917, 0.9679628 , 0.93582471,\n",
       "       0.94936232, 0.91402249])"
      ]
     },
     "execution_count": 23,
     "metadata": {},
     "output_type": "execute_result"
    }
   ],
   "source": [
    "arr_t[:, 1]"
   ]
  },
  {
   "cell_type": "code",
   "execution_count": 9,
   "metadata": {},
   "outputs": [
    {
     "data": {
      "text/plain": [
       "(array([4., 2., 1., 1., 1., 2., 4., 4., 2., 5.]),\n",
       " array([0.10626491, 0.38786793, 0.66947096, 0.95107399, 1.23267701,\n",
       "        1.51428004, 1.79588307, 2.07748609, 2.35908912, 2.64069214,\n",
       "        2.92229517]),\n",
       " <BarContainer object of 10 artists>)"
      ]
     },
     "execution_count": 9,
     "metadata": {},
     "output_type": "execute_result"
    },
    {
     "data": {
      "image/png": "[encoded data removed]",
      "text/plain": [
       "<Figure size 1280x960 with 1 Axes>"
      ]
     },
     "metadata": {},
     "output_type": "display_data"
    }
   ],
   "source": [
    "plt.hist(stable_omega)\n",
    "plt.hist(unstable_omega)"
   ]
  },
  {
   "cell_type": "code",
   "execution_count": 2,
   "metadata": {},
   "outputs": [
    {
     "ename": "NameError",
     "evalue": "name 'cfg' is not defined",
     "output_type": "error",
     "traceback": [
      "\u001b[0;31m---------------------------------------------------------------------------\u001b[0m",
      "\u001b[0;31mNameError\u001b[0m                                 Traceback (most recent call last)",
      "Cell \u001b[0;32mIn [2], line 1\u001b[0m\n\u001b[0;32m----> 1\u001b[0m \u001b[43mcfg\u001b[49m\n",
      "\u001b[0;31mNameError\u001b[0m: name 'cfg' is not defined"
     ]
    }
   ],
   "source": [
    "cfg"
   ]
  },
  {
   "cell_type": "code",
   "execution_count": null,
   "metadata": {},
   "outputs": [],
   "source": [
    "plt.imshow(mpimg.imread('../figs/corner_KOI-351_pmar_scat_None.png'))"
   ]
  },
  {
   "cell_type": "code",
   "execution_count": 52,
   "metadata": {},
   "outputs": [
    {
     "data": {
      "text/plain": [
       "(14, 31)"
      ]
     },
     "execution_count": 52,
     "metadata": {},
     "output_type": "execute_result"
    }
   ],
   "source": [
    "arr[stable, :][:, idxs].shape"
   ]
  },
  {
   "cell_type": "code",
   "execution_count": 22,
   "metadata": {},
   "outputs": [
    {
     "name": "stdout",
     "output_type": "stream",
     "text": [
      "Number of samples in the populations:\n",
      "not stable\n",
      "169\n",
      "stable\n",
      "831\n",
      "Writing to ../figs/cornerpmar_scat_None.png...\n"
     ]
    }
   ],
   "source": [
    "idxs = np.array([(\"inc\" not in key) and (\"/e\" not in key) for key in keys])\n",
    "\n",
    "\n",
    "\n",
    "param_labels = np.char.replace(np.array(keys)[idxs], \"_\", \"-\")\n",
    "\n",
    "\n",
    "\n",
    "# labels of the populations\n",
    "listlablpopl = ['stable', 'not stable']\n",
    "\n",
    "# number of populations\n",
    "numbpopl = len(listlablpopl)\n",
    "\n",
    "\n",
    "# number of features\n",
    "numbfeat = np.sum(idxs)\n",
    "\n",
    "# generate samples\n",
    "\n",
    "\n",
    "# labels of the parameters\n",
    "listlablpara = []\n",
    "for k in range(numbfeat):\n",
    "    listlablpara.append([param_labels[k], ''])\n",
    "\n",
    "typepgrp = 'both'\n",
    "    \n",
    "j \n",
    "tdpy.plot_grid( [arr[stable, :][: ,idxs][:, :j], arr[np.logical_not(stable),:][:,idxs][:, :j]], listlablpara[:j], listlablpopl=listlablpopl, typeplottdim='scat', pathbase=\"../figs/corner\")\n",
    "# plt.savefig(\"../figs/corner.pdf\")\n",
    "# plt.show()"
   ]
  },
  {
   "cell_type": "code",
   "execution_count": 26,
   "metadata": {},
   "outputs": [
    {
     "data": {
      "text/plain": [
       "139879228196352"
      ]
     },
     "execution_count": 26,
     "metadata": {},
     "output_type": "execute_result"
    }
   ],
   "source": [
    "id(cfg)"
   ]
  },
  {
   "cell_type": "code",
   "execution_count": 35,
   "metadata": {},
   "outputs": [
    {
     "data": {
      "text/plain": [
       "139879441600256"
      ]
     },
     "execution_count": 35,
     "metadata": {},
     "output_type": "execute_result"
    }
   ],
   "source": [
    "c = dict(cfg)\n",
    "id(c)"
   ]
  },
  {
   "cell_type": "code",
   "execution_count": 38,
   "metadata": {},
   "outputs": [
    {
     "data": {
      "text/plain": [
       "'bin_inj/Kepler-102/999'"
      ]
     },
     "execution_count": 38,
     "metadata": {},
     "output_type": "execute_result"
    }
   ],
   "source": [
    "c[\"name\"]"
   ]
  },
  {
   "cell_type": "code",
   "execution_count": 37,
   "metadata": {},
   "outputs": [],
   "source": [
    "cfg[\"name\"] = \"test\""
   ]
  },
  {
   "cell_type": "code",
   "execution_count": null,
   "metadata": {},
   "outputs": [],
   "source": []
  }
 ],
 "metadata": {
  "kernelspec": {
   "display_name": "Python 3.12.4 ('base')",
   "language": "python",
   "name": "python3"
  },
  "language_info": {
   "codemirror_mode": {
    "name": "ipython",
    "version": 3
   },
   "file_extension": ".py",
   "mimetype": "text/x-python",
   "name": "python",
   "nbconvert_exporter": "python",
   "pygments_lexer": "ipython3",
   "version": "3.12.2"
  },
  "vscode": {
   "interpreter": {
    "hash": "3067ead486e059ec00ffe7555bdb889e6e264a24dc711bf108106cc7baee8d5d"
   }
  }
 },
 "nbformat": 4,
 "nbformat_minor": 2
}
