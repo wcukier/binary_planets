{
 "cells": [
  {
   "cell_type": "code",
   "execution_count": 1,
   "metadata": {},
   "outputs": [],
   "source": [
    "import numpy as np\n",
    "from matplotlib import pyplot as plt\n",
    "import json\n",
    "from tqdm import tqdm\n",
    "import sys\n",
    "import corner\n",
    "\n",
    "sys.path.append(\"../\")\n",
    "\n",
    "import tdpy\n",
    "\n",
    "%load_ext autoreload\n",
    "%autoreload 2"
   ]
  },
  {
   "cell_type": "code",
   "execution_count": 2,
   "metadata": {},
   "outputs": [],
   "source": [
    "def gen_arr(config, bin=True, n=12000):\n",
    "    n_secondary = config[\"n_secondary\"]\n",
    "    l = bin*len(config[\"binary\"].keys()) + n_secondary*len(config[\"secondary_0\"].keys()) + 1\n",
    "    arr = np.zeros((n, l))*np.nan\n",
    "    keys = []\n",
    "    keys.append(\"m_star\")\n",
    "    for i in range(0, n_secondary):\n",
    "        for key in config[\"secondary_0\"].keys():\n",
    "            keys.append(f\"{i}/{key}\")\n",
    "    if bin:\n",
    "        for key in config[\"binary\"].keys():\n",
    "            keys.append(f\"bin/{key}\")\n",
    "    \n",
    "    return arr, keys\n",
    "\n",
    "\n",
    "\n",
    "\n",
    "def add_to_array(arr, config, keys, i, bin=True, n=12000):\n",
    "    if not np.any(arr):\n",
    "        arr, keys = gen_arr(config, bin=bin, n=n)\n",
    "        \n",
    "    n_secondary = config[\"n_secondary\"]\n",
    "    arr[i, 0] = config[\"m_star\"]\n",
    "    j = 1\n",
    "    \n",
    "    for k in range(0, n_secondary):\n",
    "        for key in config[\"secondary_0\"].keys():\n",
    "            arr[i, j] = config[f\"secondary_{k}\"][key]\n",
    "            j += 1\n",
    "    if bin:\n",
    "        for key in config[\"binary\"].keys():\n",
    "            arr[i, j] = config[\"binary\"][key]\n",
    "            j += 1\n",
    "    \n",
    "    return arr, keys\n",
    "    "
   ]
  },
  {
   "cell_type": "code",
   "execution_count": 54,
   "metadata": {},
   "outputs": [
    {
     "name": "stderr",
     "output_type": "stream",
     "text": [
      "100%|██████████| 11999/11999 [00:06<00:00, 1739.62it/s] \n"
     ]
    }
   ],
   "source": [
    "dir = \"sin_inj\"\n",
    "system = \"Kepler-62\"\n",
    "\n",
    "keys = None\n",
    "arr = None\n",
    "j = 0\n",
    "stable = np.zeros(12000)\n",
    "\n",
    "for i in tqdm(range(1, 12000)):\n",
    "    try:\n",
    "        with open(f\"../output/{dir}/{system}/{i}/config.json\") as f:\n",
    "            cfg = json.load(f)\n",
    "            arr, keys = add_to_array(arr, cfg, keys, j, bin=False)\n",
    "            \n",
    "        elements = np.load(f\"../output/{dir}/{system}/{i}/elements.npy\")\n",
    "        a_i = elements[0, :, 0]\n",
    "        a_f = elements[-1, :, 0]\n",
    "        stable[i] = np.all(((a_i-a_f)/a_i) < 0.1)\n",
    "        j += 1\n",
    "\n",
    "    except Exception as e:\n",
    "        # print(e)\n",
    "        pass\n",
    "arr = arr[:j, :]\n",
    "stable = stable[:j]\n",
    "stable = np.logical_not(np.logical_not(stable))"
   ]
  },
  {
   "cell_type": "code",
   "execution_count": 56,
   "metadata": {},
   "outputs": [
    {
     "name": "stdout",
     "output_type": "stream",
     "text": [
      "Number of samples in the populations:\n",
      "stable\n",
      "341\n",
      "not stable\n",
      "1659\n",
      "Writing to ../figs/cornerpmar_scat_None.png...\n"
     ]
    }
   ],
   "source": [
    "idxs = np.array([\"inc\" not in key for key in keys])\n",
    "\n",
    "param_labels = np.char.replace(np.array(keys)[idxs], \"_\", \"-\")\n",
    "\n",
    "\n",
    "\n",
    "# labels of the populations\n",
    "listlablpopl = ['not stable', 'stable']\n",
    "\n",
    "# number of populations\n",
    "numbpopl = len(listlablpopl)\n",
    "\n",
    "\n",
    "# number of features\n",
    "numbfeat = np.sum(idxs)\n",
    "\n",
    "# generate samples\n",
    "\n",
    "\n",
    "# labels of the parameters\n",
    "listlablpara = []\n",
    "for k in range(numbfeat):\n",
    "    listlablpara.append([param_labels[k], ''])\n",
    "\n",
    "typepgrp = 'both'\n",
    "    \n",
    "tdpy.plot_grid( [arr[stable, :][: ,idxs], arr[np.logical_not(stable),:][:,idxs]], listlablpara, listlablpopl=listlablpopl, typeplottdim='scat', pathbase=\"../figs/corner\")\n",
    "# plt.savefig(\"../figs/corner.pdf\")\n"
   ]
  },
  {
   "cell_type": "code",
   "execution_count": 40,
   "metadata": {},
   "outputs": [
    {
     "data": {
      "text/plain": [
       "(2000, 37)"
      ]
     },
     "execution_count": 40,
     "metadata": {},
     "output_type": "execute_result"
    }
   ],
   "source": [
    "arr.shape"
   ]
  },
  {
   "cell_type": "code",
   "execution_count": 52,
   "metadata": {},
   "outputs": [
    {
     "data": {
      "text/plain": [
       "(14, 31)"
      ]
     },
     "execution_count": 52,
     "metadata": {},
     "output_type": "execute_result"
    }
   ],
   "source": [
    "arr[stable, :][:, idxs].shape"
   ]
  },
  {
   "cell_type": "code",
   "execution_count": 47,
   "metadata": {},
   "outputs": [
    {
     "data": {
      "text/plain": [
       "(2000,)"
      ]
     },
     "execution_count": 47,
     "metadata": {},
     "output_type": "execute_result"
    }
   ],
   "source": [
    ".shape"
   ]
  },
  {
   "cell_type": "code",
   "execution_count": null,
   "metadata": {},
   "outputs": [],
   "source": []
  }
 ],
 "metadata": {
  "kernelspec": {
   "display_name": "Python 3.8.3 ('base')",
   "language": "python",
   "name": "python3"
  },
  "language_info": {
   "codemirror_mode": {
    "name": "ipython",
    "version": 3
   },
   "file_extension": ".py",
   "mimetype": "text/x-python",
   "name": "python",
   "nbconvert_exporter": "python",
   "pygments_lexer": "ipython3",
   "version": "3.8.3"
  },
  "orig_nbformat": 4,
  "vscode": {
   "interpreter": {
    "hash": "aaead61585ffbfa77ad988ca8cedcffcb67b4f54f12412d1ad3b769248fed130"
   }
  }
 },
 "nbformat": 4,
 "nbformat_minor": 2
}
