{
 "cells": [
  {
   "cell_type": "code",
   "execution_count": 1,
   "metadata": {},
   "outputs": [],
   "source": [
    "import numpy as np\n",
    "from matplotlib import pyplot as plt\n",
    "import json\n",
    "from tqdm.notebook import tqdm\n",
    "import sys\n",
    "import corner\n",
    "import matplotlib.image as mpimg\n",
    "\n",
    "sys.path.append(\"../\")\n",
    "\n",
    "import tdpy\n",
    "\n",
    "from binary_planets.sim import get_hill_radius\n",
    "\n",
    "%load_ext autoreload\n",
    "%autoreload 2\n",
    "\n",
    "%matplotlib inline"
   ]
  },
  {
   "cell_type": "code",
   "execution_count": 2,
   "metadata": {},
   "outputs": [],
   "source": [
    "def gen_arr(config, bin=True, n=12000, secondary=True):\n",
    "    n_secondary = config[\"n_secondary\"]\n",
    "    l = bin*len(config[\"binary\"].keys()) + secondary*n_secondary*len(config[\"secondary_0\"].keys()) + 1\n",
    "    arr = np.zeros((n, l))*np.nan\n",
    "    keys = []\n",
    "    keys.append(\"m_star\")\n",
    "    if secondary:\n",
    "        for i in range(0, n_secondary):\n",
    "            for key in config[\"secondary_0\"].keys():\n",
    "                keys.append(f\"{i}/{key}\")\n",
    "    if bin:\n",
    "        for key in config[\"binary\"].keys():\n",
    "            keys.append(f\"bin/{key}\")\n",
    "    \n",
    "    return arr, keys\n",
    "\n",
    "\n",
    "\n",
    "\n",
    "def add_to_array(arr, config, keys, i, bin=True, n=12000, secondary=True):\n",
    "    if not np.any(arr):\n",
    "        arr, keys = gen_arr(config, bin=bin, n=n, secondary=secondary)\n",
    "        \n",
    "    n_secondary = config[\"n_secondary\"]\n",
    "    arr[i, 0] = config[\"m_star\"]\n",
    "    j = 1\n",
    "    \n",
    "    if secondary:\n",
    "        for k in range(0, n_secondary):\n",
    "            for key in config[\"secondary_0\"].keys():\n",
    "                arr[i, j] = config[f\"secondary_{k}\"][key]\n",
    "                j += 1\n",
    "    if bin:\n",
    "        for key in config[\"binary\"].keys():\n",
    "            arr[i, j] = config[\"binary\"][key]\n",
    "            j += 1\n",
    "    \n",
    "    return arr, keys\n",
    "    "
   ]
  },
  {
   "cell_type": "code",
   "execution_count": 3,
   "metadata": {},
   "outputs": [
    {
     "data": {
      "application/vnd.jupyter.widget-view+json": {
       "model_id": "c0825e6fd9804cd7a2a91532889299cb",
       "version_major": 2,
       "version_minor": 0
      },
      "text/plain": [
       "  0%|          | 0/1 [00:00<?, ?it/s]"
      ]
     },
     "metadata": {},
     "output_type": "display_data"
    }
   ],
   "source": [
    "\n",
    "run_systems = np.load(\"../data/compact_systems_run_composite.npy\", allow_pickle=True)\n",
    "names = [sys[\"name\"] for sys in run_systems]\n",
    "names = [\"Kepler-150\"]\n",
    "\n",
    "\n",
    "dir = \"no_inj\"\n",
    "arr_t = None\n",
    "stable_t = None\n",
    "for system in tqdm(names):\n",
    "    try:\n",
    "        arr = None\n",
    "        keys = None\n",
    "        system_idx = np.where(np.array(names) == system)[0][0]\n",
    "\n",
    "\n",
    "        j = 0\n",
    "        stable = np.zeros(1000)\n",
    "\n",
    "        for i in range(0, 1000):\n",
    "            try:\n",
    "                with open(f\"../output/{dir}/{system}/{i}/config.json\") as f:\n",
    "                    cfg = json.load(f)\n",
    "                    arr, keys = add_to_array(arr, cfg, keys, j, bin=False, secondary=True)\n",
    "\n",
    "                elements = np.load(f\"../output/{dir}/{system}/{i}/elements.npy\")\n",
    "                a_i = elements[0, :, 0]\n",
    "                a_f = elements[-1, :, 0]\n",
    "                stable[i] = np.all(((a_i-a_f)/a_i) < 0.1)\n",
    "                j += 1\n",
    "\n",
    "            except Exception as e:\n",
    "#                 print(e)\n",
    "                pass\n",
    "        arr = arr[:j, :]\n",
    "        stable = stable[:j]\n",
    "        stable = np.logical_not(np.logical_not(stable))\n",
    "        keys = np.array(keys)\n",
    "        arr += np.random.random(arr.shape) * 1e-20\n",
    "\n",
    "\n",
    "        m_tot = arr[:, keys==\"bin/m1\"] + arr[:, keys==\"bin/m2\"]\n",
    "        q = arr[:, keys==\"bin/m1\"] / m_tot\n",
    "        arr[:, keys==\"bin/m1\"] = m_tot\n",
    "        arr[:, keys==\"bin/m2\"] = q\n",
    "        keys[keys==\"bin/m1\"] = \"bin/m_tot\"\n",
    "        keys[keys==\"bin/m2\"] = \"bin/q\"\n",
    "\n",
    "        hill_radius = get_hill_radius(arr[:, keys==\"bin/a\"], \n",
    "                                      arr[:, keys==\"bin/e_sys\"], \n",
    "                                      arr[:, keys==\"bin/m_tot\"], \n",
    "                                      arr[:, keys==\"m_star\"])\n",
    "        arr[:, keys==\"bin/d\"] /= hill_radius\n",
    "\n",
    "        arr[:, keys==\"bin/a\"] = (np.log(arr[:, keys==\"bin/a\"]/run_systems[system_idx][\"gap\"][0]) \n",
    "                                 / np.log(run_systems[system_idx][\"gap\"][1]/run_systems[system_idx][\"gap\"][0]))\n",
    "\n",
    "        if not np.any(arr_t):\n",
    "            arr_t = arr\n",
    "            stable_t = stable\n",
    "        else:\n",
    "            arr_t = np.vstack([arr_t, arr])\n",
    "            stable_t = np.hstack([stable_t, stable])\n",
    "    except Exception as e:\n",
    "        print(e)"
   ]
  },
  {
   "cell_type": "code",
   "execution_count": null,
   "metadata": {},
   "outputs": [
    {
     "name": "stdout",
     "output_type": "stream",
     "text": [
      "Number of samples in the populations:\n",
      "stable\n",
      "23\n",
      "not stable\n",
      "2\n"
     ]
    }
   ],
   "source": [
    "idxs = np.array([\"inc\" not in key for key in keys])\n",
    "# idxs = np.array([(\"inc\" not in key) and (\"/e\" not in key) for key in keys])\n",
    "idxs = np.array([True for key in keys])\n",
    "\n",
    "\n",
    "param_labels = np.char.replace(np.array(keys)[idxs], \"_\", \"-\")\n",
    "\n",
    "\n",
    "\n",
    "# labels of the populations\n",
    "listlablpopl = ['stable', 'not stable']\n",
    "\n",
    "# number of populations\n",
    "numbpopl = len(listlablpopl)\n",
    "\n",
    "\n",
    "# number of features\n",
    "numbfeat = np.sum(idxs)\n",
    "\n",
    "# generate samples\n",
    "\n",
    "\n",
    "# labels of the parameters\n",
    "listlablpara = []\n",
    "for k in range(numbfeat):\n",
    "    listlablpara.append([param_labels[k], ''])\n",
    "\n",
    "typepgrp = 'both'\n",
    "    \n",
    "listcolrpopl = [\"red\", \"gray\"]\n",
    "    \n",
    "tdpy.plot_grid( [arr_t[stable_t, :][: ,idxs], arr_t[np.logical_not(stable_t),:][:,idxs]],\n",
    "               listlablpara, listlablpopl=listlablpopl, typeplottdim='scat', \n",
    "               pathbase=f\"../figs/corner2\", listcolrpopl =listcolrpopl )\n",
    "# plt.savefig(\"../figs/corner.pdf\")\n"
   ]
  },
  {
   "cell_type": "code",
   "execution_count": 1,
   "metadata": {},
   "outputs": [
    {
     "ename": "NameError",
     "evalue": "name 'keys' is not defined",
     "output_type": "error",
     "traceback": [
      "\u001b[0;31m---------------------------------------------------------------------------\u001b[0m",
      "\u001b[0;31mNameError\u001b[0m                                 Traceback (most recent call last)",
      "Cell \u001b[0;32mIn [1], line 1\u001b[0m\n\u001b[0;32m----> 1\u001b[0m \u001b[43mkeys\u001b[49m\n",
      "\u001b[0;31mNameError\u001b[0m: name 'keys' is not defined"
     ]
    }
   ],
   "source": [
    "keys"
   ]
  },
  {
   "cell_type": "code",
   "execution_count": 2,
   "metadata": {},
   "outputs": [
    {
     "ename": "NameError",
     "evalue": "name 'cfg' is not defined",
     "output_type": "error",
     "traceback": [
      "\u001b[0;31m---------------------------------------------------------------------------\u001b[0m",
      "\u001b[0;31mNameError\u001b[0m                                 Traceback (most recent call last)",
      "Cell \u001b[0;32mIn [2], line 1\u001b[0m\n\u001b[0;32m----> 1\u001b[0m \u001b[43mcfg\u001b[49m\n",
      "\u001b[0;31mNameError\u001b[0m: name 'cfg' is not defined"
     ]
    }
   ],
   "source": [
    "cfg"
   ]
  },
  {
   "cell_type": "code",
   "execution_count": null,
   "metadata": {},
   "outputs": [],
   "source": [
    "plt.imshow(mpimg.imread('../figs/corner_KOI-351_pmar_scat_None.png'))"
   ]
  },
  {
   "cell_type": "code",
   "execution_count": 52,
   "metadata": {},
   "outputs": [
    {
     "data": {
      "text/plain": [
       "(14, 31)"
      ]
     },
     "execution_count": 52,
     "metadata": {},
     "output_type": "execute_result"
    }
   ],
   "source": [
    "arr[stable, :][:, idxs].shape"
   ]
  },
  {
   "cell_type": "code",
   "execution_count": 22,
   "metadata": {},
   "outputs": [
    {
     "name": "stdout",
     "output_type": "stream",
     "text": [
      "Number of samples in the populations:\n",
      "not stable\n",
      "169\n",
      "stable\n",
      "831\n",
      "Writing to ../figs/cornerpmar_scat_None.png...\n"
     ]
    }
   ],
   "source": [
    "idxs = np.array([(\"inc\" not in key) and (\"/e\" not in key) for key in keys])\n",
    "\n",
    "\n",
    "\n",
    "param_labels = np.char.replace(np.array(keys)[idxs], \"_\", \"-\")\n",
    "\n",
    "\n",
    "\n",
    "# labels of the populations\n",
    "listlablpopl = ['stable', 'not stable']\n",
    "\n",
    "# number of populations\n",
    "numbpopl = len(listlablpopl)\n",
    "\n",
    "\n",
    "# number of features\n",
    "numbfeat = np.sum(idxs)\n",
    "\n",
    "# generate samples\n",
    "\n",
    "\n",
    "# labels of the parameters\n",
    "listlablpara = []\n",
    "for k in range(numbfeat):\n",
    "    listlablpara.append([param_labels[k], ''])\n",
    "\n",
    "typepgrp = 'both'\n",
    "    \n",
    "j \n",
    "tdpy.plot_grid( [arr[stable, :][: ,idxs][:, :j], arr[np.logical_not(stable),:][:,idxs][:, :j]], listlablpara[:j], listlablpopl=listlablpopl, typeplottdim='scat', pathbase=\"../figs/corner\")\n",
    "# plt.savefig(\"../figs/corner.pdf\")\n",
    "# plt.show()"
   ]
  },
  {
   "cell_type": "code",
   "execution_count": 26,
   "metadata": {},
   "outputs": [
    {
     "data": {
      "text/plain": [
       "139879228196352"
      ]
     },
     "execution_count": 26,
     "metadata": {},
     "output_type": "execute_result"
    }
   ],
   "source": [
    "id(cfg)"
   ]
  },
  {
   "cell_type": "code",
   "execution_count": 35,
   "metadata": {},
   "outputs": [
    {
     "data": {
      "text/plain": [
       "139879441600256"
      ]
     },
     "execution_count": 35,
     "metadata": {},
     "output_type": "execute_result"
    }
   ],
   "source": [
    "c = dict(cfg)\n",
    "id(c)"
   ]
  },
  {
   "cell_type": "code",
   "execution_count": 38,
   "metadata": {},
   "outputs": [
    {
     "data": {
      "text/plain": [
       "'bin_inj/Kepler-102/999'"
      ]
     },
     "execution_count": 38,
     "metadata": {},
     "output_type": "execute_result"
    }
   ],
   "source": [
    "c[\"name\"]"
   ]
  },
  {
   "cell_type": "code",
   "execution_count": 37,
   "metadata": {},
   "outputs": [],
   "source": [
    "cfg[\"name\"] = \"test\""
   ]
  },
  {
   "cell_type": "code",
   "execution_count": null,
   "metadata": {},
   "outputs": [],
   "source": []
  }
 ],
 "metadata": {
  "kernelspec": {
   "display_name": "Python 3 (ipykernel)",
   "language": "python",
   "name": "python3"
  },
  "language_info": {
   "codemirror_mode": {
    "name": "ipython",
    "version": 3
   },
   "file_extension": ".py",
   "mimetype": "text/x-python",
   "name": "python",
   "nbconvert_exporter": "python",
   "pygments_lexer": "ipython3",
   "version": "3.10.6"
  },
  "vscode": {
   "interpreter": {
    "hash": "aaead61585ffbfa77ad988ca8cedcffcb67b4f54f12412d1ad3b769248fed130"
   }
  }
 },
 "nbformat": 4,
 "nbformat_minor": 2
}
