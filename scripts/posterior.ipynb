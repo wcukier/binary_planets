{
 "cells": [
  {
   "cell_type": "code",
   "execution_count": 2,
   "metadata": {},
   "outputs": [
    {
     "name": "stdout",
     "output_type": "stream",
     "text": [
      "Defaulting to user installation because normal site-packages is not writeable\n",
      "Requirement already satisfied: corner in /home/wg-wolf/.local/lib/python3.10/site-packages (2.2.2)\n",
      "Requirement already satisfied: matplotlib>=2.1 in /opt/conda/lib/python3.10/site-packages (from corner) (3.6.0)\n",
      "Requirement already satisfied: pyparsing>=2.2.1 in /opt/conda/lib/python3.10/site-packages (from matplotlib>=2.1->corner) (3.0.9)\n",
      "Requirement already satisfied: python-dateutil>=2.7 in /opt/conda/lib/python3.10/site-packages (from matplotlib>=2.1->corner) (2.8.2)\n",
      "Requirement already satisfied: numpy>=1.19 in /opt/conda/lib/python3.10/site-packages (from matplotlib>=2.1->corner) (1.23.3)\n",
      "Requirement already satisfied: fonttools>=4.22.0 in /opt/conda/lib/python3.10/site-packages (from matplotlib>=2.1->corner) (4.37.4)\n",
      "Requirement already satisfied: contourpy>=1.0.1 in /opt/conda/lib/python3.10/site-packages (from matplotlib>=2.1->corner) (1.0.5)\n",
      "Requirement already satisfied: packaging>=20.0 in /opt/conda/lib/python3.10/site-packages (from matplotlib>=2.1->corner) (21.3)\n",
      "Requirement already satisfied: pillow>=6.2.0 in /opt/conda/lib/python3.10/site-packages (from matplotlib>=2.1->corner) (9.2.0)\n",
      "Requirement already satisfied: kiwisolver>=1.0.1 in /opt/conda/lib/python3.10/site-packages (from matplotlib>=2.1->corner) (1.4.4)\n",
      "Requirement already satisfied: cycler>=0.10 in /opt/conda/lib/python3.10/site-packages (from matplotlib>=2.1->corner) (0.11.0)\n",
      "Requirement already satisfied: six>=1.5 in /opt/conda/lib/python3.10/site-packages (from python-dateutil>=2.7->matplotlib>=2.1->corner) (1.16.0)\n",
      "Defaulting to user installation because normal site-packages is not writeable\n",
      "Collecting astropy\n",
      "  Downloading astropy-6.1.4-cp310-cp310-manylinux_2_17_x86_64.manylinux2014_x86_64.whl (10.0 MB)\n",
      "\u001b[2K     \u001b[90m━━━━━━━━━━━━━━━━━━━━━━━━━━━━━━━━━━━━━━━━\u001b[0m \u001b[32m10.0/10.0 MB\u001b[0m \u001b[31m57.2 MB/s\u001b[0m eta \u001b[36m0:00:00\u001b[0m00:01\u001b[0m0:01\u001b[0m\n",
      "\u001b[?25hCollecting pyerfa>=2.0.1.1\n",
      "  Downloading pyerfa-2.0.1.4-cp39-abi3-manylinux_2_17_x86_64.manylinux2014_x86_64.whl (738 kB)\n",
      "\u001b[2K     \u001b[90m━━━━━━━━━━━━━━━━━━━━━━━━━━━━━━━━━━━━━━\u001b[0m \u001b[32m738.7/738.7 kB\u001b[0m \u001b[31m73.7 MB/s\u001b[0m eta \u001b[36m0:00:00\u001b[0m\n",
      "\u001b[?25hRequirement already satisfied: packaging>=19.0 in /opt/conda/lib/python3.10/site-packages (from astropy) (21.3)\n",
      "Requirement already satisfied: numpy>=1.23 in /opt/conda/lib/python3.10/site-packages (from astropy) (1.23.3)\n",
      "Collecting astropy-iers-data>=0.2024.8.27.10.28.29\n",
      "  Downloading astropy_iers_data-0.2024.9.30.0.32.59-py3-none-any.whl (1.9 MB)\n",
      "\u001b[2K     \u001b[90m━━━━━━━━━━━━━━━━━━━━━━━━━━━━━━━━━━━━━━━━\u001b[0m \u001b[32m1.9/1.9 MB\u001b[0m \u001b[31m45.0 MB/s\u001b[0m eta \u001b[36m0:00:00\u001b[0m00:01\u001b[0m\n",
      "\u001b[?25hRequirement already satisfied: PyYAML>=3.13 in /opt/conda/lib/python3.10/site-packages (from astropy) (6.0)\n",
      "Requirement already satisfied: pyparsing!=3.0.5,>=2.0.2 in /opt/conda/lib/python3.10/site-packages (from packaging>=19.0->astropy) (3.0.9)\n",
      "Installing collected packages: pyerfa, astropy-iers-data, astropy\n",
      "\u001b[33m  WARNING: The scripts fits2bitmap, fitscheck, fitsdiff, fitsheader, fitsinfo, samp_hub, showtable, volint and wcslint are installed in '/home/wg-wolf/.local/bin' which is not on PATH.\n",
      "  Consider adding this directory to PATH or, if you prefer to suppress this warning, use --no-warn-script-location.\u001b[0m\u001b[33m\n",
      "\u001b[0mSuccessfully installed astropy-6.1.4 astropy-iers-data-0.2024.9.30.0.32.59 pyerfa-2.0.1.4\n"
     ]
    }
   ],
   "source": [
    "!pip install corner\n",
    "!pip install astropy"
   ]
  },
  {
   "cell_type": "code",
   "execution_count": 1,
   "metadata": {},
   "outputs": [],
   "source": [
    "import numpy as np\n",
    "from matplotlib import pyplot as plt\n",
    "import json\n",
    "from tqdm import tqdm\n",
    "import sys\n",
    "import corner\n",
    "import matplotlib.image as mpimg\n",
    "\n",
    "sys.path.append(\"../\")\n",
    "\n",
    "import tdpy\n",
    "\n",
    "%load_ext autoreload\n",
    "%autoreload 2"
   ]
  },
  {
   "cell_type": "code",
   "execution_count": 2,
   "metadata": {},
   "outputs": [],
   "source": [
    "def gen_arr(config, bin=True, n=12000):\n",
    "    n_secondary = config[\"n_secondary\"]\n",
    "    l = bin*len(config[\"binary\"].keys()) + n_secondary*len(config[\"secondary_0\"].keys()) + 1\n",
    "    arr = np.zeros((n, l))*np.nan\n",
    "    keys = []\n",
    "    keys.append(\"m_star\")\n",
    "    for i in range(0, n_secondary):\n",
    "        for key in config[\"secondary_0\"].keys():\n",
    "            keys.append(f\"{i}/{key}\")\n",
    "    if bin:\n",
    "        for key in config[\"binary\"].keys():\n",
    "            keys.append(f\"bin/{key}\")\n",
    "    \n",
    "    return arr, keys\n",
    "\n",
    "\n",
    "\n",
    "\n",
    "def add_to_array(arr, config, keys, i, bin=True, n=12000):\n",
    "    if not np.any(arr):\n",
    "        arr, keys = gen_arr(config, bin=bin, n=n)\n",
    "        \n",
    "    n_secondary = config[\"n_secondary\"]\n",
    "    arr[i, 0] = config[\"m_star\"]\n",
    "    j = 1\n",
    "    \n",
    "    for k in range(0, n_secondary):\n",
    "        for key in config[\"secondary_0\"].keys():\n",
    "            arr[i, j] = config[f\"secondary_{k}\"][key]\n",
    "            j += 1\n",
    "    if bin:\n",
    "        for key in config[\"binary\"].keys():\n",
    "            arr[i, j] = config[\"binary\"][key]\n",
    "            j += 1\n",
    "    \n",
    "    return arr, keys\n",
    "    "
   ]
  },
  {
   "cell_type": "code",
   "execution_count": 3,
   "metadata": {},
   "outputs": [
    {
     "name": "stderr",
     "output_type": "stream",
     "text": [
      "100%|██████████| 11999/11999 [00:15<00:00, 795.41it/s] \n"
     ]
    }
   ],
   "source": [
    "dir = \"no_inj\"\n",
    "system = \"K2-72\"\n",
    "\n",
    "keys = None\n",
    "arr = None\n",
    "j = 0\n",
    "stable = np.zeros(12000)\n",
    "\n",
    "for i in tqdm(range(1, 12000)):\n",
    "    try:\n",
    "        with open(f\"../output/{dir}/{system}/{i}/config.json\") as f:\n",
    "            cfg = json.load(f)\n",
    "            arr, keys = add_to_array(arr, cfg, keys, j, bin=False)\n",
    "            \n",
    "        elements = np.load(f\"../output/{dir}/{system}/{i}/elements.npy\")\n",
    "        a_i = elements[0, :, 0]\n",
    "        a_f = elements[-1, :, 0]\n",
    "        stable[i] = np.all(((a_i-a_f)/a_i) < 0.1)\n",
    "        j += 1\n",
    "\n",
    "    except Exception as e:\n",
    "        # print(e)\n",
    "        pass\n",
    "arr = arr[:j, :]\n",
    "stable = stable[:j]\n",
    "stable = np.logical_not(np.logical_not(stable))"
   ]
  },
  {
   "cell_type": "code",
   "execution_count": 5,
   "metadata": {},
   "outputs": [
    {
     "name": "stdout",
     "output_type": "stream",
     "text": [
      "Number of samples in the populations:\n",
      "not stable\n",
      "2\n",
      "stable\n",
      "998\n",
      "Writing to ../figs/cornerpmar_scat_None.png...\n"
     ]
    }
   ],
   "source": [
    "idxs = np.array([\"inc\" not in key for key in keys])\n",
    "\n",
    "param_labels = np.char.replace(np.array(keys)[idxs], \"_\", \"-\")\n",
    "\n",
    "\n",
    "\n",
    "# labels of the populations\n",
    "listlablpopl = ['stable', 'not stable']\n",
    "\n",
    "# number of populations\n",
    "numbpopl = len(listlablpopl)\n",
    "\n",
    "\n",
    "# number of features\n",
    "numbfeat = np.sum(idxs)\n",
    "\n",
    "# generate samples\n",
    "\n",
    "\n",
    "# labels of the parameters\n",
    "listlablpara = []\n",
    "for k in range(numbfeat):\n",
    "    listlablpara.append([param_labels[k], ''])\n",
    "\n",
    "typepgrp = 'both'\n",
    "    \n",
    "tdpy.plot_grid( [arr[stable, :][: ,idxs], arr[np.logical_not(stable),:][:,idxs]], listlablpara, listlablpopl=listlablpopl, typeplottdim='scat', pathbase=\"../figs/corner\")\n",
    "# plt.savefig(\"../figs/corner.pdf\")\n"
   ]
  },
  {
   "cell_type": "code",
   "execution_count": null,
   "metadata": {},
   "outputs": [],
   "source": [
    "plt.imshow(mpimg.imread('../figs/cornerpmar_scat_None.png'))"
   ]
  },
  {
   "cell_type": "code",
   "execution_count": 52,
   "metadata": {},
   "outputs": [
    {
     "data": {
      "text/plain": [
       "(14, 31)"
      ]
     },
     "execution_count": 52,
     "metadata": {},
     "output_type": "execute_result"
    }
   ],
   "source": [
    "arr[stable, :][:, idxs].shape"
   ]
  },
  {
   "cell_type": "code",
   "execution_count": 47,
   "metadata": {},
   "outputs": [
    {
     "data": {
      "text/plain": [
       "(2000,)"
      ]
     },
     "execution_count": 47,
     "metadata": {},
     "output_type": "execute_result"
    }
   ],
   "source": [
    ".shape"
   ]
  },
  {
   "cell_type": "code",
   "execution_count": null,
   "metadata": {},
   "outputs": [],
   "source": []
  }
 ],
 "metadata": {
  "kernelspec": {
   "display_name": "Python 3 (ipykernel)",
   "language": "python",
   "name": "python3"
  },
  "language_info": {
   "codemirror_mode": {
    "name": "ipython",
    "version": 3
   },
   "file_extension": ".py",
   "mimetype": "text/x-python",
   "name": "python",
   "nbconvert_exporter": "python",
   "pygments_lexer": "ipython3",
   "version": "3.10.6"
  },
  "vscode": {
   "interpreter": {
    "hash": "aaead61585ffbfa77ad988ca8cedcffcb67b4f54f12412d1ad3b769248fed130"
   }
  }
 },
 "nbformat": 4,
 "nbformat_minor": 2
}
