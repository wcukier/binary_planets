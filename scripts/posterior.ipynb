{
 "cells": [
  {
   "cell_type": "code",
   "execution_count": 2,
   "metadata": {},
   "outputs": [],
   "source": [
    "import numpy as np\n",
    "from matplotlib import pyplot as plt\n",
    "import json\n",
    "from tqdm import tqdm\n",
    "import sys\n",
    "import corner\n",
    "import matplotlib.image as mpimg\n",
    "\n",
    "sys.path.append(\"../\")\n",
    "\n",
    "import tdpy\n",
    "\n",
    "%load_ext autoreload\n",
    "%autoreload 2\n",
    "\n",
    "%matplotlib inline"
   ]
  },
  {
   "cell_type": "code",
   "execution_count": 3,
   "metadata": {},
   "outputs": [],
   "source": [
    "def gen_arr(config, bin=True, n=12000, secondary=True):\n",
    "    n_secondary = config[\"n_secondary\"]\n",
    "    l = bin*len(config[\"binary\"].keys()) + secondary*n_secondary*len(config[\"secondary_0\"].keys()) + 1\n",
    "    arr = np.zeros((n, l))*np.nan\n",
    "    keys = []\n",
    "    keys.append(\"m_star\")\n",
    "    if secondary:\n",
    "        for i in range(0, n_secondary):\n",
    "            for key in config[\"secondary_0\"].keys():\n",
    "                keys.append(f\"{i}/{key}\")\n",
    "    if bin:\n",
    "        for key in config[\"binary\"].keys():\n",
    "            keys.append(f\"bin/{key}\")\n",
    "    \n",
    "    return arr, keys\n",
    "\n",
    "\n",
    "\n",
    "\n",
    "def add_to_array(arr, config, keys, i, bin=True, n=12000, secondary=True):\n",
    "    if not np.any(arr):\n",
    "        arr, keys = gen_arr(config, bin=bin, n=n, secondary=secondary)\n",
    "        \n",
    "    n_secondary = config[\"n_secondary\"]\n",
    "    arr[i, 0] = config[\"m_star\"]\n",
    "    j = 1\n",
    "    \n",
    "    if secondary:\n",
    "        for k in range(0, n_secondary):\n",
    "            for key in config[\"secondary_0\"].keys():\n",
    "                arr[i, j] = config[f\"secondary_{k}\"][key]\n",
    "                j += 1\n",
    "    if bin:\n",
    "        for key in config[\"binary\"].keys():\n",
    "            arr[i, j] = config[\"binary\"][key]\n",
    "            j += 1\n",
    "    \n",
    "    return arr, keys\n",
    "    "
   ]
  },
  {
   "cell_type": "code",
   "execution_count": 6,
   "metadata": {},
   "outputs": [
    {
     "name": "stderr",
     "output_type": "stream",
     "text": [
      "100%|██████████| 1000/1000 [00:02<00:00, 340.36it/s]\n"
     ]
    }
   ],
   "source": [
    "dir = \"bin_inj\"\n",
    "system = \"KOI-351\"\n",
    "\n",
    "keys = None\n",
    "arr = None\n",
    "j = 0\n",
    "stable = np.zeros(1000)\n",
    "\n",
    "for i in tqdm(range(0, 1000)):\n",
    "    try:\n",
    "        with open(f\"../output/{dir}/{system}/{i}/config.json\") as f:\n",
    "            cfg = json.load(f)\n",
    "            arr, keys = add_to_array(arr, cfg, keys, j, bin=True, secondary=False)\n",
    "            \n",
    "        elements = np.load(f\"../output/{dir}/{system}/{i}/elements.npy\")\n",
    "        a_i = elements[0, :, 0]\n",
    "        a_f = elements[-1, :, 0]\n",
    "        stable[i] = np.all(((a_i-a_f)/a_i) < 0.1)\n",
    "        j += 1\n",
    "\n",
    "    except Exception as e:\n",
    "#         print(e)\n",
    "        pass\n",
    "arr = arr[:j, :]\n",
    "stable = stable[:j]\n",
    "stable = np.logical_not(np.logical_not(stable))\n",
    "keys = np.array(keys)\n",
    "arr += np.random.random(arr.shape) * 1e-20\n",
    "\n",
    "m_tot = arr[:, keys==\"bin/m1\"] + arr[:, keys==\"bin/m2\"]\n",
    "q = arr[:, keys==\"bin/m1\"] / m_tot\n",
    "arr[:, keys==\"bin/m1\"] = m_tot\n",
    "arr[:, keys==\"bin/m2\"] = q\n",
    "keys[keys==\"bin/m1\"] = \"bin/m_tot\"\n",
    "keys[keys==\"bin/m2\"] = \"bin/q\"\n"
   ]
  },
  {
   "cell_type": "code",
   "execution_count": 5,
   "metadata": {},
   "outputs": [
    {
     "name": "stdout",
     "output_type": "stream",
     "text": [
      "Number of samples in the populations:\n",
      "not stable\n",
      "0\n",
      "stable\n",
      "0\n",
      "Writing to ../figs/corner_KOI-351_pmar_scat_None.png...\n"
     ]
    }
   ],
   "source": [
    "idxs = np.array([\"inc\" not in key for key in keys])\n",
    "# idxs = np.array([(\"inc\" not in key) and (\"/e\" not in key) for key in keys])\n",
    "# idxs = np.array([True for key in keys])\n",
    "\n",
    "\n",
    "param_labels = np.char.replace(np.array(keys)[idxs], \"_\", \"-\")\n",
    "\n",
    "\n",
    "\n",
    "# labels of the populations\n",
    "listlablpopl = ['stable', 'not stable']\n",
    "\n",
    "# number of populations\n",
    "numbpopl = len(listlablpopl)\n",
    "\n",
    "\n",
    "# number of features\n",
    "numbfeat = np.sum(idxs)\n",
    "\n",
    "# generate samples\n",
    "\n",
    "\n",
    "# labels of the parameters\n",
    "listlablpara = []\n",
    "for k in range(numbfeat):\n",
    "    listlablpara.append([param_labels[k], ''])\n",
    "\n",
    "typepgrp = 'both'\n",
    "    \n",
    "listcolrpopl = [\"red\", \"gray\"]\n",
    "    \n",
    "tdpy.plot_grid( [arr[stable, :][: ,idxs], arr[np.logical_not(stable),:][:,idxs]], listlablpara, listlablpopl=listlablpopl, typeplottdim='scat', pathbase=f\"../figs/corner_{system}_\", listcolrpopl =listcolrpopl )\n",
    "# plt.savefig(\"../figs/corner.pdf\")\n"
   ]
  },
  {
   "cell_type": "code",
   "execution_count": null,
   "metadata": {},
   "outputs": [],
   "source": [
    "plt.imshow(mpimg.imread('../figs/corner_KOI-351_pmar_scat_None.png'))"
   ]
  },
  {
   "cell_type": "code",
   "execution_count": 52,
   "metadata": {},
   "outputs": [
    {
     "data": {
      "text/plain": [
       "(14, 31)"
      ]
     },
     "execution_count": 52,
     "metadata": {},
     "output_type": "execute_result"
    }
   ],
   "source": [
    "arr[stable, :][:, idxs].shape"
   ]
  },
  {
   "cell_type": "code",
   "execution_count": 22,
   "metadata": {},
   "outputs": [
    {
     "name": "stdout",
     "output_type": "stream",
     "text": [
      "Number of samples in the populations:\n",
      "not stable\n",
      "169\n",
      "stable\n",
      "831\n",
      "Writing to ../figs/cornerpmar_scat_None.png...\n"
     ]
    }
   ],
   "source": [
    "idxs = np.array([(\"inc\" not in key) and (\"/e\" not in key) for key in keys])\n",
    "\n",
    "\n",
    "\n",
    "param_labels = np.char.replace(np.array(keys)[idxs], \"_\", \"-\")\n",
    "\n",
    "\n",
    "\n",
    "# labels of the populations\n",
    "listlablpopl = ['stable', 'not stable']\n",
    "\n",
    "# number of populations\n",
    "numbpopl = len(listlablpopl)\n",
    "\n",
    "\n",
    "# number of features\n",
    "numbfeat = np.sum(idxs)\n",
    "\n",
    "# generate samples\n",
    "\n",
    "\n",
    "# labels of the parameters\n",
    "listlablpara = []\n",
    "for k in range(numbfeat):\n",
    "    listlablpara.append([param_labels[k], ''])\n",
    "\n",
    "typepgrp = 'both'\n",
    "    \n",
    "j \n",
    "tdpy.plot_grid( [arr[stable, :][: ,idxs][:, :j], arr[np.logical_not(stable),:][:,idxs][:, :j]], listlablpara[:j], listlablpopl=listlablpopl, typeplottdim='scat', pathbase=\"../figs/corner\")\n",
    "# plt.savefig(\"../figs/corner.pdf\")\n",
    "# plt.show()"
   ]
  },
  {
   "cell_type": "code",
   "execution_count": 30,
   "metadata": {},
   "outputs": [
    {
     "data": {
      "text/plain": [
       "array([[6.36531282e-21, 6.00896477e-21, 1.54466773e-21, ...,\n",
       "        7.69877385e-21, 5.01658692e-21, 4.02435015e-21],\n",
       "       [7.99278057e-21, 7.06395162e-21, 5.58262707e-21, ...,\n",
       "        2.80606189e-21, 1.16639642e-21, 3.86933171e-21],\n",
       "       [6.33603307e-21, 8.67720397e-21, 1.05688466e-21, ...,\n",
       "        3.55359739e-21, 6.75482858e-21, 9.79935197e-21],\n",
       "       ...,\n",
       "       [6.18044631e-21, 4.51022624e-21, 4.78983885e-21, ...,\n",
       "        2.05398366e-21, 1.04960145e-21, 5.50505039e-21],\n",
       "       [5.72203910e-22, 9.49231428e-21, 4.98316740e-21, ...,\n",
       "        7.07835013e-21, 8.51138939e-21, 2.32587116e-21],\n",
       "       [9.34785075e-21, 2.75058350e-21, 9.13041580e-21, ...,\n",
       "        7.88077819e-21, 7.08283891e-21, 8.45677493e-21]])"
      ]
     },
     "execution_count": 30,
     "metadata": {},
     "output_type": "execute_result"
    }
   ],
   "source": []
  },
  {
   "cell_type": "code",
   "execution_count": null,
   "metadata": {},
   "outputs": [],
   "source": []
  }
 ],
 "metadata": {
  "kernelspec": {
   "display_name": "Python 3 (ipykernel)",
   "language": "python",
   "name": "python3"
  },
  "language_info": {
   "codemirror_mode": {
    "name": "ipython",
    "version": 3
   },
   "file_extension": ".py",
   "mimetype": "text/x-python",
   "name": "python",
   "nbconvert_exporter": "python",
   "pygments_lexer": "ipython3",
   "version": "3.10.6"
  },
  "vscode": {
   "interpreter": {
    "hash": "aaead61585ffbfa77ad988ca8cedcffcb67b4f54f12412d1ad3b769248fed130"
   }
  }
 },
 "nbformat": 4,
 "nbformat_minor": 2
}
