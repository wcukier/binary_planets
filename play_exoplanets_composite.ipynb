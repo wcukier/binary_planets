{
 "cells": [
  {
   "cell_type": "code",
   "execution_count": 1,
   "metadata": {},
   "outputs": [],
   "source": [
    "import pandas as pd\n",
    "import numpy as np\n",
    "import matplotlib.pyplot as plt\n",
    "from scipy.optimize import curve_fit\n",
    "import json"
   ]
  },
  {
   "cell_type": "code",
   "execution_count": 2,
   "metadata": {},
   "outputs": [],
   "source": [
    "data = pd.read_csv(\"data/PSCompPars_2024.06.05_09.35.40.csv\", header=321)\n"
   ]
  },
  {
   "cell_type": "code",
   "execution_count": 9,
   "metadata": {},
   "outputs": [
    {
     "name": "stdout",
     "output_type": "stream",
     "text": [
      "77\n"
     ]
    }
   ],
   "source": [
    "# COMPACT_RATIO = 1.3\n",
    "\n",
    "COMPACT_RATIO = -1\n",
    "\n",
    "mask = (\n",
    "    #    ( data[\"soltype\"] == \"Published Confirmed\")\n",
    "    #    * (data[\"default_flag\"] == 1)\n",
    "    (data[\"sy_pnum\"] > 3)\n",
    "       # * (data[\"cb_flag\"] == 0)\n",
    "       * (data[\"tran_flag\"] ==1)\n",
    "    #    * ((~np.isnan(data[\"pl_masse\"])))\n",
    "       #  * (data[\"pl_masselim\"] == 0)\n",
    "       )\n",
    "\n",
    "planets = data[mask]\n",
    "\n",
    "sys = {}\n",
    "\n",
    "for p in planets.iterrows():\n",
    "    p = p[1]\n",
    "    if not sys.get(p[\"hostname\"], False): \n",
    "           sys[p[\"hostname\"]] = {\n",
    "              \"name\": p[\"hostname\"],\n",
    "              \"st_mass\": p[\"st_mass\"],\n",
    "              \"st_upper\": p[\"st_masserr1\"],\n",
    "              \"st_lower\": p[\"st_masserr2\"],\n",
    "              \"st_lim\": p[\"st_masslim\"],\n",
    "            #   \"st_ref\": p[\"st_refname\"],\n",
    "              \n",
    "                  \n",
    "              \"mass\": [p[\"pl_bmasse\"]],\n",
    "              \"mass_upper\":[p[\"pl_bmasseerr1\"]],\n",
    "              \"mass_lower\":[p[\"pl_bmasseerr2\"]],\n",
    "              \"mass_lim\":[p[\"pl_bmasselim\"]],\n",
    "              \n",
    "              \"r\": [p[\"pl_rade\"]],\n",
    "              \"r_upper\":[p[\"pl_radeerr1\"]],\n",
    "              \"r_lower\":[p[\"pl_radeerr2\"]],\n",
    "              \"r_lim\":[p[\"pl_radelim\"]],\n",
    "\n",
    "              \"e\": [p[\"pl_orbeccen\"]],\n",
    "              \"e_upper\": [p[\"pl_orbeccenerr1\"]],\n",
    "              \"e_lower\": [p[\"pl_orbeccenerr2\"]],\n",
    "              \"e_lim\": [p[\"pl_orbeccenlim\"]],\n",
    "              \n",
    "              \"a\": [p[\"pl_orbsmax\"]],\n",
    "              \"a_upper\": [p[\"pl_orbsmaxerr1\"]],\n",
    "              \"a_lower\": [p[\"pl_orbsmaxerr2\"]],\n",
    "              \"a_lim\": [p[\"pl_orbsmaxlim\"]],\n",
    "\n",
    "              \"inc\":[p[\"pl_orbincl\"]],\n",
    "              \"inc_upper\":[p[\"pl_orbinclerr1\"]],\n",
    "              \"inc_lower\":[p[\"pl_orbinclerr2\"]],\n",
    "              \"inc_lim\":[p[\"pl_orbincllim\"]],\n",
    "              \n",
    "            #   \"ref\":[p[\"pl_refname\"]],\n",
    "              \"pl_name\": [p[\"pl_name\"]]\n",
    "              }\n",
    "    else:\n",
    "           sys[p[\"hostname\"]][\"mass\"].append(p[\"pl_bmasse\"])\n",
    "           sys[p[\"hostname\"]][\"mass_upper\"].append(p[\"pl_bmasseerr1\"])\n",
    "           sys[p[\"hostname\"]][\"mass_lower\"].append(p[\"pl_bmasseerr2\"])\n",
    "           sys[p[\"hostname\"]][\"mass_lim\"].append(p[\"pl_bmasselim\"])\n",
    "\n",
    "           sys[p[\"hostname\"]][\"r\"].append(p[\"pl_rade\"])\n",
    "           sys[p[\"hostname\"]][\"r_upper\"].append(p[\"pl_radeerr1\"])\n",
    "           sys[p[\"hostname\"]][\"r_lower\"].append(p[\"pl_radeerr2\"])\n",
    "           sys[p[\"hostname\"]][\"r_lim\"].append(p[\"pl_radelim\"])       \n",
    "           \n",
    "           sys[p[\"hostname\"]][\"e\"].append(p[\"pl_orbeccen\"])\n",
    "           sys[p[\"hostname\"]][\"e_upper\"].append(p[\"pl_orbeccenerr1\"])\n",
    "           sys[p[\"hostname\"]][\"e_lower\"].append(p[\"pl_orbeccenerr2\"])\n",
    "           sys[p[\"hostname\"]][\"e_lim\"].append(p[\"pl_orbeccenlim\"])\n",
    "           \n",
    "           sys[p[\"hostname\"]][\"a\"].append(p[\"pl_orbsmax\"])\n",
    "           sys[p[\"hostname\"]][\"a_upper\"].append(p[\"pl_orbsmaxerr1\"])\n",
    "           sys[p[\"hostname\"]][\"a_lower\"].append(p[\"pl_orbsmaxerr2\"])\n",
    "           sys[p[\"hostname\"]][\"a_lim\"].append(p[\"pl_orbsmaxlim\"])\n",
    "\n",
    "           sys[p[\"hostname\"]][\"inc\"].append(p[\"pl_orbincl\"])\n",
    "           sys[p[\"hostname\"]][\"inc_upper\"].append(p[\"pl_orbinclerr1\"])\n",
    "           sys[p[\"hostname\"]][\"inc_lower\"].append(p[\"pl_orbinclerr2\"])\n",
    "           sys[p[\"hostname\"]][\"inc_lim\"].append(p[\"pl_orbincllim\"])\n",
    "\n",
    "        #    sys[p[\"hostname\"]][\"ref\"].append(p[\"pl_refname\"])\n",
    "           sys[p[\"hostname\"]][\"pl_name\"].append(p[\"pl_name\"])\n",
    "\n",
    "\n",
    "compact_sys = []\n",
    "names = []\n",
    "dyn_gaps = []\n",
    "for key in sys.keys():\n",
    "    s = sys[key]\n",
    "    order = np.argsort(s[\"a\"])\n",
    "#     s[\"a\"] = np.array(s[\"a\"])[order]\n",
    "#     s[\"e\"] = np.array(s[\"e\"])[order]\n",
    "#     s[\"mass\"] = np.array(s[\"mass\"])[order]\n",
    "    \n",
    "\n",
    "\n",
    "    s[\"mass\"] = np.array( s[\"mass\"])[order]\n",
    "    s[\"mass_upper\"] = np.array(s[\"mass_upper\"])[order]\n",
    "    s[\"mass_lower\"] = np.array(s[\"mass_lower\"])[order]\n",
    "    s[\"mass_lim\"] = np.array( s[\"mass_lim\"])[order]\n",
    "\n",
    "    s[\"r\"] = np.array(s[\"r\"])[order]\n",
    "    s[\"r_upper\"] = np.array( s[\"r_upper\"])[order]\n",
    "    s[\"r_lower\"] = np.array(s[\"r_lower\"])[order]\n",
    "    s[\"r_lim\"] = np.array( s[\"r_lim\"])[order]    \n",
    "\n",
    "    s[\"e\"] = np.array(s[\"e\"])[order]\n",
    "    s[\"e_upper\"] = np.array( s[\"e_upper\"])[order]\n",
    "    s[\"e_lower\"] = np.array(s[\"e_lower\"])[order]\n",
    "    s[\"e_lim\"] = np.array(s[\"e_lim\"])[order]\n",
    "\n",
    "    s[\"a\"] = np.array(s[\"a\"])[order]\n",
    "    s[\"a_upper\"] = np.array(s[\"a_upper\"])[order]\n",
    "    s[\"a_lower\"] = np.array(s[\"a_lower\"])[order]\n",
    "    s[\"a_lim\"] = np.array(s[\"a_lim\"] )[order]\n",
    "    \n",
    "    s[\"inc\"] = np.array( s[\"inc\"])[order]\n",
    "    s[\"inc_upper\"] = np.array(s[\"inc_upper\"])[order]\n",
    "    s[\"inc_lower\"] = np.array(s[\"inc_lower\"])[order]\n",
    "    s[\"inc_lim\"] = np.array(  s[\"inc_lim\"])[order]\n",
    "\n",
    "\n",
    "\n",
    "\n",
    "\n",
    "    \n",
    "    a = s[\"a\"]\n",
    "\n",
    "    if len(a) > 3:\n",
    "       gaps = a[1:]/a[:-1]\n",
    "       ratios = gaps/np.min(gaps)\n",
    "\n",
    "       if (np.any(ratios>COMPACT_RATIO)):\n",
    "                  compact_sys.append(s)  \n",
    "                  names.append(key)\n",
    "                  dyn_gaps.append(ratios)\n",
    "                  gap = np.argmax(ratios)\n",
    "                  s[\"gap\"] = [a[gap], a[gap+1]]\n",
    "              \n",
    "    \n",
    "print(len(names))"
   ]
  },
  {
   "cell_type": "code",
   "execution_count": 10,
   "metadata": {},
   "outputs": [
    {
     "data": {
      "text/plain": [
       "['HD 108236',\n",
       " 'HD 110067',\n",
       " 'HD 23472',\n",
       " 'K2-133',\n",
       " 'K2-138',\n",
       " 'K2-187',\n",
       " 'K2-266',\n",
       " 'K2-285',\n",
       " 'K2-32',\n",
       " 'K2-72',\n",
       " 'Kepler-324',\n",
       " 'KOI-351',\n",
       " 'KOI-94',\n",
       " 'Kepler-102',\n",
       " 'Kepler-106',\n",
       " 'Kepler-107',\n",
       " 'Kepler-11',\n",
       " 'Kepler-122',\n",
       " 'Kepler-132',\n",
       " 'Kepler-1388',\n",
       " 'Kepler-150',\n",
       " 'Kepler-154',\n",
       " 'Kepler-1542',\n",
       " 'Kepler-164',\n",
       " 'Kepler-167',\n",
       " 'Kepler-169',\n",
       " 'Kepler-172',\n",
       " 'Kepler-176',\n",
       " 'Kepler-186',\n",
       " 'Kepler-197',\n",
       " 'Kepler-1987',\n",
       " 'Kepler-20',\n",
       " 'Kepler-208',\n",
       " 'Kepler-215',\n",
       " 'Kepler-220',\n",
       " 'Kepler-221',\n",
       " 'Kepler-223',\n",
       " 'Kepler-224',\n",
       " 'Kepler-235',\n",
       " 'Kepler-238',\n",
       " 'Kepler-24',\n",
       " 'Kepler-245',\n",
       " 'Kepler-251',\n",
       " 'Kepler-256',\n",
       " 'Kepler-26',\n",
       " 'Kepler-265',\n",
       " 'Kepler-282',\n",
       " 'Kepler-286',\n",
       " 'Kepler-292',\n",
       " 'Kepler-296',\n",
       " 'Kepler-299',\n",
       " 'Kepler-304',\n",
       " 'Kepler-305',\n",
       " 'Kepler-306',\n",
       " 'Kepler-32',\n",
       " 'Kepler-33',\n",
       " 'Kepler-338',\n",
       " 'Kepler-341',\n",
       " 'Kepler-342',\n",
       " 'Kepler-37',\n",
       " 'Kepler-402',\n",
       " 'Kepler-444',\n",
       " 'Kepler-49',\n",
       " 'Kepler-55',\n",
       " 'Kepler-58',\n",
       " 'Kepler-62',\n",
       " 'Kepler-758',\n",
       " 'Kepler-79',\n",
       " 'Kepler-82',\n",
       " 'Kepler-84',\n",
       " 'Kepler-85',\n",
       " 'TOI-1246',\n",
       " 'TOI-178',\n",
       " 'TOI-561',\n",
       " 'TOI-700',\n",
       " 'TRAPPIST-1',\n",
       " 'V1298 Tau']"
      ]
     },
     "execution_count": 10,
     "metadata": {},
     "output_type": "execute_result"
    }
   ],
   "source": [
    "[compact_sys[i][\"name\"] for i in range(len(compact_sys))]"
   ]
  },
  {
   "cell_type": "code",
   "execution_count": 12,
   "metadata": {},
   "outputs": [],
   "source": [
    "cs2 = np.array(compact_sys)"
   ]
  },
  {
   "cell_type": "code",
   "execution_count": 13,
   "metadata": {},
   "outputs": [],
   "source": [
    "np.save(\"data/compact_systems_run_composite.npy\", cs2)\n",
    "# np.save(\"data/TOI-178.npy\", np.array(compact_sys)[[7]])\n",
    "# np.save(\"data/K2-32.npy\", np.array(compact_sys)[[2]])\n",
    "# np.save(\"data/Kepler-11.npy\", np.array(compact_sys)[[3]])\n"
   ]
  },
  {
   "cell_type": "code",
   "execution_count": 14,
   "metadata": {},
   "outputs": [],
   "source": [
    "# plt.style.use('dark_background')"
   ]
  },
  {
   "cell_type": "code",
   "execution_count": 10,
   "metadata": {},
   "outputs": [],
   "source": [
    "# compact_sys = compact_sys[:25]\n",
    "# names = names[:25]\n",
    "\n",
    "compact_sys = compact_sys[25:]\n",
    "names = names[25:]"
   ]
  },
  {
   "cell_type": "code",
   "execution_count": 11,
   "metadata": {},
   "outputs": [
    {
     "data": {
      "image/png": "[encoded data removed]",
      "text/plain": [
       "<Figure size 360x720 with 1 Axes>"
      ]
     },
     "metadata": {
      "needs_background": "light"
     },
     "output_type": "display_data"
    }
   ],
   "source": [
    "compact_sys[0]\n",
    "plt.figure(figsize = (5, 20/2))\n",
    "for i in range(len(compact_sys)-1, -1, -1):\n",
    "    # for j in range(len(dyn_gaps[i])):\n",
    "        # if dyn_gaps[i][j]>COMPACT_RATIO:\n",
    "        #     plt.plot((compact_sys[i][\"a\"][j], compact_sys[i][\"a\"][j+1]),\n",
    "        #              [i, i],\n",
    "        #              \"r--\")\n",
    "    \n",
    "    \n",
    "    plt.scatter(compact_sys[i][\"a\"], \n",
    "                i*np.ones(len(compact_sys[i][\"mass\"])),\n",
    "                s=10*np.array(compact_sys[i][\"r\"]),\n",
    "                label=names[i],\n",
    "                color=\"blue\"\n",
    "                )\n",
    "    plt.plot(compact_sys[i][\"gap\"], [i, i],  \"r--\")\n",
    "    # plt.text(1.1, i-.08, names[i])\n",
    "# plt.xlim(0, 1)\n",
    "plt.xscale(\"log\")\n",
    "plt.xlim(0.8e-2, 3)\n",
    "plt.ylim(-0.5, len(compact_sys) - 0.5)\n",
    "plt.yticks(np.arange(len(compact_sys)),names)\n",
    "plt.xlabel(\"Semi-Major Axis (au)\")\n",
    "plt.savefig(\"figs/compact_sysv2.png\", bbox_inches = \"tight\", transparent=True)\n",
    "\n",
    "plt.show()\n",
    "\n",
    "# plt.legend()"
   ]
  },
  {
   "cell_type": "code",
   "execution_count": 32,
   "metadata": {},
   "outputs": [
    {
     "data": {
      "text/plain": [
       "{'name': 'K2-285',\n",
       " 'st_mass': 0.83,\n",
       " 'st_upper': 0.02,\n",
       " 'st_lower': -0.02,\n",
       " 'st_lim': 0.0,\n",
       " 'st_ref': '<a refstr=PALLE_ET_AL__2019 href=https://ui.adsabs.harvard.edu/abs/2019A&A...623A..41P/abstract target=ref>Palle et al. 2019</a>',\n",
       " 'mass': array([ 9.68, 15.68,  6.5 , 10.7 ]),\n",
       " 'mass_upper': array([1.21, 2.28,  nan,  nan]),\n",
       " 'mass_lower': array([-1.37, -2.13,   nan,   nan]),\n",
       " 'mass_lim': array([0., 0., 1., 1.]),\n",
       " 'r': array([2.59, 3.53, 2.48, 1.95]),\n",
       " 'r_upper': array([0.06, 0.08, 0.06, 0.05]),\n",
       " 'r_lower': array([-0.06, -0.08, -0.06, -0.05]),\n",
       " 'r_lim': array([0., 0., 0., 0.]),\n",
       " 'e': array([0., 0., 0., 0.]),\n",
       " 'e_upper': array([nan, nan, nan, nan]),\n",
       " 'e_lower': array([nan, nan, nan, nan]),\n",
       " 'e_lim': array([0., 0., 0., 0.]),\n",
       " 'a': array([0.03817, 0.0824 , 0.1178 , 0.18041]),\n",
       " 'a_upper': array([0.00095, 0.0018 , 0.0029 , 0.0042 ]),\n",
       " 'a_lower': array([-0.00092, -0.0018 , -0.0029 , -0.0043 ]),\n",
       " 'a_lim': array([0., 0., 0., 0.]),\n",
       " 'inc': array([86.846, 89.861, 89.643, 89.799]),\n",
       " 'inc_upper': array([0.041, 0.001, 0.005, 0.002]),\n",
       " 'inc_lower': array([-0.041, -0.001, -0.005, -0.003]),\n",
       " 'inc_lim': array([0., 0., 0., 0.]),\n",
       " 'ref': ['<a refstr=PALLE_ET_AL__2019 href=https://ui.adsabs.harvard.edu/abs/2019A&A...623A..41P/abstract target=ref>Palle et al. 2019</a>',\n",
       "  '<a refstr=PALLE_ET_AL__2019 href=https://ui.adsabs.harvard.edu/abs/2019A&A...623A..41P/abstract target=ref>Palle et al. 2019</a>',\n",
       "  '<a refstr=PALLE_ET_AL__2019 href=https://ui.adsabs.harvard.edu/abs/2019A&A...623A..41P/abstract target=ref>Palle et al. 2019</a>',\n",
       "  '<a refstr=PALLE_ET_AL__2019 href=https://ui.adsabs.harvard.edu/abs/2019A&A...623A..41P/abstract target=ref>Palle et al. 2019</a>'],\n",
       " 'pl_name': ['K2-285 b', 'K2-285 c', 'K2-285 d', 'K2-285 e'],\n",
       " 'gap': [0.03817, 0.0824]}"
      ]
     },
     "execution_count": 32,
     "metadata": {},
     "output_type": "execute_result"
    }
   ],
   "source": [
    "compact_sys[6]"
   ]
  },
  {
   "cell_type": "code",
   "execution_count": 6,
   "metadata": {},
   "outputs": [
    {
     "data": {
      "text/plain": [
       "39"
      ]
     },
     "execution_count": 6,
     "metadata": {},
     "output_type": "execute_result"
    }
   ],
   "source": [
    "len(compact_sys)"
   ]
  },
  {
   "cell_type": "code",
   "execution_count": 99,
   "metadata": {},
   "outputs": [
    {
     "data": {
      "text/plain": [
       "array([1.54302301, 1.        , 1.48798454])"
      ]
     },
     "execution_count": 99,
     "metadata": {},
     "output_type": "execute_result"
    }
   ],
   "source": [
    "a = np.array([0.053, 0.122, 0.182, 0.404])\n",
    "ratio = a[1:]/a[:-1]\n",
    "ratio\n",
    "ratio/np.min(ratio)"
   ]
  },
  {
   "cell_type": "code",
   "execution_count": 6,
   "metadata": {},
   "outputs": [
    {
     "data": {
      "text/plain": [
       "[{'name': 'K2-138',\n",
       "  'st_mass': 0.94,\n",
       "  'st_upper': 0.02,\n",
       "  'st_lower': -0.02,\n",
       "  'st_lim': 0.0,\n",
       "  'st_ref': '<a refstr=LOPEZ_ET_AL__2019 href=https://ui.adsabs.harvard.edu/abs/2019A&A...631A..90L/abstract target=ref>Lopez et al. 2019</a>',\n",
       "  'mass': array([ 3.1 ,  6.31,  7.92, 12.97,  1.63,  4.32]),\n",
       "  'mass_upper': [1.05, 1.13, 1.39, 1.98, 2.12, 5.26],\n",
       "  'mass_lower': [-1.05, -1.23, -1.35, -1.99, -1.18, -3.03],\n",
       "  'mass_lim': [0.0, 0.0, 0.0, 0.0, 0.0, 0.0],\n",
       "  'r': [1.51, 2.299, 2.39, 3.39, 2.904, 3.013],\n",
       "  'r_upper': [0.11, 0.12, 0.104, 0.156, 0.164, 0.303],\n",
       "  'r_lower': [-0.084, -0.087, -0.084, -0.11, -0.111, -0.251],\n",
       "  'r_lim': [0.0, 0.0, 0.0, 0.0, 0.0, 0.0],\n",
       "  'e': array([0.048, 0.045, 0.043, 0.077, 0.062, 0.059]),\n",
       "  'e_upper': [0.054, 0.051, 0.041, 0.048, 0.064, 0.063],\n",
       "  'e_lower': [-0.033, -0.032, -0.03, -0.049, -0.043, -0.04],\n",
       "  'e_lim': [0.0, 0.0, 0.0, 0.0, 0.0, 0.0],\n",
       "  'a': array([0.03385, 0.04461, 0.05893, 0.0782 , 0.10447, 0.23109]),\n",
       "  'a_upper': [0.00023, 0.0003, 0.0004, 0.00053, 0.0007, 0.00154],\n",
       "  'a_lower': [-0.00029, -0.00038, -0.0005, -0.00066, -0.00088, -0.00196],\n",
       "  'a_lim': [0.0, 0.0, 0.0, 0.0, 0.0, 0.0],\n",
       "  'inc': [87.2, 88.1, 89.0, 88.6, 88.8, 89.4],\n",
       "  'inc_upper': [1.2, 0.7, 0.6, 0.3, 0.2, 0.4],\n",
       "  'inc_lower': [-1.0, -0.7, -0.6, -0.3, -0.2, -0.3],\n",
       "  'inc_lim': [0.0, 0.0, 0.0, 0.0, 0.0, 0.0],\n",
       "  'ref': ['<a refstr=LOPEZ_ET_AL__2019 href=https://ui.adsabs.harvard.edu/abs/2019A&A...631A..90L/abstract target=ref>Lopez et al. 2019</a>',\n",
       "   '<a refstr=LOPEZ_ET_AL__2019 href=https://ui.adsabs.harvard.edu/abs/2019A&A...631A..90L/abstract target=ref>Lopez et al. 2019</a>',\n",
       "   '<a refstr=LOPEZ_ET_AL__2019 href=https://ui.adsabs.harvard.edu/abs/2019A&A...631A..90L/abstract target=ref>Lopez et al. 2019</a>',\n",
       "   '<a refstr=LOPEZ_ET_AL__2019 href=https://ui.adsabs.harvard.edu/abs/2019A&A...631A..90L/abstract target=ref>Lopez et al. 2019</a>',\n",
       "   '<a refstr=LOPEZ_ET_AL__2019 href=https://ui.adsabs.harvard.edu/abs/2019A&A...631A..90L/abstract target=ref>Lopez et al. 2019</a>',\n",
       "   '<a refstr=LOPEZ_ET_AL__2019 href=https://ui.adsabs.harvard.edu/abs/2019A&A...631A..90L/abstract target=ref>Lopez et al. 2019</a>']},\n",
       " {'name': 'K2-285',\n",
       "  'st_mass': 0.83,\n",
       "  'st_upper': 0.02,\n",
       "  'st_lower': -0.02,\n",
       "  'st_lim': 0.0,\n",
       "  'st_ref': '<a refstr=PALLE_ET_AL__2019 href=https://ui.adsabs.harvard.edu/abs/2019A&A...623A..41P/abstract target=ref>Palle et al. 2019</a>',\n",
       "  'mass': array([ 9.68, 15.68,  6.5 , 10.7 ]),\n",
       "  'mass_upper': [1.21, 2.28, nan, nan],\n",
       "  'mass_lower': [-1.37, -2.13, nan, nan],\n",
       "  'mass_lim': [0.0, 0.0, 1.0, 1.0],\n",
       "  'r': [2.59, 3.53, 2.48, 1.95],\n",
       "  'r_upper': [0.06, 0.08, 0.06, 0.05],\n",
       "  'r_lower': [-0.06, -0.08, -0.06, -0.05],\n",
       "  'r_lim': [0.0, 0.0, 0.0, 0.0],\n",
       "  'e': array([0., 0., 0., 0.]),\n",
       "  'e_upper': [nan, nan, nan, nan],\n",
       "  'e_lower': [nan, nan, nan, nan],\n",
       "  'e_lim': [0.0, 0.0, 0.0, 0.0],\n",
       "  'a': array([0.03817, 0.0824 , 0.1178 , 0.18041]),\n",
       "  'a_upper': [0.00095, 0.0018, 0.0029, 0.0042],\n",
       "  'a_lower': [-0.00092, -0.0018, -0.0029, -0.0043],\n",
       "  'a_lim': [0.0, 0.0, 0.0, 0.0],\n",
       "  'inc': [86.846, 89.861, 89.643, 89.799],\n",
       "  'inc_upper': [0.041, 0.001, 0.005, 0.002],\n",
       "  'inc_lower': [-0.041, -0.001, -0.005, -0.003],\n",
       "  'inc_lim': [0.0, 0.0, 0.0, 0.0],\n",
       "  'ref': ['<a refstr=PALLE_ET_AL__2019 href=https://ui.adsabs.harvard.edu/abs/2019A&A...623A..41P/abstract target=ref>Palle et al. 2019</a>',\n",
       "   '<a refstr=PALLE_ET_AL__2019 href=https://ui.adsabs.harvard.edu/abs/2019A&A...623A..41P/abstract target=ref>Palle et al. 2019</a>',\n",
       "   '<a refstr=PALLE_ET_AL__2019 href=https://ui.adsabs.harvard.edu/abs/2019A&A...623A..41P/abstract target=ref>Palle et al. 2019</a>',\n",
       "   '<a refstr=PALLE_ET_AL__2019 href=https://ui.adsabs.harvard.edu/abs/2019A&A...623A..41P/abstract target=ref>Palle et al. 2019</a>']},\n",
       " {'name': 'K2-32',\n",
       "  'st_mass': 0.83,\n",
       "  'st_upper': 0.02,\n",
       "  'st_lower': -0.02,\n",
       "  'st_lim': 0.0,\n",
       "  'st_ref': '<a refstr=LILLO_BOX_ET_AL__2020 href=https://ui.adsabs.harvard.edu/abs/2020A&A...640A..48L/abstract target=ref>Lillo-Box et al. 2020</a>',\n",
       "  'mass': array([ 2.1, 15. ,  8.1,  6.7]),\n",
       "  'mass_upper': [1.8, 2.4, 2.5, 1.3],\n",
       "  'mass_lower': [-1.7, -2.4, -2.5, -1.1],\n",
       "  'mass_lim': [0.0, 0.0, 0.0, 0.0],\n",
       "  'r': [5.299, 3.134, 3.484, 1.212],\n",
       "  'r_upper': [0.191, 0.123, 0.112, 0.052],\n",
       "  'r_lower': [-0.191, -0.102, -0.129, -0.046],\n",
       "  'r_lim': [0.0, 0.0, 0.0, 0.0],\n",
       "  'e': array([0.043, 0.03 , 0.049, 0.05 ]),\n",
       "  'e_upper': [0.032, 0.046, 0.053, 0.048],\n",
       "  'e_lower': [-0.021, -0.035, -0.035, -0.03],\n",
       "  'e_lim': [0.0, 0.0, 0.0, 0.0],\n",
       "  'a': array([0.04899, 0.0795 , 0.13843, 0.18422]),\n",
       "  'a_upper': [0.00066, 0.00115, 0.00152, 0.00041],\n",
       "  'a_lower': [-0.00062, -0.00108, -0.00144, -0.00038],\n",
       "  'a_lim': [0.0, 0.0, 0.0, 0.0],\n",
       "  'inc': [89.0, 89.4, 89.4, 89.0],\n",
       "  'inc_upper': [0.5, 0.3, 0.1, 0.7],\n",
       "  'inc_lower': [-0.3, -0.2, -0.1, -0.7],\n",
       "  'inc_lim': [0.0, 0.0, 0.0, 0.0],\n",
       "  'ref': ['<a refstr=LILLO_BOX_ET_AL__2020 href=https://ui.adsabs.harvard.edu/abs/2020A&A...640A..48L/abstract target=ref>Lillo-Box et al. 2020</a>',\n",
       "   '<a refstr=LILLO_BOX_ET_AL__2020 href=https://ui.adsabs.harvard.edu/abs/2020A&A...640A..48L/abstract target=ref>Lillo-Box et al. 2020</a>',\n",
       "   '<a refstr=LILLO_BOX_ET_AL__2020 href=https://ui.adsabs.harvard.edu/abs/2020A&A...640A..48L/abstract target=ref>Lillo-Box et al. 2020</a>',\n",
       "   '<a refstr=LILLO_BOX_ET_AL__2020 href=https://ui.adsabs.harvard.edu/abs/2020A&A...640A..48L/abstract target=ref>Lillo-Box et al. 2020</a>']},\n",
       " {'name': 'Kepler-11',\n",
       "  'st_mass': 0.96,\n",
       "  'st_upper': 0.03,\n",
       "  'st_lower': -0.03,\n",
       "  'st_lim': 0.0,\n",
       "  'st_ref': '<a refstr=LISSAUER_ET_AL__2013 href=https://ui.adsabs.harvard.edu/abs/2013ApJ...770..131L/abstract target=ref> Lissauer et al. 2013 </a>',\n",
       "  'mass': array([ 1.9,  2.9,  7.3,  8. ,  2. , 25. ]),\n",
       "  'mass_upper': [1.4, 2.9, 0.8, 1.5, 0.8, nan],\n",
       "  'mass_lower': [-1.0, -1.6, -1.5, -2.1, -0.9, nan],\n",
       "  'mass_lim': [0.0, 0.0, 0.0, 0.0, 0.0, 1.0],\n",
       "  'r': [1.8, 2.87, 3.12, 4.19, 2.49, 3.33],\n",
       "  'r_upper': [0.03, 0.05, 0.06, 0.07, 0.04, 0.06],\n",
       "  'r_lower': [-0.05, -0.06, -0.07, -0.09, -0.07, -0.08],\n",
       "  'r_lim': [0.0, 0.0, 0.0, 0.0, 0.0, 0.0],\n",
       "  'e': array([0.045, 0.026, 0.004, 0.012, 0.013, 0.15 ]),\n",
       "  'e_upper': [0.068, 0.063, 0.007, 0.006, 0.011, nan],\n",
       "  'e_lower': [-0.042, -0.013, -0.002, -0.006, -0.009, nan],\n",
       "  'e_lim': [0.0, 0.0, 0.0, 0.0, 0.0, 1.0],\n",
       "  'a': array([0.091, 0.107, 0.155, 0.195, 0.25 , 0.466]),\n",
       "  'a_upper': [0.001, 0.001, 0.001, 0.002, 0.002, 0.004],\n",
       "  'a_lower': [-0.001, -0.001, -0.001, -0.002, -0.002, -0.004],\n",
       "  'a_lim': [0.0, 0.0, 0.0, 0.0, 0.0, 0.0],\n",
       "  'inc': [89.64, 89.59, 89.67, 88.89, 89.47, 89.87],\n",
       "  'inc_upper': [0.36, 0.41, 0.13, 0.02, 0.04, 0.05],\n",
       "  'inc_lower': [-0.18, -0.16, -0.16, -0.02, -0.04, -0.06],\n",
       "  'inc_lim': [0.0, 0.0, 0.0, 0.0, 0.0, 0.0],\n",
       "  'ref': ['<a refstr=LISSAUER_ET_AL__2013 href=https://ui.adsabs.harvard.edu/abs/2013ApJ...770..131L/abstract target=ref> Lissauer et al. 2013 </a>',\n",
       "   '<a refstr=LISSAUER_ET_AL__2013 href=https://ui.adsabs.harvard.edu/abs/2013ApJ...770..131L/abstract target=ref> Lissauer et al. 2013 </a>',\n",
       "   '<a refstr=LISSAUER_ET_AL__2013 href=https://ui.adsabs.harvard.edu/abs/2013ApJ...770..131L/abstract target=ref> Lissauer et al. 2013 </a>',\n",
       "   '<a refstr=LISSAUER_ET_AL__2013 href=https://ui.adsabs.harvard.edu/abs/2013ApJ...770..131L/abstract target=ref> Lissauer et al. 2013 </a>',\n",
       "   '<a refstr=LISSAUER_ET_AL__2013 href=https://ui.adsabs.harvard.edu/abs/2013ApJ...770..131L/abstract target=ref> Lissauer et al. 2013 </a>',\n",
       "   '<a refstr=LISSAUER_ET_AL__2013 href=https://ui.adsabs.harvard.edu/abs/2013ApJ...770..131L/abstract target=ref> Lissauer et al. 2013 </a>']},\n",
       " {'name': 'Kepler-20',\n",
       "  'st_mass': 0.93,\n",
       "  'st_upper': 0.05,\n",
       "  'st_lower': -0.05,\n",
       "  'st_lim': 0.0,\n",
       "  'st_ref': '<a refstr=BONOMO_ET_AL__2023 href=https://ui.adsabs.harvard.edu/abs/2023arXiv230405773B/abstract target=ref>Bonomo et al. 2023</a>',\n",
       "  'mass': array([ 9.7 ,  0.76, 11.1 ,  1.4 , 13.4 ]),\n",
       "  'mass_upper': [1.3, 2.1, 3.7, nan, nan],\n",
       "  'mass_lower': [-1.3, -2.1, -3.6, nan, nan],\n",
       "  'mass_lim': [0.0, 0.0, 0.0, 1.0, 1.0],\n",
       "  'r': [1.773, 2.894, 2.606, 0.821, 0.952],\n",
       "  'r_upper': [0.053, 0.036, 0.053, 0.022, 0.047],\n",
       "  'r_lower': [-0.03, -0.033, -0.039, -0.022, -0.087],\n",
       "  'r_lim': [0.0, 0.0, 0.0, 0.0, 0.0],\n",
       "  'e': array([0.083, 0.092, 0.076, 0.094, 0.082]),\n",
       "  'e_upper': [nan, nan, nan, nan, nan],\n",
       "  'e_lower': [nan, nan, nan, nan, nan],\n",
       "  'e_lim': [1.0, 1.0, 1.0, 1.0, 1.0],\n",
       "  'a': array([0.04565, 0.0637 , 0.0936 , 0.1387 , 0.3474 ]),\n",
       "  'a_upper': [0.00089, 0.0018, 0.0067, 0.0012, 0.0027],\n",
       "  'a_lower': [-0.00089, -0.0018, -0.0067, -0.0012, -0.0027],\n",
       "  'a_lim': [0.0, 0.0, 0.0, 0.0, 0.0],\n",
       "  'inc': [87.36, 89.815, 89.708, 87.63, 88.788],\n",
       "  'inc_upper': [0.22, 0.036, 0.17, 1.1, 0.43],\n",
       "  'inc_lower': [-1.6, -0.63, -0.053, -0.13, -0.072],\n",
       "  'inc_lim': [0.0, 0.0, 0.0, 0.0, 0.0],\n",
       "  'ref': ['<a refstr=BONOMO_ET_AL__2023 href=https://ui.adsabs.harvard.edu/abs/2023arXiv230405773B/abstract target=ref>Bonomo et al. 2023</a>',\n",
       "   '<a refstr=BONOMO_ET_AL__2023 href=https://ui.adsabs.harvard.edu/abs/2023arXiv230405773B/abstract target=ref>Bonomo et al. 2023</a>',\n",
       "   '<a refstr=BONOMO_ET_AL__2023 href=https://ui.adsabs.harvard.edu/abs/2023arXiv230405773B/abstract target=ref>Bonomo et al. 2023</a>',\n",
       "   '<a refstr=BONOMO_ET_AL__2023 href=https://ui.adsabs.harvard.edu/abs/2023arXiv230405773B/abstract target=ref>Bonomo et al. 2023</a>',\n",
       "   '<a refstr=BONOMO_ET_AL__2023 href=https://ui.adsabs.harvard.edu/abs/2023arXiv230405773B/abstract target=ref>Bonomo et al. 2023</a>']},\n",
       " {'name': 'Kepler-62',\n",
       "  'st_mass': 0.69,\n",
       "  'st_upper': 0.02,\n",
       "  'st_lower': -0.02,\n",
       "  'st_lim': 0.0,\n",
       "  'st_ref': '<a refstr=BORUCKI_ET_AL__2013 href=https://ui.adsabs.harvard.edu/abs/2013Sci...340..587B/abstract target=ref> Borucki et al. 2013 </a>',\n",
       "  'mass': array([ 9.,  4., 14., 36., 35.]),\n",
       "  'mass_upper': [nan, nan, nan, nan, nan],\n",
       "  'mass_lower': [nan, nan, nan, nan, nan],\n",
       "  'mass_lim': [1.0, 1.0, 1.0, 1.0, 1.0],\n",
       "  'r': [1.31, 0.54, 1.95, 1.61, 1.41],\n",
       "  'r_upper': [0.04, 0.03, 0.07, 0.05, 0.07],\n",
       "  'r_lower': [-0.04, -0.03, -0.07, -0.05, -0.07],\n",
       "  'r_lim': [0.0, 0.0, 0.0, 0.0, 0.0],\n",
       "  'e': array([nan, nan, nan, nan, nan]),\n",
       "  'e_upper': [nan, nan, nan, nan, nan],\n",
       "  'e_lower': [nan, nan, nan, nan, nan],\n",
       "  'e_lim': [nan, nan, nan, nan, nan],\n",
       "  'a': array([0.0553, 0.0929, 0.12  , 0.427 , 0.718 ]),\n",
       "  'a_upper': [0.0005, 0.0009, 0.001, 0.004, 0.007],\n",
       "  'a_lower': [-0.0005, -0.0009, -0.001, -0.004, -0.007],\n",
       "  'a_lim': [0.0, 0.0, 0.0, 0.0, 0.0],\n",
       "  'inc': [89.2, 89.7, 89.7, 89.98, 89.9],\n",
       "  'inc_upper': [0.4, 0.2, 0.3, 0.02, 0.03],\n",
       "  'inc_lower': [-0.4, -0.2, -0.3, -0.02, -0.03],\n",
       "  'inc_lim': [0.0, 0.0, 0.0, 0.0, 0.0],\n",
       "  'ref': ['<a refstr=BORUCKI_ET_AL__2013 href=https://ui.adsabs.harvard.edu/abs/2013Sci...340..587B/abstract target=ref> Borucki et al. 2013 </a>',\n",
       "   '<a refstr=BORUCKI_ET_AL__2013 href=https://ui.adsabs.harvard.edu/abs/2013Sci...340..587B/abstract target=ref> Borucki et al. 2013 </a>',\n",
       "   '<a refstr=BORUCKI_ET_AL__2013 href=https://ui.adsabs.harvard.edu/abs/2013Sci...340..587B/abstract target=ref> Borucki et al. 2013 </a>',\n",
       "   '<a refstr=BORUCKI_ET_AL__2013 href=https://ui.adsabs.harvard.edu/abs/2013Sci...340..587B/abstract target=ref> Borucki et al. 2013 </a>',\n",
       "   '<a refstr=BORUCKI_ET_AL__2013 href=https://ui.adsabs.harvard.edu/abs/2013Sci...340..587B/abstract target=ref> Borucki et al. 2013 </a>']},\n",
       " {'name': 'TOI-1246',\n",
       "  'st_mass': 0.87,\n",
       "  'st_upper': 0.03,\n",
       "  'st_lower': -0.03,\n",
       "  'st_lim': 0.0,\n",
       "  'st_ref': '<a refstr=TURTELBOOM_ET_AL__2022 href=https://ui.adsabs.harvard.edu/abs/2022arXiv220411895T/abstract target=ref>Turtelboom et al. 2022</a>',\n",
       "  'mass': array([ 8.1,  8.8,  5.3, 14.8]),\n",
       "  'mass_upper': [1.1, 1.2, 1.7, 2.3],\n",
       "  'mass_lower': [-1.1, -1.2, -1.7, -2.3],\n",
       "  'mass_lim': [0.0, 0.0, 0.0, 0.0],\n",
       "  'r': [3.01, 2.51, 3.51, 3.78],\n",
       "  'r_upper': [0.06, 0.08, 0.09, 0.16],\n",
       "  'r_lower': [-0.06, -0.08, -0.09, -0.16],\n",
       "  'r_lim': [0.0, 0.0, 0.0, 0.0],\n",
       "  'e': array([nan, nan, nan, nan]),\n",
       "  'e_upper': [nan, nan, nan, nan],\n",
       "  'e_lower': [nan, nan, nan, nan],\n",
       "  'e_lim': [nan, nan, nan, nan],\n",
       "  'a': array([0.049, 0.061, 0.131, 0.211]),\n",
       "  'a_upper': [0.002, 0.002, 0.004, 0.007],\n",
       "  'a_lower': [-0.002, -0.002, -0.004, -0.007],\n",
       "  'a_lim': [0.0, 0.0, 0.0, 0.0],\n",
       "  'inc': [87.9, 89.3, 89.5, 89.3],\n",
       "  'inc_upper': [0.4, 0.5, 0.2, 0.1],\n",
       "  'inc_lower': [-0.4, -0.5, -0.2, -0.1],\n",
       "  'inc_lim': [0.0, 0.0, 0.0, 0.0],\n",
       "  'ref': ['<a refstr=TURTELBOOM_ET_AL__2022 href=https://ui.adsabs.harvard.edu/abs/2022arXiv220411895T/abstract target=ref>Turtelboom et al. 2022</a>',\n",
       "   '<a refstr=TURTELBOOM_ET_AL__2022 href=https://ui.adsabs.harvard.edu/abs/2022arXiv220411895T/abstract target=ref>Turtelboom et al. 2022</a>',\n",
       "   '<a refstr=TURTELBOOM_ET_AL__2022 href=https://ui.adsabs.harvard.edu/abs/2022arXiv220411895T/abstract target=ref>Turtelboom et al. 2022</a>',\n",
       "   '<a refstr=TURTELBOOM_ET_AL__2022 href=https://ui.adsabs.harvard.edu/abs/2022arXiv220411895T/abstract target=ref>Turtelboom et al. 2022</a>']},\n",
       " {'name': 'TOI-178',\n",
       "  'st_mass': 0.65,\n",
       "  'st_upper': 0.03,\n",
       "  'st_lower': -0.03,\n",
       "  'st_lim': 0.0,\n",
       "  'st_ref': '<a refstr=LELEU_ET_AL__2021 href=https://ui.adsabs.harvard.edu/abs/2021A&A...649A..26L/abstract target=ref>Leleu et al. 2021</a>',\n",
       "  'mass': array([1.5 , 4.77, 3.01, 3.86, 7.72, 3.94]),\n",
       "  'mass_upper': [0.39, 0.55, 0.8, 1.25, 1.67, 1.31],\n",
       "  'mass_lower': [-0.44, -0.68, -1.03, -0.94, -1.52, -1.62],\n",
       "  'mass_lim': [0.0, 0.0, 0.0, 0.0, 0.0, 0.0],\n",
       "  'r': [1.152, 1.669, 2.572, 2.207, 2.287, 2.87],\n",
       "  'r_upper': [0.073, 0.114, 0.075, 0.088, 0.108, 0.14],\n",
       "  'r_lower': [-0.07, -0.099, -0.078, -0.09, -0.11, -0.13],\n",
       "  'r_lim': [0.0, 0.0, 0.0, 0.0, 0.0, 0.0],\n",
       "  'e': array([nan, nan, nan, nan, nan, nan]),\n",
       "  'e_upper': [nan, nan, nan, nan, nan, nan],\n",
       "  'e_lower': [nan, nan, nan, nan, nan, nan],\n",
       "  'e_lim': [nan, nan, nan, nan, nan, nan],\n",
       "  'a': array([0.02607, 0.037  , 0.0592 , 0.0783 , 0.1039 , 0.1275 ]),\n",
       "  'a_upper': [0.00078, 0.0011, 0.0018, 0.0023, 0.0031, 0.0038],\n",
       "  'a_lower': [-0.00078, -0.0011, -0.0018, -0.0024, -0.0031, -0.0039],\n",
       "  'a_lim': [0.0, 0.0, 0.0, 0.0, 0.0, 0.0],\n",
       "  'inc': [88.8, 88.4, 88.58, 88.71, 88.723, 88.823],\n",
       "  'inc_upper': [0.8, 1.1, 0.2, 0.16, 0.071, 0.045],\n",
       "  'inc_lower': [-1.3, -1.6, -0.18, -0.13, -0.069, -0.047],\n",
       "  'inc_lim': [0.0, 0.0, 0.0, 0.0, 0.0, 0.0],\n",
       "  'ref': ['<a refstr=LELEU_ET_AL__2021 href=https://ui.adsabs.harvard.edu/abs/2021A&A...649A..26L/abstract target=ref>Leleu et al. 2021</a>',\n",
       "   '<a refstr=LELEU_ET_AL__2021 href=https://ui.adsabs.harvard.edu/abs/2021A&A...649A..26L/abstract target=ref>Leleu et al. 2021</a>',\n",
       "   '<a refstr=LELEU_ET_AL__2021 href=https://ui.adsabs.harvard.edu/abs/2021A&A...649A..26L/abstract target=ref>Leleu et al. 2021</a>',\n",
       "   '<a refstr=LELEU_ET_AL__2021 href=https://ui.adsabs.harvard.edu/abs/2021A&A...649A..26L/abstract target=ref>Leleu et al. 2021</a>',\n",
       "   '<a refstr=LELEU_ET_AL__2021 href=https://ui.adsabs.harvard.edu/abs/2021A&A...649A..26L/abstract target=ref>Leleu et al. 2021</a>',\n",
       "   '<a refstr=LELEU_ET_AL__2021 href=https://ui.adsabs.harvard.edu/abs/2021A&A...649A..26L/abstract target=ref>Leleu et al. 2021</a>']},\n",
       " {'name': 'TOI-561',\n",
       "  'st_mass': 0.81,\n",
       "  'st_upper': 0.04,\n",
       "  'st_lower': -0.04,\n",
       "  'st_lim': 0.0,\n",
       "  'st_ref': '<a refstr=LACEDELLI_ET_AL__2022 href=https://ui.adsabs.harvard.edu/abs/2022MNRAS.511.4551L/abstract target=ref>Lacedelli et al. 2022</a>',\n",
       "  'mass': array([ 2.  ,  5.39, 13.2 , 12.6 ]),\n",
       "  'mass_upper': [0.23, 0.69, 1.0, 1.4],\n",
       "  'mass_lower': [-0.23, -0.68, -0.9, -1.4],\n",
       "  'mass_lim': [0.0, 0.0, 0.0, 0.0],\n",
       "  'r': [1.425, 2.91, 2.82, 2.55],\n",
       "  'r_upper': [0.037, 0.04, 0.07, 0.12],\n",
       "  'r_lower': [-0.037, -0.04, -0.07, -0.13],\n",
       "  'r_lim': [0.0, 0.0, 0.0, 0.0],\n",
       "  'e': array([0.   , 0.03 , 0.122, 0.079]),\n",
       "  'e_upper': [nan, 0.035, 0.054, 0.058],\n",
       "  'e_lower': [nan, -0.021, -0.048, -0.05],\n",
       "  'e_lim': [0.0, 0.0, 0.0, 0.0],\n",
       "  'a': array([0.0106, 0.0884, 0.158 , 0.328 ]),\n",
       "  'a_upper': [0.0001, 0.0009, 0.002, 0.003],\n",
       "  'a_lower': [-0.0001, -0.0009, -0.002, -0.003],\n",
       "  'a_lim': [0.0, 0.0, 0.0, 0.0],\n",
       "  'inc': [87.2, 89.69, 89.4, 89.8],\n",
       "  'inc_upper': [1.9, 0.21, 0.21, 0.13],\n",
       "  'inc_lower': [-2.1, -0.31, -0.11, -0.1],\n",
       "  'inc_lim': [0.0, 0.0, 0.0, 0.0],\n",
       "  'ref': ['<a refstr=LACEDELLI_ET_AL__2022 href=https://ui.adsabs.harvard.edu/abs/2022MNRAS.511.4551L/abstract target=ref>Lacedelli et al. 2022</a>',\n",
       "   '<a refstr=LACEDELLI_ET_AL__2022 href=https://ui.adsabs.harvard.edu/abs/2022MNRAS.511.4551L/abstract target=ref>Lacedelli et al. 2022</a>',\n",
       "   '<a refstr=LACEDELLI_ET_AL__2022 href=https://ui.adsabs.harvard.edu/abs/2022MNRAS.511.4551L/abstract target=ref>Lacedelli et al. 2022</a>',\n",
       "   '<a refstr=LACEDELLI_ET_AL__2022 href=https://ui.adsabs.harvard.edu/abs/2022MNRAS.511.4551L/abstract target=ref>Lacedelli et al. 2022</a>']}]"
      ]
     },
     "execution_count": 6,
     "metadata": {},
     "output_type": "execute_result"
    }
   ],
   "source": [
    "compact_sys"
   ]
  },
  {
   "cell_type": "code",
   "execution_count": 56,
   "metadata": {},
   "outputs": [],
   "source": [
    "mass, cdf = np.load(\"data/st_mass_dist.npy\")\n",
    "mass_func = interp1d(cdf, mass)\n",
    "MASS_CDF_MIN = np.min(cdf)\n",
    "MASS_CDF_MAX = np.max(cdf)"
   ]
  },
  {
   "cell_type": "code",
   "execution_count": 29,
   "metadata": {},
   "outputs": [],
   "source": [
    "refs = {}\n",
    "with open(\"tables/bibcodes.json\") as f:\n",
    "    bibcodes = json.load(f)\n",
    "with open(\"tables/stellar_parameters.txt\", \"w+\") as f:\n",
    "    f.write(\"System & Stellar Mass Prior ($M_\\odot$) & Citation\\\\hline\\n\")\n",
    "    for i in range(len(compact_sys)):\n",
    "        name = compact_sys[i]['name']\n",
    "        mid = compact_sys[i]['st_mass']\n",
    "        lo = mid + compact_sys[i]['st_lower']\n",
    "        hi = mid + compact_sys[i]['st_upper']\n",
    "        asterisk = \"\"\n",
    "        if np.isnan(lo):\n",
    "            lo = 0.8 * mid\n",
    "            asterisk = \"^*\"\n",
    "        if np.isnan(hi):\n",
    "            hi = 1.2 * mid\n",
    "            asterisk = \"^*\"\n",
    "\n",
    "        cite = compact_sys[i]['st_ref'].split(\">\")[1].split(\"<\")[0]\n",
    "        refs[cite] = compact_sys[i]['st_ref']\n",
    "        newline = \"\\\\\\\\\"\n",
    "        bcode = bibcodes[cite]\n",
    "        if i == len(compact_sys) - 1: newline = \"\"\n",
    "        \n",
    "        if np.isnan(lo) + np.isnan(hi) + (compact_sys[i]['st_mass']<0.1):\n",
    "            f.write(f\"{name} & Emperical$^*$ &\")# {cite} {newline}\\n\")\n",
    "        else:\n",
    "            f.write(f\"{name} & $U({lo:.3f}, {hi:.3f}){asterisk}$ & \")#{cite} {newline}\\n\")\n",
    "        f.write(\"\\citet{\")\n",
    "        f.write(bcode)\n",
    "        f.write(\"}\")\n",
    "        f.write(f\"{newline}\\n\")"
   ]
  },
  {
   "cell_type": "code",
   "execution_count": 22,
   "metadata": {},
   "outputs": [],
   "source": [
    "with open(\"tables/refs.txt\", \"w+\") as f:\n",
    "    for key in refs.keys():\n",
    "        f.write(refs[key].split(\"=\")[2].split(\"/\")[-2])\n",
    "        f.write('\\n')\n",
    "        \n",
    "with open(\"tables/bibcodes_to_fill.json\", \"w+\") as f:\n",
    "    f.write('{\\n\"_IGNORE\": 0')\n",
    "    for key in refs.keys():\n",
    "        f.write(f',\\n\"{key}\": \"BIBCODE\"')\n",
    "    f.write(\"\\n}\")"
   ]
  },
  {
   "cell_type": "code",
   "execution_count": null,
   "metadata": {},
   "outputs": [],
   "source": []
  },
  {
   "cell_type": "code",
   "execution_count": 31,
   "metadata": {},
   "outputs": [],
   "source": [
    "with open(\"tables/planetary_parameters.txt\", \"w+\") as f:\n",
    "    f.write(\"Planet Name & Mass Prior ($M_\\oplus$) & Semi-Major Axis Prior (au)& Eccentricity Prior & Radius Prior $(R_\\oplus)$& Citation\\\\hline\\n\")\n",
    "    for i in range(len(compact_sys)):\n",
    "        for j in range(len(compact_sys[i][\"a\"])):\n",
    "            name = compact_sys[i]['pl_name'][j]\n",
    "    \n",
    "            m_mid = compact_sys[i]['mass'][j]\n",
    "            m_lo = m_mid +  compact_sys[i]['mass_lower'][j]\n",
    "            m_hi = m_mid +  compact_sys[i]['mass_upper'][j]\n",
    "            m_prior = f\"$U({m_lo:.4g}, {m_hi:.4g})$\"\n",
    "            r_prior = \"N/A\"\n",
    "            if np.isnan(m_lo):\n",
    "                r_mid = compact_sys[i]['r'][j]\n",
    "                r_lo = r_mid +  compact_sys[i]['r_lower'][j]\n",
    "                r_hi = r_mid +  compact_sys[i]['r_upper'][j]\n",
    "                r_prior = f\"$U({r_lo:.4g}, {r_hi:.4g})$\"\n",
    "                if np.isnan(r_lo) + np.isnan(r_hi):\n",
    "                    r_prior = f\"$U({0.8 * r_mid:.4g}, {1.2 * r_mid:.4g})$^*$$\"\n",
    "\n",
    "\n",
    "                if np.isnan(m_mid):\n",
    "                    m_prior = \"Mass-Radius$^*$\"\n",
    "                else:\n",
    "                    m_prior = f\"Mass-Radius ($M < {m_mid:.4g}$)$^*$\"\n",
    "\n",
    "\n",
    "                \n",
    "            a_mid = compact_sys[i]['a'][j]\n",
    "            a_lo = a_mid +  compact_sys[i]['a_lower'][j]\n",
    "            a_hi = a_mid +  compact_sys[i]['a_upper'][j]\n",
    "            a_prior = f\"$U({a_lo:.4f}, {a_hi:.4f})$\"\n",
    "            if np.isnan(a_lo) + np.isnan(a_hi):\n",
    "                a_prior = f\"$U({0.8 * a_mid:.4g}, {1.2*a_mid:.4g})^*$\"\n",
    "\n",
    "            e_mid = compact_sys[i]['e'][j]\n",
    "            e_lo = max(e_mid +  compact_sys[i]['e_lower'][j], 0)\n",
    "            e_hi = e_mid +  compact_sys[i]['e_upper'][j]\n",
    "            e_prior = f\"$U({e_lo:.4g}, {e_hi:.4g})$\"\n",
    "            if np.isnan(e_lo) + np.isnan(e_hi):\n",
    "                e_prior = f\"0$^*$\"\n",
    "\n",
    "\n",
    "\n",
    "            cite = compact_sys[i]['ref'][j].split(\">\")[1].split(\"<\")[0]\n",
    "            refs[cite] = compact_sys[i]['ref'][j]\n",
    "            bcode = bibcodes[cite]\n",
    "            cites = \"\\\\citet{\" + bcode + \"}\"\n",
    "            newline = \"\\\\\\\\\"\n",
    "            if (i == len(compact_sys) - 1) * (j == len(compact_sys[i][\"a\"])): \n",
    "                newline = \"\"\n",
    "            \n",
    "       \n",
    "            f.write(f\"{name} & {m_prior} & {a_prior} & {e_prior} & {r_prior} & {cites} {newline}\\n\")"
   ]
  },
  {
   "cell_type": "code",
   "execution_count": 18,
   "metadata": {},
   "outputs": [
    {
     "data": {
      "text/plain": [
       "Text(0, 0.5, 'cumulative fraction')"
      ]
     },
     "execution_count": 18,
     "metadata": {},
     "output_type": "execute_result"
    },
    {
     "data": {
      "image/png": "[encoded data removed]",
      "text/plain": [
       "<Figure size 432x288 with 1 Axes>"
      ]
     },
     "metadata": {
      "needs_background": "light"
     },
     "output_type": "display_data"
    }
   ],
   "source": [
    "es = []\n",
    "for i in range(len(cs2)):\n",
    "    es = np.hstack((es, cs2[i][\"e\"]))\n",
    "\n",
    "n, bins = np.histogram(es[~np.isnan(es) * (es<0.5)], bins=1000)\n",
    "bins = bins[1:]\n",
    "n = np.cumsum(n)/np.sum(n)\n",
    "\n",
    "def _pow(x, a, b):\n",
    "    return a*x**b\n",
    "\n",
    "[a, b], corr = curve_fit(_pow, bins, n)\n",
    "\n",
    "plt.plot(bins, n)\n",
    "x = np.linspace(bins.min(), bins.max(), 1000)\n",
    "plt.plot(x, _pow(x,a,b))\n",
    "# plt.fill_between(x, \n",
    "#                  _pow(x, a-np.sqrt(corr[0,0]), b+np.sqrt(corr[1,1])),  \n",
    "#                 _pow(x, a+np.sqrt(corr[0,0]), b-np.sqrt(corr[1,1])),\n",
    "#                 color=\"b\", alpha = 0.3)\n",
    "\n",
    "\n",
    "# plt.yscale(\"log\")\n",
    "# plt.xscale(\"log\")\n",
    "plt.xlabel(\"eccentricity\")\n",
    "plt.ylabel(\"cumulative fraction\")\n"
   ]
  },
  {
   "cell_type": "code",
   "execution_count": 19,
   "metadata": {},
   "outputs": [],
   "source": [
    "np.save(\"e_dist_run.npy\", np.vstack((bins, n)))"
   ]
  },
  {
   "cell_type": "code",
   "execution_count": 52,
   "metadata": {},
   "outputs": [
    {
     "data": {
      "text/plain": [
       "Text(0, 0.5, 'cumulative fraction')"
      ]
     },
     "execution_count": 52,
     "metadata": {},
     "output_type": "execute_result"
    },
    {
     "data": {
      "image/png": "[encoded data removed]",
      "text/plain": [
       "<Figure size 432x288 with 1 Axes>"
      ]
     },
     "metadata": {
      "needs_background": "light"
     },
     "output_type": "display_data"
    }
   ],
   "source": [
    "es = []\n",
    "for i in range(len(compact_sys)):\n",
    "    es = np.hstack((es, compact_sys[i][\"st_mass\"]))\n",
    "\n",
    "n, bins = np.histogram(es[~np.isnan(es) ], bins=1000)\n",
    "bins = bins[1:]\n",
    "n = np.cumsum(n)/np.sum(n)\n",
    "\n",
    "def _pow(x, a, b):\n",
    "    return a*x**b\n",
    "\n",
    "[a, b], corr = curve_fit(_pow, bins, n)\n",
    "\n",
    "plt.plot(bins, n)\n",
    "x = np.linspace(bins.min(), bins.max(), 1000)\n",
    "plt.plot(x, _pow(x,a,b))\n",
    "# plt.fill_between(x, \n",
    "#                  _pow(x, a-np.sqrt(corr[0,0]), b+np.sqrt(corr[1,1])),  \n",
    "#                 _pow(x, a+np.sqrt(corr[0,0]), b-np.sqrt(corr[1,1])),\n",
    "#                 color=\"b\", alpha = 0.3)\n",
    "\n",
    "\n",
    "# plt.yscale(\"log\")\n",
    "# plt.xscale(\"log\")\n",
    "plt.xlabel(\"stellar_mass\")\n",
    "plt.ylabel(\"cumulative fraction\")\n",
    "# np.save(\"st_mass_dist.npy\", np.vstack((bins, n)))"
   ]
  },
  {
   "cell_type": "code",
   "execution_count": 50,
   "metadata": {},
   "outputs": [],
   "source": [
    "from scipy.interpolate import interp1d\n",
    "\n",
    "mass, cdf = np.load(\"data/st_mass_dist.npy\")\n",
    "mass_func = interp1d(cdf, mass)\n",
    "MASS_CDF_MIN = np.min(cdf)\n",
    "MASS_CDF_MAX = np.max(cdf)"
   ]
  },
  {
   "cell_type": "code",
   "execution_count": 62,
   "metadata": {},
   "outputs": [
    {
     "data": {
      "image/png": "[encoded data removed]",
      "text/plain": [
       "<Figure size 432x288 with 1 Axes>"
      ]
     },
     "metadata": {
      "needs_background": "light"
     },
     "output_type": "display_data"
    }
   ],
   "source": [
    "x = np.linspace(MASS_CDF_MIN, MASS_CDF_MAX)\n",
    "plt.plot(mass_func(x), x)\n",
    "plt.xlabel(r\"Stellar Mass ($M_\\odot$)\")\n",
    "plt.ylabel(r\"Cumulative Distribution\")\n",
    "plt.savefig(\"figs/emperical_mass_dist.png\")\n",
    "plt.show()"
   ]
  },
  {
   "cell_type": "code",
   "execution_count": 48,
   "metadata": {},
   "outputs": [
    {
     "ename": "ValueError",
     "evalue": "A value in x_new is below the interpolation range.",
     "output_type": "error",
     "traceback": [
      "\u001b[0;31m---------------------------------------------------------------------------\u001b[0m",
      "\u001b[0;31mValueError\u001b[0m                                Traceback (most recent call last)",
      "\u001b[1;32m/scratch/gpfs/wcukier/binary_planets/play_exoplanets.ipynb Cell 24'\u001b[0m in \u001b[0;36m<cell line: 1>\u001b[0;34m()\u001b[0m\n\u001b[0;32m----> <a href='vscode-notebook-cell://ssh-remote%2Bstellar/scratch/gpfs/wcukier/binary_planets/play_exoplanets.ipynb#ch0000050vscode-remote?line=0'>1</a>\u001b[0m plt\u001b[39m.\u001b[39mplot(x, mass_func(x))\n",
      "File \u001b[0;32m/usr/licensed/anaconda3/2022.5/lib/python3.9/site-packages/scipy/interpolate/polyint.py:78\u001b[0m, in \u001b[0;36m_Interpolator1D.__call__\u001b[0;34m(self, x)\u001b[0m\n\u001b[1;32m     57\u001b[0m \u001b[39m\"\"\"\u001b[39;00m\n\u001b[1;32m     58\u001b[0m \u001b[39mEvaluate the interpolant\u001b[39;00m\n\u001b[1;32m     59\u001b[0m \n\u001b[0;32m   (...)\u001b[0m\n\u001b[1;32m     75\u001b[0m \n\u001b[1;32m     76\u001b[0m \u001b[39m\"\"\"\u001b[39;00m\n\u001b[1;32m     77\u001b[0m x, x_shape \u001b[39m=\u001b[39m \u001b[39mself\u001b[39m\u001b[39m.\u001b[39m_prepare_x(x)\n\u001b[0;32m---> 78\u001b[0m y \u001b[39m=\u001b[39m \u001b[39mself\u001b[39;49m\u001b[39m.\u001b[39;49m_evaluate(x)\n\u001b[1;32m     79\u001b[0m \u001b[39mreturn\u001b[39;00m \u001b[39mself\u001b[39m\u001b[39m.\u001b[39m_finish_y(y, x_shape)\n",
      "File \u001b[0;32m/usr/licensed/anaconda3/2022.5/lib/python3.9/site-packages/scipy/interpolate/interpolate.py:684\u001b[0m, in \u001b[0;36minterp1d._evaluate\u001b[0;34m(self, x_new)\u001b[0m\n\u001b[1;32m    682\u001b[0m y_new \u001b[39m=\u001b[39m \u001b[39mself\u001b[39m\u001b[39m.\u001b[39m_call(\u001b[39mself\u001b[39m, x_new)\n\u001b[1;32m    683\u001b[0m \u001b[39mif\u001b[39;00m \u001b[39mnot\u001b[39;00m \u001b[39mself\u001b[39m\u001b[39m.\u001b[39m_extrapolate:\n\u001b[0;32m--> 684\u001b[0m     below_bounds, above_bounds \u001b[39m=\u001b[39m \u001b[39mself\u001b[39;49m\u001b[39m.\u001b[39;49m_check_bounds(x_new)\n\u001b[1;32m    685\u001b[0m     \u001b[39mif\u001b[39;00m \u001b[39mlen\u001b[39m(y_new) \u001b[39m>\u001b[39m \u001b[39m0\u001b[39m:\n\u001b[1;32m    686\u001b[0m         \u001b[39m# Note fill_value must be broadcast up to the proper size\u001b[39;00m\n\u001b[1;32m    687\u001b[0m         \u001b[39m# and flattened to work here\u001b[39;00m\n\u001b[1;32m    688\u001b[0m         y_new[below_bounds] \u001b[39m=\u001b[39m \u001b[39mself\u001b[39m\u001b[39m.\u001b[39m_fill_value_below\n",
      "File \u001b[0;32m/usr/licensed/anaconda3/2022.5/lib/python3.9/site-packages/scipy/interpolate/interpolate.py:713\u001b[0m, in \u001b[0;36minterp1d._check_bounds\u001b[0;34m(self, x_new)\u001b[0m\n\u001b[1;32m    711\u001b[0m \u001b[39m# !! Could provide more information about which values are out of bounds\u001b[39;00m\n\u001b[1;32m    712\u001b[0m \u001b[39mif\u001b[39;00m \u001b[39mself\u001b[39m\u001b[39m.\u001b[39mbounds_error \u001b[39mand\u001b[39;00m below_bounds\u001b[39m.\u001b[39many():\n\u001b[0;32m--> 713\u001b[0m     \u001b[39mraise\u001b[39;00m \u001b[39mValueError\u001b[39;00m(\u001b[39m\"\u001b[39m\u001b[39mA value in x_new is below the interpolation \u001b[39m\u001b[39m\"\u001b[39m\n\u001b[1;32m    714\u001b[0m                      \u001b[39m\"\u001b[39m\u001b[39mrange.\u001b[39m\u001b[39m\"\u001b[39m)\n\u001b[1;32m    715\u001b[0m \u001b[39mif\u001b[39;00m \u001b[39mself\u001b[39m\u001b[39m.\u001b[39mbounds_error \u001b[39mand\u001b[39;00m above_bounds\u001b[39m.\u001b[39many():\n\u001b[1;32m    716\u001b[0m     \u001b[39mraise\u001b[39;00m \u001b[39mValueError\u001b[39;00m(\u001b[39m\"\u001b[39m\u001b[39mA value in x_new is above the interpolation \u001b[39m\u001b[39m\"\u001b[39m\n\u001b[1;32m    717\u001b[0m                      \u001b[39m\"\u001b[39m\u001b[39mrange.\u001b[39m\u001b[39m\"\u001b[39m)\n",
      "\u001b[0;31mValueError\u001b[0m: A value in x_new is below the interpolation range."
     ]
    }
   ],
   "source": []
  },
  {
   "cell_type": "code",
   "execution_count": 82,
   "metadata": {},
   "outputs": [
    {
     "name": "stdout",
     "output_type": "stream",
     "text": [
      "{'mass': [nan, nan, nan], 'e': [0.032, 0.098, 0.16], 'a': [2.1, 3.6, 11.6]}\n"
     ]
    }
   ],
   "source": [
    "for key in sys.keys():\n",
    "    s = sys[key]\n",
    "    print(s)\n",
    "    break"
   ]
  },
  {
   "cell_type": "code",
   "execution_count": 47,
   "metadata": {},
   "outputs": [
    {
     "data": {
      "text/plain": [
       "'14 Her b'"
      ]
     },
     "execution_count": 47,
     "metadata": {},
     "output_type": "execute_result"
    }
   ],
   "source": [
    "p[1][\"pl_name\"]"
   ]
  },
  {
   "cell_type": "code",
   "execution_count": 55,
   "metadata": {},
   "outputs": [
    {
     "data": {
      "text/plain": [
       "309"
      ]
     },
     "execution_count": 55,
     "metadata": {},
     "output_type": "execute_result"
    }
   ],
   "source": [
    "len(sys.keys())"
   ]
  },
  {
   "cell_type": "code",
   "execution_count": 74,
   "metadata": {},
   "outputs": [
    {
     "data": {
      "image/png": "[encoded data removed]",
      "text/plain": [
       "<Figure size 640x480 with 1 Axes>"
      ]
     },
     "metadata": {},
     "output_type": "display_data"
    }
   ],
   "source": [
    "\n",
    "for i in range(len(sys.keys())):\n",
    "    for p in sys[list(sys.keys())[i]].keys():\n",
    "        plt.scatter([sys[list(sys.keys())[i]][p][\"a\"]], [i])\n",
    "        \n",
    "    if i > 10: break\n",
    "    plt.xlim(0, 1)"
   ]
  },
  {
   "cell_type": "code",
   "execution_count": 67,
   "metadata": {},
   "outputs": [
    {
     "data": {
      "text/plain": [
       "0.1134"
      ]
     },
     "execution_count": 67,
     "metadata": {},
     "output_type": "execute_result"
    }
   ],
   "source": [
    "sys[list(sys.keys())[1]][p][\"a\"]"
   ]
  },
  {
   "cell_type": "code",
   "execution_count": 113,
   "metadata": {},
   "outputs": [],
   "source": [
    "from scipy.stats import skewnorm, norm\n"
   ]
  },
  {
   "cell_type": "code",
   "execution_count": 130,
   "metadata": {},
   "outputs": [
    {
     "name": "stdout",
     "output_type": "stream",
     "text": [
      "\u001b[0;31mSignature:\u001b[0m\n",
      "\u001b[0mcurve_fit\u001b[0m\u001b[0;34m(\u001b[0m\u001b[0;34m\u001b[0m\n",
      "\u001b[0;34m\u001b[0m    \u001b[0mf\u001b[0m\u001b[0;34m,\u001b[0m\u001b[0;34m\u001b[0m\n",
      "\u001b[0;34m\u001b[0m    \u001b[0mxdata\u001b[0m\u001b[0;34m,\u001b[0m\u001b[0;34m\u001b[0m\n",
      "\u001b[0;34m\u001b[0m    \u001b[0mydata\u001b[0m\u001b[0;34m,\u001b[0m\u001b[0;34m\u001b[0m\n",
      "\u001b[0;34m\u001b[0m    \u001b[0mp0\u001b[0m\u001b[0;34m=\u001b[0m\u001b[0;32mNone\u001b[0m\u001b[0;34m,\u001b[0m\u001b[0;34m\u001b[0m\n",
      "\u001b[0;34m\u001b[0m    \u001b[0msigma\u001b[0m\u001b[0;34m=\u001b[0m\u001b[0;32mNone\u001b[0m\u001b[0;34m,\u001b[0m\u001b[0;34m\u001b[0m\n",
      "\u001b[0;34m\u001b[0m    \u001b[0mabsolute_sigma\u001b[0m\u001b[0;34m=\u001b[0m\u001b[0;32mFalse\u001b[0m\u001b[0;34m,\u001b[0m\u001b[0;34m\u001b[0m\n",
      "\u001b[0;34m\u001b[0m    \u001b[0mcheck_finite\u001b[0m\u001b[0;34m=\u001b[0m\u001b[0;32mTrue\u001b[0m\u001b[0;34m,\u001b[0m\u001b[0;34m\u001b[0m\n",
      "\u001b[0;34m\u001b[0m    \u001b[0mbounds\u001b[0m\u001b[0;34m=\u001b[0m\u001b[0;34m(\u001b[0m\u001b[0;34m-\u001b[0m\u001b[0minf\u001b[0m\u001b[0;34m,\u001b[0m \u001b[0minf\u001b[0m\u001b[0;34m)\u001b[0m\u001b[0;34m,\u001b[0m\u001b[0;34m\u001b[0m\n",
      "\u001b[0;34m\u001b[0m    \u001b[0mmethod\u001b[0m\u001b[0;34m=\u001b[0m\u001b[0;32mNone\u001b[0m\u001b[0;34m,\u001b[0m\u001b[0;34m\u001b[0m\n",
      "\u001b[0;34m\u001b[0m    \u001b[0mjac\u001b[0m\u001b[0;34m=\u001b[0m\u001b[0;32mNone\u001b[0m\u001b[0;34m,\u001b[0m\u001b[0;34m\u001b[0m\n",
      "\u001b[0;34m\u001b[0m    \u001b[0;34m*\u001b[0m\u001b[0;34m,\u001b[0m\u001b[0;34m\u001b[0m\n",
      "\u001b[0;34m\u001b[0m    \u001b[0mfull_output\u001b[0m\u001b[0;34m=\u001b[0m\u001b[0;32mFalse\u001b[0m\u001b[0;34m,\u001b[0m\u001b[0;34m\u001b[0m\n",
      "\u001b[0;34m\u001b[0m    \u001b[0;34m**\u001b[0m\u001b[0mkwargs\u001b[0m\u001b[0;34m,\u001b[0m\u001b[0;34m\u001b[0m\n",
      "\u001b[0;34m\u001b[0m\u001b[0;34m)\u001b[0m\u001b[0;34m\u001b[0m\u001b[0;34m\u001b[0m\u001b[0m\n",
      "\u001b[0;31mDocstring:\u001b[0m\n",
      "Use non-linear least squares to fit a function, f, to data.\n",
      "\n",
      "Assumes ``ydata = f(xdata, *params) + eps``.\n",
      "\n",
      "Parameters\n",
      "----------\n",
      "f : callable\n",
      "    The model function, f(x, ...). It must take the independent\n",
      "    variable as the first argument and the parameters to fit as\n",
      "    separate remaining arguments.\n",
      "xdata : array_like\n",
      "    The independent variable where the data is measured.\n",
      "    Should usually be an M-length sequence or an (k,M)-shaped array for\n",
      "    functions with k predictors, and each element should be float\n",
      "    convertible if it is an array like object.\n",
      "ydata : array_like\n",
      "    The dependent data, a length M array - nominally ``f(xdata, ...)``.\n",
      "p0 : array_like, optional\n",
      "    Initial guess for the parameters (length N). If None, then the\n",
      "    initial values will all be 1 (if the number of parameters for the\n",
      "    function can be determined using introspection, otherwise a\n",
      "    ValueError is raised).\n",
      "sigma : None or M-length sequence or MxM array, optional\n",
      "    Determines the uncertainty in `ydata`. If we define residuals as\n",
      "    ``r = ydata - f(xdata, *popt)``, then the interpretation of `sigma`\n",
      "    depends on its number of dimensions:\n",
      "\n",
      "        - A 1-D `sigma` should contain values of standard deviations of\n",
      "          errors in `ydata`. In this case, the optimized function is\n",
      "          ``chisq = sum((r / sigma) ** 2)``.\n",
      "\n",
      "        - A 2-D `sigma` should contain the covariance matrix of\n",
      "          errors in `ydata`. In this case, the optimized function is\n",
      "          ``chisq = r.T @ inv(sigma) @ r``.\n",
      "\n",
      "          .. versionadded:: 0.19\n",
      "\n",
      "    None (default) is equivalent of 1-D `sigma` filled with ones.\n",
      "absolute_sigma : bool, optional\n",
      "    If True, `sigma` is used in an absolute sense and the estimated parameter\n",
      "    covariance `pcov` reflects these absolute values.\n",
      "\n",
      "    If False (default), only the relative magnitudes of the `sigma` values matter.\n",
      "    The returned parameter covariance matrix `pcov` is based on scaling\n",
      "    `sigma` by a constant factor. This constant is set by demanding that the\n",
      "    reduced `chisq` for the optimal parameters `popt` when using the\n",
      "    *scaled* `sigma` equals unity. In other words, `sigma` is scaled to\n",
      "    match the sample variance of the residuals after the fit. Default is False.\n",
      "    Mathematically,\n",
      "    ``pcov(absolute_sigma=False) = pcov(absolute_sigma=True) * chisq(popt)/(M-N)``\n",
      "check_finite : bool, optional\n",
      "    If True, check that the input arrays do not contain nans of infs,\n",
      "    and raise a ValueError if they do. Setting this parameter to\n",
      "    False may silently produce nonsensical results if the input arrays\n",
      "    do contain nans. Default is True.\n",
      "bounds : 2-tuple of array_like or `Bounds`, optional\n",
      "    Lower and upper bounds on parameters. Defaults to no bounds.\n",
      "    There are two ways to specify the bounds:\n",
      "\n",
      "        - Instance of `Bounds` class.\n",
      "\n",
      "        - 2-tuple of array_like: Each element of the tuple must be either\n",
      "          an array with the length equal to the number of parameters, or a\n",
      "          scalar (in which case the bound is taken to be the same for all\n",
      "          parameters). Use ``np.inf`` with an appropriate sign to disable\n",
      "          bounds on all or some parameters.\n",
      "\n",
      "method : {'lm', 'trf', 'dogbox'}, optional\n",
      "    Method to use for optimization. See `least_squares` for more details.\n",
      "    Default is 'lm' for unconstrained problems and 'trf' if `bounds` are\n",
      "    provided. The method 'lm' won't work when the number of observations\n",
      "    is less than the number of variables, use 'trf' or 'dogbox' in this\n",
      "    case.\n",
      "\n",
      "    .. versionadded:: 0.17\n",
      "jac : callable, string or None, optional\n",
      "    Function with signature ``jac(x, ...)`` which computes the Jacobian\n",
      "    matrix of the model function with respect to parameters as a dense\n",
      "    array_like structure. It will be scaled according to provided `sigma`.\n",
      "    If None (default), the Jacobian will be estimated numerically.\n",
      "    String keywords for 'trf' and 'dogbox' methods can be used to select\n",
      "    a finite difference scheme, see `least_squares`.\n",
      "\n",
      "    .. versionadded:: 0.18\n",
      "full_output : boolean, optional\n",
      "    If True, this function returns additioal information: `infodict`,\n",
      "    `mesg`, and `ier`.\n",
      "\n",
      "    .. versionadded:: 1.9\n",
      "**kwargs\n",
      "    Keyword arguments passed to `leastsq` for ``method='lm'`` or\n",
      "    `least_squares` otherwise.\n",
      "\n",
      "Returns\n",
      "-------\n",
      "popt : array\n",
      "    Optimal values for the parameters so that the sum of the squared\n",
      "    residuals of ``f(xdata, *popt) - ydata`` is minimized.\n",
      "pcov : 2-D array\n",
      "    The estimated covariance of popt. The diagonals provide the variance\n",
      "    of the parameter estimate. To compute one standard deviation errors\n",
      "    on the parameters use ``perr = np.sqrt(np.diag(pcov))``.\n",
      "\n",
      "    How the `sigma` parameter affects the estimated covariance\n",
      "    depends on `absolute_sigma` argument, as described above.\n",
      "\n",
      "    If the Jacobian matrix at the solution doesn't have a full rank, then\n",
      "    'lm' method returns a matrix filled with ``np.inf``, on the other hand\n",
      "    'trf'  and 'dogbox' methods use Moore-Penrose pseudoinverse to compute\n",
      "    the covariance matrix.\n",
      "infodict : dict (returned only if `full_output` is True)\n",
      "    a dictionary of optional outputs with the keys:\n",
      "\n",
      "    ``nfev``\n",
      "        The number of function calls. Methods 'trf' and 'dogbox' do not\n",
      "        count function calls for numerical Jacobian approximation,\n",
      "        as opposed to 'lm' method.\n",
      "    ``fvec``\n",
      "        The function values evaluated at the solution.\n",
      "    ``fjac``\n",
      "        A permutation of the R matrix of a QR\n",
      "        factorization of the final approximate\n",
      "        Jacobian matrix, stored column wise.\n",
      "        Together with ipvt, the covariance of the\n",
      "        estimate can be approximated.\n",
      "        Method 'lm' only provides this information.\n",
      "    ``ipvt``\n",
      "        An integer array of length N which defines\n",
      "        a permutation matrix, p, such that\n",
      "        fjac*p = q*r, where r is upper triangular\n",
      "        with diagonal elements of nonincreasing\n",
      "        magnitude. Column j of p is column ipvt(j)\n",
      "        of the identity matrix.\n",
      "        Method 'lm' only provides this information.\n",
      "    ``qtf``\n",
      "        The vector (transpose(q) * fvec).\n",
      "        Method 'lm' only provides this information.\n",
      "\n",
      "    .. versionadded:: 1.9\n",
      "mesg : str (returned only if `full_output` is True)\n",
      "    A string message giving information about the solution.\n",
      "\n",
      "    .. versionadded:: 1.9\n",
      "ier : int (returnned only if `full_output` is True)\n",
      "    An integer flag. If it is equal to 1, 2, 3 or 4, the solution was\n",
      "    found. Otherwise, the solution was not found. In either case, the\n",
      "    optional output variable `mesg` gives more information.\n",
      "\n",
      "    .. versionadded:: 1.9\n",
      "\n",
      "Raises\n",
      "------\n",
      "ValueError\n",
      "    if either `ydata` or `xdata` contain NaNs, or if incompatible options\n",
      "    are used.\n",
      "\n",
      "RuntimeError\n",
      "    if the least-squares minimization fails.\n",
      "\n",
      "OptimizeWarning\n",
      "    if covariance of the parameters can not be estimated.\n",
      "\n",
      "See Also\n",
      "--------\n",
      "least_squares : Minimize the sum of squares of nonlinear functions.\n",
      "scipy.stats.linregress : Calculate a linear least squares regression for\n",
      "                         two sets of measurements.\n",
      "\n",
      "Notes\n",
      "-----\n",
      "Users should ensure that inputs `xdata`, `ydata`, and the output of `f`\n",
      "are ``float64``, or else the optimization may return incorrect results.\n",
      "\n",
      "With ``method='lm'``, the algorithm uses the Levenberg-Marquardt algorithm\n",
      "through `leastsq`. Note that this algorithm can only deal with\n",
      "unconstrained problems.\n",
      "\n",
      "Box constraints can be handled by methods 'trf' and 'dogbox'. Refer to\n",
      "the docstring of `least_squares` for more information.\n",
      "\n",
      "Examples\n",
      "--------\n",
      ">>> import numpy as np\n",
      ">>> import matplotlib.pyplot as plt\n",
      ">>> from scipy.optimize import curve_fit\n",
      "\n",
      ">>> def func(x, a, b, c):\n",
      "...     return a * np.exp(-b * x) + c\n",
      "\n",
      "Define the data to be fit with some noise:\n",
      "\n",
      ">>> xdata = np.linspace(0, 4, 50)\n",
      ">>> y = func(xdata, 2.5, 1.3, 0.5)\n",
      ">>> rng = np.random.default_rng()\n",
      ">>> y_noise = 0.2 * rng.normal(size=xdata.size)\n",
      ">>> ydata = y + y_noise\n",
      ">>> plt.plot(xdata, ydata, 'b-', label='data')\n",
      "\n",
      "Fit for the parameters a, b, c of the function `func`:\n",
      "\n",
      ">>> popt, pcov = curve_fit(func, xdata, ydata)\n",
      ">>> popt\n",
      "array([2.56274217, 1.37268521, 0.47427475])\n",
      ">>> plt.plot(xdata, func(xdata, *popt), 'r-',\n",
      "...          label='fit: a=%5.3f, b=%5.3f, c=%5.3f' % tuple(popt))\n",
      "\n",
      "Constrain the optimization to the region of ``0 <= a <= 3``,\n",
      "``0 <= b <= 1`` and ``0 <= c <= 0.5``:\n",
      "\n",
      ">>> popt, pcov = curve_fit(func, xdata, ydata, bounds=(0, [3., 1., 0.5]))\n",
      ">>> popt\n",
      "array([2.43736712, 1.        , 0.34463856])\n",
      ">>> plt.plot(xdata, func(xdata, *popt), 'g--',\n",
      "...          label='fit: a=%5.3f, b=%5.3f, c=%5.3f' % tuple(popt))\n",
      "\n",
      ">>> plt.xlabel('x')\n",
      ">>> plt.ylabel('y')\n",
      ">>> plt.legend()\n",
      ">>> plt.show()\n",
      "\u001b[0;31mFile:\u001b[0m      ~/.conda/envs/binary_planets/lib/python3.10/site-packages/scipy/optimize/_minpack_py.py\n",
      "\u001b[0;31mType:\u001b[0m      function"
     ]
    }
   ],
   "source": [
    "curve_fit?"
   ]
  },
  {
   "cell_type": "code",
   "execution_count": 132,
   "metadata": {},
   "outputs": [],
   "source": []
  },
  {
   "cell_type": "code",
   "execution_count": 143,
   "metadata": {},
   "outputs": [],
   "source": []
  },
  {
   "cell_type": "code",
   "execution_count": 170,
   "metadata": {},
   "outputs": [
    {
     "name": "stderr",
     "output_type": "stream",
     "text": [
      "/home/wcukier/.conda/envs/binary_planets/lib/python3.10/site-packages/scipy/optimize/_minpack_py.py:178: RuntimeWarning: The iteration is not making good progress, as measured by the \n",
      "  improvement from the last five Jacobian evaluations.\n",
      "  warnings.warn(msg, RuntimeWarning)\n"
     ]
    },
    {
     "data": {
      "text/plain": [
       "[<matplotlib.lines.Line2D at 0x14db02c31450>]"
      ]
     },
     "execution_count": 170,
     "metadata": {},
     "output_type": "execute_result"
    },
    {
     "data": {
      "image/png": "[encoded data removed]",
      "text/plain": [
       "<Figure size 640x480 with 1 Axes>"
      ]
     },
     "metadata": {},
     "output_type": "display_data"
    }
   ],
   "source": [
    "from scipy.special import erf, owens_t\n",
    "from scipy.optimize import fsolve\n",
    "\n",
    "upper = 2\n",
    "lower = -1.5\n",
    "\n",
    "def equations(p, lo, hi, med):\n",
    "    a, b, c = p\n",
    "    return(skewnorm.cdf((lo-a)/b, c) -.16, \n",
    "           skewnorm.cdf((med-a)/b, c) -0.5,\n",
    "           skewnorm.cdf((hi-a)/b, c) -.84)\n",
    "    \n",
    "    \n",
    "a,b,c = fsolve(equations, [1,1,1], args=(-1, 2, 0))\n",
    "\n",
    "x = np.linspace(-5, 5)\n",
    "plt.plot(x, skewnorm.cdf((x-a)/b, c))\n",
    "plt.plot([-5, 5], [.16, .16])\n",
    "plt.plot([-5,5], [.84, .84])\n",
    "plt.plot([lower, lower], [0,1])\n",
    "plt.plot([upper,upper], [0,1])"
   ]
  },
  {
   "cell_type": "code",
   "execution_count": 168,
   "metadata": {},
   "outputs": [
    {
     "data": {
      "text/plain": [
       "[<matplotlib.lines.Line2D at 0x14db02d30190>]"
      ]
     },
     "execution_count": 168,
     "metadata": {},
     "output_type": "execute_result"
    },
    {
     "data": {
      "image/png": "[encoded data removed]",
      "text/plain": [
       "<Figure size 640x480 with 1 Axes>"
      ]
     },
     "metadata": {},
     "output_type": "display_data"
    }
   ],
   "source": [
    "plt.plot(x, skewnorm.pdf((x-a)/b, c))\n"
   ]
  },
  {
   "cell_type": "code",
   "execution_count": 8,
   "metadata": {},
   "outputs": [
    {
     "name": "stderr",
     "output_type": "stream",
     "text": [
      "/home/wcukier/.conda/envs/binary_planets/lib/python3.10/site-packages/scipy/optimize/_minpack_py.py:906: OptimizeWarning: Covariance of the parameters could not be estimated\n",
      "  warnings.warn('Covariance of the parameters could not be estimated',\n"
     ]
    },
    {
     "data": {
      "text/plain": [
       "[<matplotlib.lines.Line2D at 0x151f9bf5ebc0>]"
      ]
     },
     "execution_count": 8,
     "metadata": {},
     "output_type": "execute_result"
    },
    {
     "data": {
      "image/png": "[encoded data removed]",
      "text/plain": [
       "<Figure size 640x480 with 1 Axes>"
      ]
     },
     "metadata": {},
     "output_type": "display_data"
    }
   ],
   "source": [
    "from scipy.stats import skewnorm\n",
    "upper = .5\n",
    "lower = -1.5\n",
    "\n",
    "def f(x, a, b, c):\n",
    "    # return 1/2*(1 + erf(((x-a)/b)np.sqrt(2))) - 2*owens_t((x-a)/b, c)\n",
    "    return skewnorm.cdf(x,a,b,c)\n",
    "    \n",
    "[a, b, c], _ = curve_fit(f, [lower, 0, upper], [.16, .5, .84])\n",
    "\n",
    "x = np.linspace(-5, 5, 10000)\n",
    "plt.plot(x, f(x, a, b, c))\n",
    "plt.plot([-5, 5], [.17, .17])\n",
    "plt.plot([-5,5], [.83, .83])\n",
    "plt.plot([lower, lower], [0,1])\n",
    "plt.plot([upper,upper], [0,1])"
   ]
  },
  {
   "cell_type": "code",
   "execution_count": 245,
   "metadata": {},
   "outputs": [
    {
     "data": {
      "text/plain": [
       "[<matplotlib.lines.Line2D at 0x14db01497b20>]"
      ]
     },
     "execution_count": 245,
     "metadata": {},
     "output_type": "execute_result"
    },
    {
     "data": {
      "image/png": "[encoded data removed]",
      "text/plain": [
       "<Figure size 640x480 with 1 Axes>"
      ]
     },
     "metadata": {},
     "output_type": "display_data"
    }
   ],
   "source": [
    "plt.hist((skewnorm.rvs(a,b,c, size=1000000)), density=True, bins=50)\n",
    "plt.plot(x, skewnorm.pdf(x,a,b,c))"
   ]
  },
  {
   "cell_type": "code",
   "execution_count": 10,
   "metadata": {},
   "outputs": [],
   "source": [
    "min_mass = np.inf\n",
    "max_mass = 0\n",
    "for sys in compact_sys:\n",
    "    min_mass = min(min_mass, np.min(sys[\"mass\"]))\n",
    "    max_mass = max(max_mass, np.max(sys[\"mass\"]))"
   ]
  },
  {
   "cell_type": "code",
   "execution_count": 11,
   "metadata": {},
   "outputs": [
    {
     "data": {
      "text/plain": [
       "0.76"
      ]
     },
     "execution_count": 11,
     "metadata": {},
     "output_type": "execute_result"
    }
   ],
   "source": [
    "min_mass"
   ]
  },
  {
   "cell_type": "code",
   "execution_count": 12,
   "metadata": {},
   "outputs": [
    {
     "data": {
      "text/plain": [
       "36.0"
      ]
     },
     "execution_count": 12,
     "metadata": {},
     "output_type": "execute_result"
    }
   ],
   "source": [
    "max_mass"
   ]
  },
  {
   "cell_type": "code",
   "execution_count": 251,
   "metadata": {},
   "outputs": [
    {
     "data": {
      "text/plain": [
       "array([[2.90000000e-04, 5.80000000e-04, 8.70000000e-04, ...,\n",
       "        2.89420000e-01, 2.89710000e-01, 2.90000000e-01],\n",
       "       [2.28571429e-01, 2.28571429e-01, 2.28571429e-01, ...,\n",
       "        9.71428571e-01, 9.71428571e-01, 1.00000000e+00]])"
      ]
     },
     "execution_count": 251,
     "metadata": {},
     "output_type": "execute_result"
    }
   ],
   "source": [
    "np.load(\"data/e_dist.npy\")"
   ]
  },
  {
   "cell_type": "code",
   "execution_count": 248,
   "metadata": {},
   "outputs": [],
   "source": [
    "from scipy.interpolate import interp1d"
   ]
  },
  {
   "cell_type": "code",
   "execution_count": 252,
   "metadata": {},
   "outputs": [],
   "source": [
    "from binary_planets.utils import *"
   ]
  },
  {
   "cell_type": "code",
   "execution_count": 254,
   "metadata": {},
   "outputs": [],
   "source": [
    "%load_ext autoreload\n",
    "%autoreload 2"
   ]
  },
  {
   "cell_type": "code",
   "execution_count": 258,
   "metadata": {},
   "outputs": [
    {
     "data": {
      "text/plain": [
       "{'name': 'K2-138',\n",
       " 'st_mass': 0.94,\n",
       " 'st_upper': 0.02,\n",
       " 'st_lower': -0.02,\n",
       " 'st_lim': 0.0,\n",
       " 'st_ref': '<a refstr=LOPEZ_ET_AL__2019 href=https://ui.adsabs.harvard.edu/abs/2019A&A...631A..90L/abstract target=ref>Lopez et al. 2019</a>',\n",
       " 'mass': array([ 3.1 ,  6.31,  7.92, 12.97,  1.63,  4.32]),\n",
       " 'mass_upper': [1.05, 1.13, 1.39, 1.98, 2.12, 5.26],\n",
       " 'mass_lower': [-1.05, -1.23, -1.35, -1.99, -1.18, -3.03],\n",
       " 'mass_lim': [0.0, 0.0, 0.0, 0.0, 0.0, 0.0],\n",
       " 'r': [1.51, 2.299, 2.39, 3.39, 2.904, 3.013],\n",
       " 'r_upper': [0.11, 0.12, 0.104, 0.156, 0.164, 0.303],\n",
       " 'r_lower': [-0.084, -0.087, -0.084, -0.11, -0.111, -0.251],\n",
       " 'r_lim': [0.0, 0.0, 0.0, 0.0, 0.0, 0.0],\n",
       " 'e': array([0.048, 0.045, 0.043, 0.077, 0.062, 0.059]),\n",
       " 'e_upper': [0.054, 0.051, 0.041, 0.048, 0.064, 0.063],\n",
       " 'e_lower': [-0.033, -0.032, -0.03, -0.049, -0.043, -0.04],\n",
       " 'e_lim': [0.0, 0.0, 0.0, 0.0, 0.0, 0.0],\n",
       " 'a': array([0.03385, 0.04461, 0.05893, 0.0782 , 0.10447, 0.23109]),\n",
       " 'a_upper': [0.00023, 0.0003, 0.0004, 0.00053, 0.0007, 0.00154],\n",
       " 'a_lower': [-0.00029, -0.00038, -0.0005, -0.00066, -0.00088, -0.00196],\n",
       " 'a_lim': [0.0, 0.0, 0.0, 0.0, 0.0, 0.0],\n",
       " 'inc': [87.2, 88.1, 89.0, 88.6, 88.8, 89.4],\n",
       " 'inc_upper': [1.2, 0.7, 0.6, 0.3, 0.2, 0.4],\n",
       " 'inc_lower': [-1.0, -0.7, -0.6, -0.3, -0.2, -0.3],\n",
       " 'inc_lim': [0.0, 0.0, 0.0, 0.0, 0.0, 0.0],\n",
       " 'ref': ['<a refstr=LOPEZ_ET_AL__2019 href=https://ui.adsabs.harvard.edu/abs/2019A&A...631A..90L/abstract target=ref>Lopez et al. 2019</a>',\n",
       "  '<a refstr=LOPEZ_ET_AL__2019 href=https://ui.adsabs.harvard.edu/abs/2019A&A...631A..90L/abstract target=ref>Lopez et al. 2019</a>',\n",
       "  '<a refstr=LOPEZ_ET_AL__2019 href=https://ui.adsabs.harvard.edu/abs/2019A&A...631A..90L/abstract target=ref>Lopez et al. 2019</a>',\n",
       "  '<a refstr=LOPEZ_ET_AL__2019 href=https://ui.adsabs.harvard.edu/abs/2019A&A...631A..90L/abstract target=ref>Lopez et al. 2019</a>',\n",
       "  '<a refstr=LOPEZ_ET_AL__2019 href=https://ui.adsabs.harvard.edu/abs/2019A&A...631A..90L/abstract target=ref>Lopez et al. 2019</a>',\n",
       "  '<a refstr=LOPEZ_ET_AL__2019 href=https://ui.adsabs.harvard.edu/abs/2019A&A...631A..90L/abstract target=ref>Lopez et al. 2019</a>']}"
      ]
     },
     "execution_count": 258,
     "metadata": {},
     "output_type": "execute_result"
    }
   ],
   "source": [
    "compact_sys[0]"
   ]
  },
  {
   "cell_type": "code",
   "execution_count": 264,
   "metadata": {},
   "outputs": [
    {
     "name": "stdout",
     "output_type": "stream",
     "text": [
      "in_else_block\n",
      "30.565279599318565 0.00029320429713491913 0.0716172066842856\n",
      "in_else_block\n",
      "32.91609602851774 -0.0009811473557880498 0.06862799596181426\n",
      "in_else_block\n",
      "3.2145539229751687 0.005316604709494055 0.05599957165310323\n",
      "in_else_block\n",
      "-0.7126666974100822 0.1020179125893225 0.05511126434559874\n",
      "in_else_block\n",
      "5.071686961982787 0.0029163106353952695 0.08759958769465254\n",
      "in_else_block\n",
      "32.11776562028746 0.0016763286113217748 0.08533551048479039\n"
     ]
    },
    {
     "name": "stderr",
     "output_type": "stream",
     "text": [
      "[0.048 0.045 0.043 0.077 0.062 0.059]\n",
      "[0.03304017 0.0741467  0.00602863 0.05781556 0.02717955 0.00821142]\n"
     ]
    },
    {
     "data": {
      "text/plain": [
       "array([0.03304017, 0.0741467 , 0.00602863, 0.05781556, 0.02717955,\n",
       "       0.00821142])"
      ]
     },
     "execution_count": 264,
     "metadata": {},
     "output_type": "execute_result"
    }
   ],
   "source": [
    "\n",
    "get_eccen(compact_sys[0])"
   ]
  },
  {
   "cell_type": "code",
   "execution_count": 262,
   "metadata": {},
   "outputs": [
    {
     "data": {
      "text/plain": [
       "[<matplotlib.lines.Line2D at 0x14db00742cb0>]"
      ]
     },
     "execution_count": 262,
     "metadata": {},
     "output_type": "execute_result"
    },
    {
     "data": {
      "image/png": "[encoded data removed]",
      "text/plain": [
       "<Figure size 640x480 with 1 Axes>"
      ]
     },
     "metadata": {},
     "output_type": "display_data"
    }
   ],
   "source": [
    "plt.plot(x, skewnorm.pdf(x, -11.645921860932454, 0.18196764786507202, 0.12709571795374391))"
   ]
  },
  {
   "cell_type": "code",
   "execution_count": 14,
   "metadata": {},
   "outputs": [
    {
     "data": {
      "text/plain": [
       "[0.10447, 0.23109]"
      ]
     },
     "execution_count": 14,
     "metadata": {},
     "output_type": "execute_result"
    }
   ],
   "source": [
    "compact_sys[0][\"gap\"]"
   ]
  },
  {
   "cell_type": "code",
   "execution_count": null,
   "metadata": {},
   "outputs": [],
   "source": []
  }
 ],
 "metadata": {
  "kernelspec": {
   "display_name": "Python 3.10.9 ('base')",
   "language": "python",
   "name": "python3"
  },
  "language_info": {
   "codemirror_mode": {
    "name": "ipython",
    "version": 3
   },
   "file_extension": ".py",
   "mimetype": "text/x-python",
   "name": "python",
   "nbconvert_exporter": "python",
   "pygments_lexer": "ipython3",
   "version": "3.10.9"
  },
  "orig_nbformat": 4,
  "vscode": {
   "interpreter": {
    "hash": "58f8f3a34cddae1f2f80be62d33c77a7f6964d928f639243d24b7901aa249ea2"
   }
  }
 },
 "nbformat": 4,
 "nbformat_minor": 2
}
