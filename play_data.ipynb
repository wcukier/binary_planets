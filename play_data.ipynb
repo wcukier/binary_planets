{
 "cells": [
  {
   "cell_type": "code",
   "execution_count": null,
   "metadata": {},
   "outputs": [],
   "source": []
  }
 ],
 "metadata": {
  "kernelspec": {
   "display_name": "Python 3.9.7 ('base')",
   "language": "python",
   "name": "python3"
  },
  "language_info": {
   "name": "python",
   "version": "3.9.7"
  },
  "orig_nbformat": 4,
  "vscode": {
   "interpreter": {
    "hash": "5fb03a7c2c2c2b832e5adaf62898c9b16b9209ba1570ab902f6c43e77cb1d8e8"
   }
  }
 },
 "nbformat": 4,
 "nbformat_minor": 2
}
